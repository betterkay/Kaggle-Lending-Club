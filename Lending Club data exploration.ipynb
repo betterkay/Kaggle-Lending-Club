{
 "cells": [
  {
   "cell_type": "markdown",
   "metadata": {},
   "source": [
    "# Lending Club Data Analysis"
   ]
  },
  {
   "cell_type": "markdown",
   "metadata": {},
   "source": [
    "These data set contain complete loan data for all loans issued through the 2007-2015, including the current loan status (Current, Late, Fully Paid, etc.) and latest payment information. The file containing loan data through the \"present\" contains complete loan data for all loans issued through the previous completed calendar quarter. Additional features include credit scores, number of finance inquiries, address including zip codes, and state, and collections among others. The data set is a matrix of about 890 thousand observations and 75 variables. A data dictionary is provided in a separate file. "
   ]
  },
  {
   "cell_type": "code",
   "execution_count": 1,
   "metadata": {
    "collapsed": true
   },
   "outputs": [],
   "source": [
    "# Data: https://www.kaggle.com/wendykan/lending-club-loan-data/data\n",
    "loan <- read.csv(\"loan.csv\", stringsAsFactors = FALSE)\n",
    "loanT <- loan"
   ]
  },
  {
   "cell_type": "markdown",
   "metadata": {},
   "source": [
    "# Data structure"
   ]
  },
  {
   "cell_type": "code",
   "execution_count": 2,
   "metadata": {},
   "outputs": [
    {
     "data": {
      "text/plain": [
       "       id             member_id          loan_amnt      funded_amnt   \n",
       " Min.   :   54734   Min.   :   70473   Min.   :  500   Min.   :  500  \n",
       " 1st Qu.: 9206643   1st Qu.:10877134   1st Qu.: 8000   1st Qu.: 8000  \n",
       " Median :34433267   Median :37095283   Median :13000   Median :13000  \n",
       " Mean   :32465133   Mean   :35001825   Mean   :14755   Mean   :14742  \n",
       " 3rd Qu.:54908135   3rd Qu.:58471347   3rd Qu.:20000   3rd Qu.:20000  \n",
       " Max.   :68617057   Max.   :73544841   Max.   :35000   Max.   :35000  \n",
       "                                                                      \n",
       " funded_amnt_inv     term              int_rate      installment     \n",
       " Min.   :    0   Length:887379      Min.   : 5.32   Min.   :  15.67  \n",
       " 1st Qu.: 8000   Class :character   1st Qu.: 9.99   1st Qu.: 260.70  \n",
       " Median :13000   Mode  :character   Median :12.99   Median : 382.55  \n",
       " Mean   :14702                      Mean   :13.25   Mean   : 436.72  \n",
       " 3rd Qu.:20000                      3rd Qu.:16.20   3rd Qu.: 572.60  \n",
       " Max.   :35000                      Max.   :28.99   Max.   :1445.46  \n",
       "                                                                     \n",
       "    grade            sub_grade          emp_title          emp_length       \n",
       " Length:887379      Length:887379      Length:887379      Length:887379     \n",
       " Class :character   Class :character   Class :character   Class :character  \n",
       " Mode  :character   Mode  :character   Mode  :character   Mode  :character  \n",
       "                                                                            \n",
       "                                                                            \n",
       "                                                                            \n",
       "                                                                            \n",
       " home_ownership       annual_inc      verification_status   issue_d         \n",
       " Length:887379      Min.   :      0   Length:887379       Length:887379     \n",
       " Class :character   1st Qu.:  45000   Class :character    Class :character  \n",
       " Mode  :character   Median :  65000   Mode  :character    Mode  :character  \n",
       "                    Mean   :  75028                                         \n",
       "                    3rd Qu.:  90000                                         \n",
       "                    Max.   :9500000                                         \n",
       "                    NA's   :4                                               \n",
       " loan_status         pymnt_plan            url                desc          \n",
       " Length:887379      Length:887379      Length:887379      Length:887379     \n",
       " Class :character   Class :character   Class :character   Class :character  \n",
       " Mode  :character   Mode  :character   Mode  :character   Mode  :character  \n",
       "                                                                            \n",
       "                                                                            \n",
       "                                                                            \n",
       "                                                                            \n",
       "   purpose             title             zip_code          addr_state       \n",
       " Length:887379      Length:887379      Length:887379      Length:887379     \n",
       " Class :character   Class :character   Class :character   Class :character  \n",
       " Mode  :character   Mode  :character   Mode  :character   Mode  :character  \n",
       "                                                                            \n",
       "                                                                            \n",
       "                                                                            \n",
       "                                                                            \n",
       "      dti           delinq_2yrs      earliest_cr_line   inq_last_6mths   \n",
       " Min.   :   0.00   Min.   : 0.0000   Length:887379      Min.   : 0.0000  \n",
       " 1st Qu.:  11.91   1st Qu.: 0.0000   Class :character   1st Qu.: 0.0000  \n",
       " Median :  17.65   Median : 0.0000   Mode  :character   Median : 0.0000  \n",
       " Mean   :  18.16   Mean   : 0.3144                      Mean   : 0.6946  \n",
       " 3rd Qu.:  23.95   3rd Qu.: 0.0000                      3rd Qu.: 1.0000  \n",
       " Max.   :9999.00   Max.   :39.0000                      Max.   :33.0000  \n",
       "                   NA's   :29                           NA's   :29       \n",
       " mths_since_last_delinq mths_since_last_record    open_acc    \n",
       " Min.   :  0.0          Min.   :  0.0          Min.   : 0.00  \n",
       " 1st Qu.: 15.0          1st Qu.: 51.0          1st Qu.: 8.00  \n",
       " Median : 31.0          Median : 70.0          Median :11.00  \n",
       " Mean   : 34.1          Mean   : 70.1          Mean   :11.55  \n",
       " 3rd Qu.: 50.0          3rd Qu.: 92.0          3rd Qu.:14.00  \n",
       " Max.   :188.0          Max.   :129.0          Max.   :90.00  \n",
       " NA's   :454312         NA's   :750326         NA's   :29     \n",
       "    pub_rec          revol_bal         revol_util       total_acc     \n",
       " Min.   : 0.0000   Min.   :      0   Min.   :  0.00   Min.   :  1.00  \n",
       " 1st Qu.: 0.0000   1st Qu.:   6443   1st Qu.: 37.70   1st Qu.: 17.00  \n",
       " Median : 0.0000   Median :  11875   Median : 56.00   Median : 24.00  \n",
       " Mean   : 0.1953   Mean   :  16921   Mean   : 55.07   Mean   : 25.27  \n",
       " 3rd Qu.: 0.0000   3rd Qu.:  20829   3rd Qu.: 73.60   3rd Qu.: 32.00  \n",
       " Max.   :86.0000   Max.   :2904836   Max.   :892.30   Max.   :169.00  \n",
       " NA's   :29                          NA's   :502      NA's   :29      \n",
       " initial_list_status   out_prncp     out_prncp_inv    total_pymnt   \n",
       " Length:887379       Min.   :    0   Min.   :    0   Min.   :    0  \n",
       " Class :character    1st Qu.:    0   1st Qu.:    0   1st Qu.: 1915  \n",
       " Mode  :character    Median : 6458   Median : 6456   Median : 4895  \n",
       "                     Mean   : 8403   Mean   : 8400   Mean   : 7559  \n",
       "                     3rd Qu.:13659   3rd Qu.:13654   3rd Qu.:10617  \n",
       "                     Max.   :49373   Max.   :49373   Max.   :57778  \n",
       "                                                                    \n",
       " total_pymnt_inv total_rec_prncp total_rec_int     total_rec_late_fee\n",
       " Min.   :    0   Min.   :    0   Min.   :    0.0   Min.   :  0.0000  \n",
       " 1st Qu.: 1900   1st Qu.: 1201   1st Qu.:  441.5   1st Qu.:  0.0000  \n",
       " Median : 4862   Median : 3215   Median : 1073.3   Median :  0.0000  \n",
       " Mean   : 7521   Mean   : 5758   Mean   : 1754.8   Mean   :  0.3967  \n",
       " 3rd Qu.:10566   3rd Qu.: 8000   3rd Qu.: 2238.3   3rd Qu.:  0.0000  \n",
       " Max.   :57778   Max.   :35000   Max.   :24205.6   Max.   :358.6800  \n",
       "                                                                     \n",
       "   recoveries       collection_recovery_fee last_pymnt_d      \n",
       " Min.   :    0.00   Min.   :   0.000        Length:887379     \n",
       " 1st Qu.:    0.00   1st Qu.:   0.000        Class :character  \n",
       " Median :    0.00   Median :   0.000        Mode  :character  \n",
       " Mean   :   45.92   Mean   :   4.881                          \n",
       " 3rd Qu.:    0.00   3rd Qu.:   0.000                          \n",
       " Max.   :33520.27   Max.   :7002.190                          \n",
       "                                                              \n",
       " last_pymnt_amnt   next_pymnt_d       last_credit_pull_d\n",
       " Min.   :    0.0   Length:887379      Length:887379     \n",
       " 1st Qu.:  280.2   Class :character   Class :character  \n",
       " Median :  462.8   Mode  :character   Mode  :character  \n",
       " Mean   : 2164.2                                        \n",
       " 3rd Qu.:  831.2                                        \n",
       " Max.   :36475.6                                        \n",
       "                                                        \n",
       " collections_12_mths_ex_med mths_since_last_major_derog  policy_code\n",
       " Min.   : 0.00000           Min.   :  0.0               Min.   :1   \n",
       " 1st Qu.: 0.00000           1st Qu.: 27.0               1st Qu.:1   \n",
       " Median : 0.00000           Median : 44.0               Median :1   \n",
       " Mean   : 0.01438           Mean   : 44.1               Mean   :1   \n",
       " 3rd Qu.: 0.00000           3rd Qu.: 61.0               3rd Qu.:1   \n",
       " Max.   :20.00000           Max.   :188.0               Max.   :1   \n",
       " NA's   :145                NA's   :665676                          \n",
       " application_type   annual_inc_joint   dti_joint      verification_status_joint\n",
       " Length:887379      Min.   : 17950   Min.   : 3.0     Length:887379            \n",
       " Class :character   1st Qu.: 76033   1st Qu.:13.2     Class :character         \n",
       " Mode  :character   Median :101771   Median :17.6     Mode  :character         \n",
       "                    Mean   :109981   Mean   :18.3                              \n",
       "                    3rd Qu.:132800   3rd Qu.:22.6                              \n",
       "                    Max.   :500000   Max.   :43.9                              \n",
       "                    NA's   :886868   NA's   :886870                            \n",
       " acc_now_delinq       tot_coll_amt      tot_cur_bal       open_acc_6m    \n",
       " Min.   : 0.000000   Min.   :      0   Min.   :      0   Min.   : 0.0    \n",
       " 1st Qu.: 0.000000   1st Qu.:      0   1st Qu.:  29853   1st Qu.: 0.0    \n",
       " Median : 0.000000   Median :      0   Median :  80559   Median : 1.0    \n",
       " Mean   : 0.004991   Mean   :    226   Mean   : 139458   Mean   : 1.1    \n",
       " 3rd Qu.: 0.000000   3rd Qu.:      0   3rd Qu.: 208205   3rd Qu.: 2.0    \n",
       " Max.   :14.000000   Max.   :9152545   Max.   :8000078   Max.   :14.0    \n",
       " NA's   :29          NA's   :70276     NA's   :70276     NA's   :866007  \n",
       "   open_il_6m      open_il_12m      open_il_24m     mths_since_rcnt_il\n",
       " Min.   : 0.0     Min.   : 0.0     Min.   : 0.0     Min.   :  0.0     \n",
       " 1st Qu.: 1.0     1st Qu.: 0.0     1st Qu.: 0.0     1st Qu.:  6.0     \n",
       " Median : 2.0     Median : 0.0     Median : 1.0     Median : 12.0     \n",
       " Mean   : 2.9     Mean   : 0.8     Mean   : 1.7     Mean   : 20.9     \n",
       " 3rd Qu.: 4.0     3rd Qu.: 1.0     3rd Qu.: 2.0     3rd Qu.: 23.0     \n",
       " Max.   :40.0     Max.   :12.0     Max.   :19.0     Max.   :363.0     \n",
       " NA's   :866007   NA's   :866007   NA's   :866007   NA's   :866569    \n",
       "  total_bal_il       il_util        open_rv_12m      open_rv_24m    \n",
       " Min.   :     0   Min.   :  0.0    Min.   : 0.0     Min.   : 0      \n",
       " 1st Qu.: 10252   1st Qu.: 58.6    1st Qu.: 0.0     1st Qu.: 1      \n",
       " Median : 24685   Median : 74.9    Median : 1.0     Median : 2      \n",
       " Mean   : 36553   Mean   : 71.5    Mean   : 1.4     Mean   : 3      \n",
       " 3rd Qu.: 47858   3rd Qu.: 87.6    3rd Qu.: 2.0     3rd Qu.: 4      \n",
       " Max.   :878459   Max.   :223.3    Max.   :22.0     Max.   :43      \n",
       " NA's   :866007   NA's   :868762   NA's   :866007   NA's   :866007  \n",
       "   max_bal_bc        all_util      total_rev_hi_lim      inq_fi      \n",
       " Min.   :     0   Min.   :  0.0    Min.   :      0   Min.   : 0.0    \n",
       " 1st Qu.:  2411   1st Qu.: 47.7    1st Qu.:  13900   1st Qu.: 0.0    \n",
       " Median :  4483   Median : 61.9    Median :  23700   Median : 0.0    \n",
       " Mean   :  5888   Mean   : 60.8    Mean   :  32069   Mean   : 0.9    \n",
       " 3rd Qu.:  7772   3rd Qu.: 75.2    3rd Qu.:  39800   3rd Qu.: 1.0    \n",
       " Max.   :127305   Max.   :151.4    Max.   :9999999   Max.   :17.0    \n",
       " NA's   :866007   NA's   :866007   NA's   :70276     NA's   :866007  \n",
       "  total_cu_tl      inq_last_12m   \n",
       " Min.   : 0.0     Min.   :-4      \n",
       " 1st Qu.: 0.0     1st Qu.: 0      \n",
       " Median : 0.0     Median : 2      \n",
       " Mean   : 1.5     Mean   : 2      \n",
       " 3rd Qu.: 2.0     3rd Qu.: 3      \n",
       " Max.   :35.0     Max.   :32      \n",
       " NA's   :866007   NA's   :866007  "
      ]
     },
     "metadata": {},
     "output_type": "display_data"
    }
   ],
   "source": [
    "# Understand the data\n",
    "summary(loan)"
   ]
  },
  {
   "cell_type": "code",
   "execution_count": 3,
   "metadata": {
    "scrolled": true
   },
   "outputs": [
    {
     "name": "stdout",
     "output_type": "stream",
     "text": [
      "'data.frame':\t887379 obs. of  74 variables:\n",
      " $ id                         : int  1077501 1077430 1077175 1076863 1075358 1075269 1069639 1072053 1071795 1071570 ...\n",
      " $ member_id                  : int  1296599 1314167 1313524 1277178 1311748 1311441 1304742 1288686 1306957 1306721 ...\n",
      " $ loan_amnt                  : num  5000 2500 2400 10000 3000 ...\n",
      " $ funded_amnt                : num  5000 2500 2400 10000 3000 ...\n",
      " $ funded_amnt_inv            : num  4975 2500 2400 10000 3000 ...\n",
      " $ term                       : chr  \" 36 months\" \" 60 months\" \" 36 months\" \" 36 months\" ...\n",
      " $ int_rate                   : num  10.6 15.3 16 13.5 12.7 ...\n",
      " $ installment                : num  162.9 59.8 84.3 339.3 67.8 ...\n",
      " $ grade                      : chr  \"B\" \"C\" \"C\" \"C\" ...\n",
      " $ sub_grade                  : chr  \"B2\" \"C4\" \"C5\" \"C1\" ...\n",
      " $ emp_title                  : chr  \"\" \"Ryder\" \"\" \"AIR RESOURCES BOARD\" ...\n",
      " $ emp_length                 : chr  \"10+ years\" \"< 1 year\" \"10+ years\" \"10+ years\" ...\n",
      " $ home_ownership             : chr  \"RENT\" \"RENT\" \"RENT\" \"RENT\" ...\n",
      " $ annual_inc                 : num  24000 30000 12252 49200 80000 ...\n",
      " $ verification_status        : chr  \"Verified\" \"Source Verified\" \"Not Verified\" \"Source Verified\" ...\n",
      " $ issue_d                    : chr  \"Dec-2011\" \"Dec-2011\" \"Dec-2011\" \"Dec-2011\" ...\n",
      " $ loan_status                : chr  \"Fully Paid\" \"Charged Off\" \"Fully Paid\" \"Fully Paid\" ...\n",
      " $ pymnt_plan                 : chr  \"n\" \"n\" \"n\" \"n\" ...\n",
      " $ url                        : chr  \"https://www.lendingclub.com/browse/loanDetail.action?loan_id=1077501\" \"https://www.lendingclub.com/browse/loanDetail.action?loan_id=1077430\" \"https://www.lendingclub.com/browse/loanDetail.action?loan_id=1077175\" \"https://www.lendingclub.com/browse/loanDetail.action?loan_id=1076863\" ...\n",
      " $ desc                       : chr  \"  Borrower added on 12/22/11 > I need to upgrade my business technologies.<br>\" \"  Borrower added on 12/22/11 > I plan to use this money to finance the motorcycle i am looking at. I plan to ha\"| __truncated__ \"\" \"  Borrower added on 12/21/11 > to pay for property tax (borrow from friend, need to pay back) & central A/C nee\"| __truncated__ ...\n",
      " $ purpose                    : chr  \"credit_card\" \"car\" \"small_business\" \"other\" ...\n",
      " $ title                      : chr  \"Computer\" \"bike\" \"real estate business\" \"personel\" ...\n",
      " $ zip_code                   : chr  \"860xx\" \"309xx\" \"606xx\" \"917xx\" ...\n",
      " $ addr_state                 : chr  \"AZ\" \"GA\" \"IL\" \"CA\" ...\n",
      " $ dti                        : num  27.65 1 8.72 20 17.94 ...\n",
      " $ delinq_2yrs                : num  0 0 0 0 0 0 0 0 0 0 ...\n",
      " $ earliest_cr_line           : chr  \"Jan-1985\" \"Apr-1999\" \"Nov-2001\" \"Feb-1996\" ...\n",
      " $ inq_last_6mths             : num  1 5 2 1 0 3 1 2 2 0 ...\n",
      " $ mths_since_last_delinq     : num  NA NA NA 35 38 NA NA NA NA NA ...\n",
      " $ mths_since_last_record     : num  NA NA NA NA NA NA NA NA NA NA ...\n",
      " $ open_acc                   : num  3 3 2 10 15 9 7 4 11 2 ...\n",
      " $ pub_rec                    : num  0 0 0 0 0 0 0 0 0 0 ...\n",
      " $ revol_bal                  : num  13648 1687 2956 5598 27783 ...\n",
      " $ revol_util                 : num  83.7 9.4 98.5 21 53.9 28.3 85.6 87.5 32.6 36.5 ...\n",
      " $ total_acc                  : num  9 4 10 37 38 12 11 4 13 3 ...\n",
      " $ initial_list_status        : chr  \"f\" \"f\" \"f\" \"f\" ...\n",
      " $ out_prncp                  : num  0 0 0 0 767 ...\n",
      " $ out_prncp_inv              : num  0 0 0 0 767 ...\n",
      " $ total_pymnt                : num  5861 1009 3004 12226 3242 ...\n",
      " $ total_pymnt_inv            : num  5832 1009 3004 12226 3242 ...\n",
      " $ total_rec_prncp            : num  5000 456 2400 10000 2233 ...\n",
      " $ total_rec_int              : num  861 435 604 2209 1009 ...\n",
      " $ total_rec_late_fee         : num  0 0 0 17 0 ...\n",
      " $ recoveries                 : num  0 117 0 0 0 ...\n",
      " $ collection_recovery_fee    : num  0 1.11 0 0 0 0 0 0 2.09 2.52 ...\n",
      " $ last_pymnt_d               : chr  \"Jan-2015\" \"Apr-2013\" \"Jun-2014\" \"Jan-2015\" ...\n",
      " $ last_pymnt_amnt            : num  171.6 119.7 649.9 357.5 67.8 ...\n",
      " $ next_pymnt_d               : chr  \"\" \"\" \"\" \"\" ...\n",
      " $ last_credit_pull_d         : chr  \"Jan-2016\" \"Sep-2013\" \"Jan-2016\" \"Jan-2015\" ...\n",
      " $ collections_12_mths_ex_med : num  0 0 0 0 0 0 0 0 0 0 ...\n",
      " $ mths_since_last_major_derog: num  NA NA NA NA NA NA NA NA NA NA ...\n",
      " $ policy_code                : num  1 1 1 1 1 1 1 1 1 1 ...\n",
      " $ application_type           : chr  \"INDIVIDUAL\" \"INDIVIDUAL\" \"INDIVIDUAL\" \"INDIVIDUAL\" ...\n",
      " $ annual_inc_joint           : num  NA NA NA NA NA NA NA NA NA NA ...\n",
      " $ dti_joint                  : num  NA NA NA NA NA NA NA NA NA NA ...\n",
      " $ verification_status_joint  : chr  \"\" \"\" \"\" \"\" ...\n",
      " $ acc_now_delinq             : num  0 0 0 0 0 0 0 0 0 0 ...\n",
      " $ tot_coll_amt               : num  NA NA NA NA NA NA NA NA NA NA ...\n",
      " $ tot_cur_bal                : num  NA NA NA NA NA NA NA NA NA NA ...\n",
      " $ open_acc_6m                : num  NA NA NA NA NA NA NA NA NA NA ...\n",
      " $ open_il_6m                 : num  NA NA NA NA NA NA NA NA NA NA ...\n",
      " $ open_il_12m                : num  NA NA NA NA NA NA NA NA NA NA ...\n",
      " $ open_il_24m                : num  NA NA NA NA NA NA NA NA NA NA ...\n",
      " $ mths_since_rcnt_il         : num  NA NA NA NA NA NA NA NA NA NA ...\n",
      " $ total_bal_il               : num  NA NA NA NA NA NA NA NA NA NA ...\n",
      " $ il_util                    : num  NA NA NA NA NA NA NA NA NA NA ...\n",
      " $ open_rv_12m                : num  NA NA NA NA NA NA NA NA NA NA ...\n",
      " $ open_rv_24m                : num  NA NA NA NA NA NA NA NA NA NA ...\n",
      " $ max_bal_bc                 : num  NA NA NA NA NA NA NA NA NA NA ...\n",
      " $ all_util                   : num  NA NA NA NA NA NA NA NA NA NA ...\n",
      " $ total_rev_hi_lim           : num  NA NA NA NA NA NA NA NA NA NA ...\n",
      " $ inq_fi                     : num  NA NA NA NA NA NA NA NA NA NA ...\n",
      " $ total_cu_tl                : num  NA NA NA NA NA NA NA NA NA NA ...\n",
      " $ inq_last_12m               : num  NA NA NA NA NA NA NA NA NA NA ...\n"
     ]
    }
   ],
   "source": [
    "#data structure\n",
    "str(loan)"
   ]
  },
  {
   "cell_type": "code",
   "execution_count": 5,
   "metadata": {},
   "outputs": [
    {
     "data": {
      "text/html": [
       "<ol class=list-inline>\n",
       "\t<li>887379</li>\n",
       "\t<li>74</li>\n",
       "</ol>\n"
      ],
      "text/latex": [
       "\\begin{enumerate*}\n",
       "\\item 887379\n",
       "\\item 74\n",
       "\\end{enumerate*}\n"
      ],
      "text/markdown": [
       "1. 887379\n",
       "2. 74\n",
       "\n",
       "\n"
      ],
      "text/plain": [
       "[1] 887379     74"
      ]
     },
     "metadata": {},
     "output_type": "display_data"
    }
   ],
   "source": [
    "#data dimension\n",
    "dim(loan)"
   ]
  },
  {
   "cell_type": "code",
   "execution_count": 6,
   "metadata": {},
   "outputs": [
    {
     "data": {
      "text/html": [
       "<table>\n",
       "<thead><tr><th scope=col>id</th><th scope=col>member_id</th><th scope=col>loan_amnt</th><th scope=col>funded_amnt</th><th scope=col>funded_amnt_inv</th><th scope=col>term</th><th scope=col>int_rate</th><th scope=col>installment</th><th scope=col>grade</th><th scope=col>sub_grade</th><th scope=col>...</th><th scope=col>total_bal_il</th><th scope=col>il_util</th><th scope=col>open_rv_12m</th><th scope=col>open_rv_24m</th><th scope=col>max_bal_bc</th><th scope=col>all_util</th><th scope=col>total_rev_hi_lim</th><th scope=col>inq_fi</th><th scope=col>total_cu_tl</th><th scope=col>inq_last_12m</th></tr></thead>\n",
       "<tbody>\n",
       "\t<tr><td>1077501   </td><td>1296599   </td><td> 5000     </td><td> 5000     </td><td> 4975     </td><td> 36 months</td><td>10.65     </td><td>162.87    </td><td>B         </td><td>B2        </td><td>...       </td><td>NA        </td><td>NA        </td><td>NA        </td><td>NA        </td><td>NA        </td><td>NA        </td><td>NA        </td><td>NA        </td><td>NA        </td><td>NA        </td></tr>\n",
       "\t<tr><td>1077430   </td><td>1314167   </td><td> 2500     </td><td> 2500     </td><td> 2500     </td><td> 60 months</td><td>15.27     </td><td> 59.83    </td><td>C         </td><td>C4        </td><td>...       </td><td>NA        </td><td>NA        </td><td>NA        </td><td>NA        </td><td>NA        </td><td>NA        </td><td>NA        </td><td>NA        </td><td>NA        </td><td>NA        </td></tr>\n",
       "\t<tr><td>1077175   </td><td>1313524   </td><td> 2400     </td><td> 2400     </td><td> 2400     </td><td> 36 months</td><td>15.96     </td><td> 84.33    </td><td>C         </td><td>C5        </td><td>...       </td><td>NA        </td><td>NA        </td><td>NA        </td><td>NA        </td><td>NA        </td><td>NA        </td><td>NA        </td><td>NA        </td><td>NA        </td><td>NA        </td></tr>\n",
       "\t<tr><td>1076863   </td><td>1277178   </td><td>10000     </td><td>10000     </td><td>10000     </td><td> 36 months</td><td>13.49     </td><td>339.31    </td><td>C         </td><td>C1        </td><td>...       </td><td>NA        </td><td>NA        </td><td>NA        </td><td>NA        </td><td>NA        </td><td>NA        </td><td>NA        </td><td>NA        </td><td>NA        </td><td>NA        </td></tr>\n",
       "\t<tr><td>1075358   </td><td>1311748   </td><td> 3000     </td><td> 3000     </td><td> 3000     </td><td> 60 months</td><td>12.69     </td><td> 67.79    </td><td>B         </td><td>B5        </td><td>...       </td><td>NA        </td><td>NA        </td><td>NA        </td><td>NA        </td><td>NA        </td><td>NA        </td><td>NA        </td><td>NA        </td><td>NA        </td><td>NA        </td></tr>\n",
       "\t<tr><td>1075269   </td><td>1311441   </td><td> 5000     </td><td> 5000     </td><td> 5000     </td><td> 36 months</td><td> 7.90     </td><td>156.46    </td><td>A         </td><td>A4        </td><td>...       </td><td>NA        </td><td>NA        </td><td>NA        </td><td>NA        </td><td>NA        </td><td>NA        </td><td>NA        </td><td>NA        </td><td>NA        </td><td>NA        </td></tr>\n",
       "</tbody>\n",
       "</table>\n"
      ],
      "text/latex": [
       "\\begin{tabular}{r|llllllllllllllllllllllllllllllllllllllllllllllllllllllllllllllllllllllllll}\n",
       " id & member\\_id & loan\\_amnt & funded\\_amnt & funded\\_amnt\\_inv & term & int\\_rate & installment & grade & sub\\_grade & ... & total\\_bal\\_il & il\\_util & open\\_rv\\_12m & open\\_rv\\_24m & max\\_bal\\_bc & all\\_util & total\\_rev\\_hi\\_lim & inq\\_fi & total\\_cu\\_tl & inq\\_last\\_12m\\\\\n",
       "\\hline\n",
       "\t 1077501    & 1296599    &  5000      &  5000      &  4975      &  36 months & 10.65      & 162.87     & B          & B2         & ...        & NA         & NA         & NA         & NA         & NA         & NA         & NA         & NA         & NA         & NA        \\\\\n",
       "\t 1077430    & 1314167    &  2500      &  2500      &  2500      &  60 months & 15.27      &  59.83     & C          & C4         & ...        & NA         & NA         & NA         & NA         & NA         & NA         & NA         & NA         & NA         & NA        \\\\\n",
       "\t 1077175    & 1313524    &  2400      &  2400      &  2400      &  36 months & 15.96      &  84.33     & C          & C5         & ...        & NA         & NA         & NA         & NA         & NA         & NA         & NA         & NA         & NA         & NA        \\\\\n",
       "\t 1076863    & 1277178    & 10000      & 10000      & 10000      &  36 months & 13.49      & 339.31     & C          & C1         & ...        & NA         & NA         & NA         & NA         & NA         & NA         & NA         & NA         & NA         & NA        \\\\\n",
       "\t 1075358    & 1311748    &  3000      &  3000      &  3000      &  60 months & 12.69      &  67.79     & B          & B5         & ...        & NA         & NA         & NA         & NA         & NA         & NA         & NA         & NA         & NA         & NA        \\\\\n",
       "\t 1075269    & 1311441    &  5000      &  5000      &  5000      &  36 months &  7.90      & 156.46     & A          & A4         & ...        & NA         & NA         & NA         & NA         & NA         & NA         & NA         & NA         & NA         & NA        \\\\\n",
       "\\end{tabular}\n"
      ],
      "text/markdown": [
       "\n",
       "id | member_id | loan_amnt | funded_amnt | funded_amnt_inv | term | int_rate | installment | grade | sub_grade | ... | total_bal_il | il_util | open_rv_12m | open_rv_24m | max_bal_bc | all_util | total_rev_hi_lim | inq_fi | total_cu_tl | inq_last_12m | \n",
       "|---|---|---|---|---|---|\n",
       "| 1077501    | 1296599    |  5000      |  5000      |  4975      |  36 months | 10.65      | 162.87     | B          | B2         | ...        | NA         | NA         | NA         | NA         | NA         | NA         | NA         | NA         | NA         | NA         | \n",
       "| 1077430    | 1314167    |  2500      |  2500      |  2500      |  60 months | 15.27      |  59.83     | C          | C4         | ...        | NA         | NA         | NA         | NA         | NA         | NA         | NA         | NA         | NA         | NA         | \n",
       "| 1077175    | 1313524    |  2400      |  2400      |  2400      |  36 months | 15.96      |  84.33     | C          | C5         | ...        | NA         | NA         | NA         | NA         | NA         | NA         | NA         | NA         | NA         | NA         | \n",
       "| 1076863    | 1277178    | 10000      | 10000      | 10000      |  36 months | 13.49      | 339.31     | C          | C1         | ...        | NA         | NA         | NA         | NA         | NA         | NA         | NA         | NA         | NA         | NA         | \n",
       "| 1075358    | 1311748    |  3000      |  3000      |  3000      |  60 months | 12.69      |  67.79     | B          | B5         | ...        | NA         | NA         | NA         | NA         | NA         | NA         | NA         | NA         | NA         | NA         | \n",
       "| 1075269    | 1311441    |  5000      |  5000      |  5000      |  36 months |  7.90      | 156.46     | A          | A4         | ...        | NA         | NA         | NA         | NA         | NA         | NA         | NA         | NA         | NA         | NA         | \n",
       "\n",
       "\n"
      ],
      "text/plain": [
       "  id      member_id loan_amnt funded_amnt funded_amnt_inv term       int_rate\n",
       "1 1077501 1296599    5000      5000        4975            36 months 10.65   \n",
       "2 1077430 1314167    2500      2500        2500            60 months 15.27   \n",
       "3 1077175 1313524    2400      2400        2400            36 months 15.96   \n",
       "4 1076863 1277178   10000     10000       10000            36 months 13.49   \n",
       "5 1075358 1311748    3000      3000        3000            60 months 12.69   \n",
       "6 1075269 1311441    5000      5000        5000            36 months  7.90   \n",
       "  installment grade sub_grade ... total_bal_il il_util open_rv_12m open_rv_24m\n",
       "1 162.87      B     B2        ... NA           NA      NA          NA         \n",
       "2  59.83      C     C4        ... NA           NA      NA          NA         \n",
       "3  84.33      C     C5        ... NA           NA      NA          NA         \n",
       "4 339.31      C     C1        ... NA           NA      NA          NA         \n",
       "5  67.79      B     B5        ... NA           NA      NA          NA         \n",
       "6 156.46      A     A4        ... NA           NA      NA          NA         \n",
       "  max_bal_bc all_util total_rev_hi_lim inq_fi total_cu_tl inq_last_12m\n",
       "1 NA         NA       NA               NA     NA          NA          \n",
       "2 NA         NA       NA               NA     NA          NA          \n",
       "3 NA         NA       NA               NA     NA          NA          \n",
       "4 NA         NA       NA               NA     NA          NA          \n",
       "5 NA         NA       NA               NA     NA          NA          \n",
       "6 NA         NA       NA               NA     NA          NA          "
      ]
     },
     "metadata": {},
     "output_type": "display_data"
    }
   ],
   "source": [
    "#top 6 rows\n",
    "head(loan)"
   ]
  },
  {
   "cell_type": "code",
   "execution_count": 17,
   "metadata": {},
   "outputs": [
    {
     "data": {
      "text/html": [
       "<ol class=list-inline>\n",
       "\t<li>'id'</li>\n",
       "\t<li>'member_id'</li>\n",
       "\t<li>'loan_amnt'</li>\n",
       "\t<li>'funded_amnt'</li>\n",
       "\t<li>'funded_amnt_inv'</li>\n",
       "\t<li>'term'</li>\n",
       "\t<li>'int_rate'</li>\n",
       "\t<li>'installment'</li>\n",
       "\t<li>'grade'</li>\n",
       "\t<li>'sub_grade'</li>\n",
       "\t<li>'emp_title'</li>\n",
       "\t<li>'emp_length'</li>\n",
       "\t<li>'home_ownership'</li>\n",
       "\t<li>'annual_inc'</li>\n",
       "\t<li>'verification_status'</li>\n",
       "\t<li>'issue_d'</li>\n",
       "\t<li>'loan_status'</li>\n",
       "\t<li>'pymnt_plan'</li>\n",
       "\t<li>'url'</li>\n",
       "\t<li>'desc'</li>\n",
       "\t<li>'purpose'</li>\n",
       "\t<li>'title'</li>\n",
       "\t<li>'zip_code'</li>\n",
       "\t<li>'addr_state'</li>\n",
       "\t<li>'dti'</li>\n",
       "\t<li>'delinq_2yrs'</li>\n",
       "\t<li>'earliest_cr_line'</li>\n",
       "\t<li>'inq_last_6mths'</li>\n",
       "\t<li>'mths_since_last_delinq'</li>\n",
       "\t<li>'mths_since_last_record'</li>\n",
       "\t<li>'open_acc'</li>\n",
       "\t<li>'pub_rec'</li>\n",
       "\t<li>'revol_bal'</li>\n",
       "\t<li>'revol_util'</li>\n",
       "\t<li>'total_acc'</li>\n",
       "\t<li>'initial_list_status'</li>\n",
       "\t<li>'out_prncp'</li>\n",
       "\t<li>'out_prncp_inv'</li>\n",
       "\t<li>'total_pymnt'</li>\n",
       "\t<li>'total_pymnt_inv'</li>\n",
       "\t<li>'total_rec_prncp'</li>\n",
       "\t<li>'total_rec_int'</li>\n",
       "\t<li>'total_rec_late_fee'</li>\n",
       "\t<li>'recoveries'</li>\n",
       "\t<li>'collection_recovery_fee'</li>\n",
       "\t<li>'last_pymnt_d'</li>\n",
       "\t<li>'last_pymnt_amnt'</li>\n",
       "\t<li>'next_pymnt_d'</li>\n",
       "\t<li>'last_credit_pull_d'</li>\n",
       "\t<li>'collections_12_mths_ex_med'</li>\n",
       "\t<li>'mths_since_last_major_derog'</li>\n",
       "\t<li>'policy_code'</li>\n",
       "\t<li>'application_type'</li>\n",
       "\t<li>'annual_inc_joint'</li>\n",
       "\t<li>'dti_joint'</li>\n",
       "\t<li>'verification_status_joint'</li>\n",
       "\t<li>'acc_now_delinq'</li>\n",
       "\t<li>'tot_coll_amt'</li>\n",
       "\t<li>'tot_cur_bal'</li>\n",
       "\t<li>'open_acc_6m'</li>\n",
       "\t<li>'open_il_6m'</li>\n",
       "\t<li>'open_il_12m'</li>\n",
       "\t<li>'open_il_24m'</li>\n",
       "\t<li>'mths_since_rcnt_il'</li>\n",
       "\t<li>'total_bal_il'</li>\n",
       "\t<li>'il_util'</li>\n",
       "\t<li>'open_rv_12m'</li>\n",
       "\t<li>'open_rv_24m'</li>\n",
       "\t<li>'max_bal_bc'</li>\n",
       "\t<li>'all_util'</li>\n",
       "\t<li>'total_rev_hi_lim'</li>\n",
       "\t<li>'inq_fi'</li>\n",
       "\t<li>'total_cu_tl'</li>\n",
       "\t<li>'inq_last_12m'</li>\n",
       "</ol>\n"
      ],
      "text/latex": [
       "\\begin{enumerate*}\n",
       "\\item 'id'\n",
       "\\item 'member\\_id'\n",
       "\\item 'loan\\_amnt'\n",
       "\\item 'funded\\_amnt'\n",
       "\\item 'funded\\_amnt\\_inv'\n",
       "\\item 'term'\n",
       "\\item 'int\\_rate'\n",
       "\\item 'installment'\n",
       "\\item 'grade'\n",
       "\\item 'sub\\_grade'\n",
       "\\item 'emp\\_title'\n",
       "\\item 'emp\\_length'\n",
       "\\item 'home\\_ownership'\n",
       "\\item 'annual\\_inc'\n",
       "\\item 'verification\\_status'\n",
       "\\item 'issue\\_d'\n",
       "\\item 'loan\\_status'\n",
       "\\item 'pymnt\\_plan'\n",
       "\\item 'url'\n",
       "\\item 'desc'\n",
       "\\item 'purpose'\n",
       "\\item 'title'\n",
       "\\item 'zip\\_code'\n",
       "\\item 'addr\\_state'\n",
       "\\item 'dti'\n",
       "\\item 'delinq\\_2yrs'\n",
       "\\item 'earliest\\_cr\\_line'\n",
       "\\item 'inq\\_last\\_6mths'\n",
       "\\item 'mths\\_since\\_last\\_delinq'\n",
       "\\item 'mths\\_since\\_last\\_record'\n",
       "\\item 'open\\_acc'\n",
       "\\item 'pub\\_rec'\n",
       "\\item 'revol\\_bal'\n",
       "\\item 'revol\\_util'\n",
       "\\item 'total\\_acc'\n",
       "\\item 'initial\\_list\\_status'\n",
       "\\item 'out\\_prncp'\n",
       "\\item 'out\\_prncp\\_inv'\n",
       "\\item 'total\\_pymnt'\n",
       "\\item 'total\\_pymnt\\_inv'\n",
       "\\item 'total\\_rec\\_prncp'\n",
       "\\item 'total\\_rec\\_int'\n",
       "\\item 'total\\_rec\\_late\\_fee'\n",
       "\\item 'recoveries'\n",
       "\\item 'collection\\_recovery\\_fee'\n",
       "\\item 'last\\_pymnt\\_d'\n",
       "\\item 'last\\_pymnt\\_amnt'\n",
       "\\item 'next\\_pymnt\\_d'\n",
       "\\item 'last\\_credit\\_pull\\_d'\n",
       "\\item 'collections\\_12\\_mths\\_ex\\_med'\n",
       "\\item 'mths\\_since\\_last\\_major\\_derog'\n",
       "\\item 'policy\\_code'\n",
       "\\item 'application\\_type'\n",
       "\\item 'annual\\_inc\\_joint'\n",
       "\\item 'dti\\_joint'\n",
       "\\item 'verification\\_status\\_joint'\n",
       "\\item 'acc\\_now\\_delinq'\n",
       "\\item 'tot\\_coll\\_amt'\n",
       "\\item 'tot\\_cur\\_bal'\n",
       "\\item 'open\\_acc\\_6m'\n",
       "\\item 'open\\_il\\_6m'\n",
       "\\item 'open\\_il\\_12m'\n",
       "\\item 'open\\_il\\_24m'\n",
       "\\item 'mths\\_since\\_rcnt\\_il'\n",
       "\\item 'total\\_bal\\_il'\n",
       "\\item 'il\\_util'\n",
       "\\item 'open\\_rv\\_12m'\n",
       "\\item 'open\\_rv\\_24m'\n",
       "\\item 'max\\_bal\\_bc'\n",
       "\\item 'all\\_util'\n",
       "\\item 'total\\_rev\\_hi\\_lim'\n",
       "\\item 'inq\\_fi'\n",
       "\\item 'total\\_cu\\_tl'\n",
       "\\item 'inq\\_last\\_12m'\n",
       "\\end{enumerate*}\n"
      ],
      "text/markdown": [
       "1. 'id'\n",
       "2. 'member_id'\n",
       "3. 'loan_amnt'\n",
       "4. 'funded_amnt'\n",
       "5. 'funded_amnt_inv'\n",
       "6. 'term'\n",
       "7. 'int_rate'\n",
       "8. 'installment'\n",
       "9. 'grade'\n",
       "10. 'sub_grade'\n",
       "11. 'emp_title'\n",
       "12. 'emp_length'\n",
       "13. 'home_ownership'\n",
       "14. 'annual_inc'\n",
       "15. 'verification_status'\n",
       "16. 'issue_d'\n",
       "17. 'loan_status'\n",
       "18. 'pymnt_plan'\n",
       "19. 'url'\n",
       "20. 'desc'\n",
       "21. 'purpose'\n",
       "22. 'title'\n",
       "23. 'zip_code'\n",
       "24. 'addr_state'\n",
       "25. 'dti'\n",
       "26. 'delinq_2yrs'\n",
       "27. 'earliest_cr_line'\n",
       "28. 'inq_last_6mths'\n",
       "29. 'mths_since_last_delinq'\n",
       "30. 'mths_since_last_record'\n",
       "31. 'open_acc'\n",
       "32. 'pub_rec'\n",
       "33. 'revol_bal'\n",
       "34. 'revol_util'\n",
       "35. 'total_acc'\n",
       "36. 'initial_list_status'\n",
       "37. 'out_prncp'\n",
       "38. 'out_prncp_inv'\n",
       "39. 'total_pymnt'\n",
       "40. 'total_pymnt_inv'\n",
       "41. 'total_rec_prncp'\n",
       "42. 'total_rec_int'\n",
       "43. 'total_rec_late_fee'\n",
       "44. 'recoveries'\n",
       "45. 'collection_recovery_fee'\n",
       "46. 'last_pymnt_d'\n",
       "47. 'last_pymnt_amnt'\n",
       "48. 'next_pymnt_d'\n",
       "49. 'last_credit_pull_d'\n",
       "50. 'collections_12_mths_ex_med'\n",
       "51. 'mths_since_last_major_derog'\n",
       "52. 'policy_code'\n",
       "53. 'application_type'\n",
       "54. 'annual_inc_joint'\n",
       "55. 'dti_joint'\n",
       "56. 'verification_status_joint'\n",
       "57. 'acc_now_delinq'\n",
       "58. 'tot_coll_amt'\n",
       "59. 'tot_cur_bal'\n",
       "60. 'open_acc_6m'\n",
       "61. 'open_il_6m'\n",
       "62. 'open_il_12m'\n",
       "63. 'open_il_24m'\n",
       "64. 'mths_since_rcnt_il'\n",
       "65. 'total_bal_il'\n",
       "66. 'il_util'\n",
       "67. 'open_rv_12m'\n",
       "68. 'open_rv_24m'\n",
       "69. 'max_bal_bc'\n",
       "70. 'all_util'\n",
       "71. 'total_rev_hi_lim'\n",
       "72. 'inq_fi'\n",
       "73. 'total_cu_tl'\n",
       "74. 'inq_last_12m'\n",
       "\n",
       "\n"
      ],
      "text/plain": [
       " [1] \"id\"                          \"member_id\"                  \n",
       " [3] \"loan_amnt\"                   \"funded_amnt\"                \n",
       " [5] \"funded_amnt_inv\"             \"term\"                       \n",
       " [7] \"int_rate\"                    \"installment\"                \n",
       " [9] \"grade\"                       \"sub_grade\"                  \n",
       "[11] \"emp_title\"                   \"emp_length\"                 \n",
       "[13] \"home_ownership\"              \"annual_inc\"                 \n",
       "[15] \"verification_status\"         \"issue_d\"                    \n",
       "[17] \"loan_status\"                 \"pymnt_plan\"                 \n",
       "[19] \"url\"                         \"desc\"                       \n",
       "[21] \"purpose\"                     \"title\"                      \n",
       "[23] \"zip_code\"                    \"addr_state\"                 \n",
       "[25] \"dti\"                         \"delinq_2yrs\"                \n",
       "[27] \"earliest_cr_line\"            \"inq_last_6mths\"             \n",
       "[29] \"mths_since_last_delinq\"      \"mths_since_last_record\"     \n",
       "[31] \"open_acc\"                    \"pub_rec\"                    \n",
       "[33] \"revol_bal\"                   \"revol_util\"                 \n",
       "[35] \"total_acc\"                   \"initial_list_status\"        \n",
       "[37] \"out_prncp\"                   \"out_prncp_inv\"              \n",
       "[39] \"total_pymnt\"                 \"total_pymnt_inv\"            \n",
       "[41] \"total_rec_prncp\"             \"total_rec_int\"              \n",
       "[43] \"total_rec_late_fee\"          \"recoveries\"                 \n",
       "[45] \"collection_recovery_fee\"     \"last_pymnt_d\"               \n",
       "[47] \"last_pymnt_amnt\"             \"next_pymnt_d\"               \n",
       "[49] \"last_credit_pull_d\"          \"collections_12_mths_ex_med\" \n",
       "[51] \"mths_since_last_major_derog\" \"policy_code\"                \n",
       "[53] \"application_type\"            \"annual_inc_joint\"           \n",
       "[55] \"dti_joint\"                   \"verification_status_joint\"  \n",
       "[57] \"acc_now_delinq\"              \"tot_coll_amt\"               \n",
       "[59] \"tot_cur_bal\"                 \"open_acc_6m\"                \n",
       "[61] \"open_il_6m\"                  \"open_il_12m\"                \n",
       "[63] \"open_il_24m\"                 \"mths_since_rcnt_il\"         \n",
       "[65] \"total_bal_il\"                \"il_util\"                    \n",
       "[67] \"open_rv_12m\"                 \"open_rv_24m\"                \n",
       "[69] \"max_bal_bc\"                  \"all_util\"                   \n",
       "[71] \"total_rev_hi_lim\"            \"inq_fi\"                     \n",
       "[73] \"total_cu_tl\"                 \"inq_last_12m\"               "
      ]
     },
     "metadata": {},
     "output_type": "display_data"
    }
   ],
   "source": [
    "loan_names <- colnames(loan)\n",
    "loan_names"
   ]
  },
  {
   "cell_type": "code",
   "execution_count": 8,
   "metadata": {},
   "outputs": [
    {
     "data": {
      "text/html": [
       "887379"
      ],
      "text/latex": [
       "887379"
      ],
      "text/markdown": [
       "887379"
      ],
      "text/plain": [
       "[1] 887379"
      ]
     },
     "metadata": {},
     "output_type": "display_data"
    }
   ],
   "source": [
    "# Check dictionary and cluster features into groups for better understanding.\n",
    "length(unique(loan$id))"
   ]
  },
  {
   "cell_type": "markdown",
   "metadata": {},
   "source": [
    "unique id equals to the number of rows of data set(no two same id)"
   ]
  },
  {
   "cell_type": "code",
   "execution_count": 9,
   "metadata": {},
   "outputs": [
    {
     "data": {
      "text/html": [
       "887379"
      ],
      "text/latex": [
       "887379"
      ],
      "text/markdown": [
       "887379"
      ],
      "text/plain": [
       "[1] 887379"
      ]
     },
     "metadata": {},
     "output_type": "display_data"
    }
   ],
   "source": [
    "length(unique(loan$member_id))"
   ]
  },
  {
   "cell_type": "markdown",
   "metadata": {},
   "source": [
    "unique member-id equals to the number of rows of data set(no two same id)"
   ]
  },
  {
   "cell_type": "markdown",
   "metadata": {},
   "source": [
    "# Meaning of data fields"
   ]
  },
  {
   "cell_type": "code",
   "execution_count": 15,
   "metadata": {
    "scrolled": true
   },
   "outputs": [
    {
     "data": {
      "text/html": [
       "<table>\n",
       "<thead><tr><th scope=col>LoanStatNew</th><th scope=col>Description</th></tr></thead>\n",
       "<tbody>\n",
       "\t<tr><td>addr_state                                                                                                                                                                                                        </td><td>The state provided by the borrower in the loan application                                                                                                                                                        </td></tr>\n",
       "\t<tr><td>annual_inc                                                                                                                                                                                                        </td><td>The self-reported annual income provided by the borrower during registration.                                                                                                                                     </td></tr>\n",
       "\t<tr><td>annual_inc_joint                                                                                                                                                                                                  </td><td>The combined self-reported annual income provided by the co-borrowers during registration                                                                                                                         </td></tr>\n",
       "\t<tr><td>application_type                                                                                                                                                                                                  </td><td>Indicates whether the loan is an individual application or a joint application with two co-borrowers                                                                                                              </td></tr>\n",
       "\t<tr><td>collection_recovery_fee                                                                                                                                                                                           </td><td>post charge off collection fee                                                                                                                                                                                    </td></tr>\n",
       "\t<tr><td>collections_12_mths_ex_med                                                                                                                                                                                        </td><td>Number of collections in 12 months excluding medical collections                                                                                                                                                  </td></tr>\n",
       "\t<tr><td>delinq_2yrs                                                                                                                                                                                                       </td><td>The number of 30+ days past-due incidences of delinquency in the borrower's credit file for the past 2 years                                                                                                      </td></tr>\n",
       "\t<tr><td>desc                                                                                                                                                                                                              </td><td>Loan description provided by the borrower                                                                                                                                                                         </td></tr>\n",
       "\t<tr><td>dti                                                                                                                                                                                                               </td><td>A ratio calculated using the borrower’s total monthly debt payments on the total debt obligations, excluding mortgage and the requested LC loan, divided by the borrower’s self-reported monthly income.          </td></tr>\n",
       "\t<tr><td>dti_joint                                                                                                                                                                                                         </td><td>A ratio calculated using the co-borrowers' total monthly payments on the total debt obligations, excluding mortgages and the requested LC loan, divided by the co-borrowers' combined self-reported monthly income</td></tr>\n",
       "\t<tr><td>earliest_cr_line                                                                                                                                                                                                  </td><td>The month the borrower's earliest reported credit line was opened                                                                                                                                                 </td></tr>\n",
       "\t<tr><td>emp_length                                                                                                                                                                                                        </td><td>Employment length in years. Possible values are between 0 and 10 where 0 means less than one year and 10 means ten or more years.                                                                                 </td></tr>\n",
       "\t<tr><td>emp_title                                                                                                                                                                                                         </td><td>The job title supplied by the Borrower when applying for the loan.*                                                                                                                                               </td></tr>\n",
       "\t<tr><td>fico_range_high                                                                                                                                                                                                   </td><td>The upper boundary range the borrower’s FICO at loan origination belongs to.                                                                                                                                      </td></tr>\n",
       "\t<tr><td>fico_range_low                                                                                                                                                                                                    </td><td>The lower boundary range the borrower’s FICO at loan origination belongs to.                                                                                                                                      </td></tr>\n",
       "\t<tr><td>funded_amnt                                                                                                                                                                                                       </td><td>The total amount committed to that loan at that point in time.                                                                                                                                                    </td></tr>\n",
       "\t<tr><td>funded_amnt_inv                                                                                                                                                                                                   </td><td>The total amount committed by investors for that loan at that point in time.                                                                                                                                      </td></tr>\n",
       "\t<tr><td>grade                                                                                                                                                                                                             </td><td>LC assigned loan grade                                                                                                                                                                                            </td></tr>\n",
       "\t<tr><td>home_ownership                                                                                                                                                                                                    </td><td>The home ownership status provided by the borrower during registration. Our values are: RENT, OWN, MORTGAGE, OTHER.                                                                                               </td></tr>\n",
       "\t<tr><td>id                                                                                                                                                                                                                </td><td>A unique LC assigned ID for the loan listing.                                                                                                                                                                     </td></tr>\n",
       "\t<tr><td>initial_list_status                                                                                                                                                                                               </td><td>The initial listing status of the loan. Possible values are – W, F                                                                                                                                                </td></tr>\n",
       "\t<tr><td>inq_last_6mths                                                                                                                                                                                                    </td><td>The number of inquiries in past 6 months (excluding auto and mortgage inquiries)                                                                                                                                  </td></tr>\n",
       "\t<tr><td>installment                                                                                                                                                                                                       </td><td>The monthly payment owed by the borrower if the loan originates.                                                                                                                                                  </td></tr>\n",
       "\t<tr><td>int_rate                                                                                                                                                                                                          </td><td>Interest Rate on the loan                                                                                                                                                                                         </td></tr>\n",
       "\t<tr><td>is_inc_v                                                                                                                                                                                                          </td><td>Indicates if income was verified by LC, not verified, or if the income source was verified                                                                                                                        </td></tr>\n",
       "\t<tr><td>issue_d                                                                                                                                                                                                           </td><td>The month which the loan was funded                                                                                                                                                                               </td></tr>\n",
       "\t<tr><td>last_credit_pull_d                                                                                                                                                                                                </td><td>The most recent month LC pulled credit for this loan                                                                                                                                                              </td></tr>\n",
       "\t<tr><td>last_fico_range_high                                                                                                                                                                                              </td><td>The upper boundary range the borrower’s last FICO pulled belongs to.                                                                                                                                              </td></tr>\n",
       "\t<tr><td>last_fico_range_low                                                                                                                                                                                               </td><td>The lower boundary range the borrower’s last FICO pulled belongs to.                                                                                                                                              </td></tr>\n",
       "\t<tr><td>last_pymnt_amnt                                                                                                                                                                                                   </td><td>Last total payment amount received                                                                                                                                                                                </td></tr>\n",
       "\t<tr><td>...</td><td>...</td></tr>\n",
       "\t<tr><td>sub_grade                                                                                                         </td><td>LC assigned loan subgrade                                                                                         </td></tr>\n",
       "\t<tr><td>term                                                                                                              </td><td>The number of payments on the loan. Values are in months and can be either 36 or 60.                              </td></tr>\n",
       "\t<tr><td>title                                                                                                             </td><td>The loan title provided by the borrower                                                                           </td></tr>\n",
       "\t<tr><td>total_acc                                                                                                         </td><td>The total number of credit lines currently in the borrower's credit file                                          </td></tr>\n",
       "\t<tr><td>total_pymnt                                                                                                       </td><td>Payments received to date for total amount funded                                                                 </td></tr>\n",
       "\t<tr><td>total_pymnt_inv                                                                                                   </td><td>Payments received to date for portion of total amount funded by investors                                         </td></tr>\n",
       "\t<tr><td>total_rec_int                                                                                                     </td><td>Interest received to date                                                                                         </td></tr>\n",
       "\t<tr><td>total_rec_late_fee                                                                                                </td><td>Late fees received to date                                                                                        </td></tr>\n",
       "\t<tr><td>total_rec_prncp                                                                                                   </td><td>Principal received to date                                                                                        </td></tr>\n",
       "\t<tr><td>url                                                                                                               </td><td>URL for the LC page with listing data.                                                                            </td></tr>\n",
       "\t<tr><td>verified_status_joint                                                                                             </td><td>Indicates if the co-borrowers' joint income was verified by LC, not verified, or if the income source was verified</td></tr>\n",
       "\t<tr><td>zip_code                                                                                                          </td><td>The first 3 numbers of the zip code provided by the borrower in the loan application.                             </td></tr>\n",
       "\t<tr><td>open_acc_6m                                                                                                       </td><td>Number of open trades in last 6 months                                                                            </td></tr>\n",
       "\t<tr><td>open_il_6m                                                                                                        </td><td>Number of currently active installment trades                                                                     </td></tr>\n",
       "\t<tr><td>open_il_12m                                                                                                       </td><td>Number of installment accounts opened in past 12 months                                                           </td></tr>\n",
       "\t<tr><td>open_il_24m                                                                                                       </td><td>Number of installment accounts opened in past 24 months                                                           </td></tr>\n",
       "\t<tr><td>mths_since_rcnt_il                                                                                                </td><td>Months since most recent installment accounts opened                                                              </td></tr>\n",
       "\t<tr><td>total_bal_il                                                                                                      </td><td>Total current balance of all installment accounts                                                                 </td></tr>\n",
       "\t<tr><td>il_util                                                                                                           </td><td>Ratio of total current balance to high credit/credit limit on all install acct                                    </td></tr>\n",
       "\t<tr><td>open_rv_12m                                                                                                       </td><td>Number of revolving trades opened in past 12 months                                                               </td></tr>\n",
       "\t<tr><td>open_rv_24m                                                                                                       </td><td>Number of revolving trades opened in past 24 months                                                               </td></tr>\n",
       "\t<tr><td>max_bal_bc                                                                                                        </td><td>Maximum current balance owed on all revolving accounts                                                            </td></tr>\n",
       "\t<tr><td>all_util                                                                                                          </td><td>Balance to credit limit on all trades                                                                             </td></tr>\n",
       "\t<tr><td>total_rev_hi_lim                                                                                                  </td><td>Total revolving high credit/credit limit                                                                          </td></tr>\n",
       "\t<tr><td>inq_fi                                                                                                            </td><td>Number of personal finance inquiries                                                                              </td></tr>\n",
       "\t<tr><td>total_cu_tl                                                                                                       </td><td>Number of finance trades                                                                                          </td></tr>\n",
       "\t<tr><td>inq_last_12m                                                                                                      </td><td>Number of credit inquiries in past 12 months                                                                      </td></tr>\n",
       "\t<tr><td>acc_now_delinq                                                                                                    </td><td>The number of accounts on which the borrower is now delinquent.                                                   </td></tr>\n",
       "\t<tr><td>tot_coll_amt                                                                                                      </td><td>Total collection amounts ever owed                                                                                </td></tr>\n",
       "\t<tr><td>tot_cur_bal                                                                                                       </td><td>Total current balance of all accounts                                                                             </td></tr>\n",
       "</tbody>\n",
       "</table>\n"
      ],
      "text/latex": [
       "\\begin{tabular}{r|ll}\n",
       " LoanStatNew & Description\\\\\n",
       "\\hline\n",
       "\t addr\\_state                                                                                                                                                                                                       & The state provided by the borrower in the loan application                                                                                                                                                        \\\\\n",
       "\t annual\\_inc                                                                                                                                                                                                       & The self-reported annual income provided by the borrower during registration.                                                                                                                                     \\\\\n",
       "\t annual\\_inc\\_joint                                                                                                                                                                                               & The combined self-reported annual income provided by the co-borrowers during registration                                                                                                                         \\\\\n",
       "\t application\\_type                                                                                                                                                                                                 & Indicates whether the loan is an individual application or a joint application with two co-borrowers                                                                                                              \\\\\n",
       "\t collection\\_recovery\\_fee                                                                                                                                                                                        & post charge off collection fee                                                                                                                                                                                    \\\\\n",
       "\t collections\\_12\\_mths\\_ex\\_med                                                                                                                                                                                 & Number of collections in 12 months excluding medical collections                                                                                                                                                  \\\\\n",
       "\t delinq\\_2yrs                                                                                                                                                                                                      & The number of 30+ days past-due incidences of delinquency in the borrower's credit file for the past 2 years                                                                                                      \\\\\n",
       "\t desc                                                                                                                                                                                                               & Loan description provided by the borrower                                                                                                                                                                         \\\\\n",
       "\t dti                                                                                                                                                                                                                & A ratio calculated using the borrower’s total monthly debt payments on the total debt obligations, excluding mortgage and the requested LC loan, divided by the borrower’s self-reported monthly income.          \\\\\n",
       "\t dti\\_joint                                                                                                                                                                                                        & A ratio calculated using the co-borrowers' total monthly payments on the total debt obligations, excluding mortgages and the requested LC loan, divided by the co-borrowers' combined self-reported monthly income\\\\\n",
       "\t earliest\\_cr\\_line                                                                                                                                                                                               & The month the borrower's earliest reported credit line was opened                                                                                                                                                 \\\\\n",
       "\t emp\\_length                                                                                                                                                                                                       & Employment length in years. Possible values are between 0 and 10 where 0 means less than one year and 10 means ten or more years.                                                                                 \\\\\n",
       "\t emp\\_title                                                                                                                                                                                                        & The job title supplied by the Borrower when applying for the loan.*                                                                                                                                               \\\\\n",
       "\t fico\\_range\\_high                                                                                                                                                                                                & The upper boundary range the borrower’s FICO at loan origination belongs to.                                                                                                                                      \\\\\n",
       "\t fico\\_range\\_low                                                                                                                                                                                                 & The lower boundary range the borrower’s FICO at loan origination belongs to.                                                                                                                                      \\\\\n",
       "\t funded\\_amnt                                                                                                                                                                                                      & The total amount committed to that loan at that point in time.                                                                                                                                                    \\\\\n",
       "\t funded\\_amnt\\_inv                                                                                                                                                                                                & The total amount committed by investors for that loan at that point in time.                                                                                                                                      \\\\\n",
       "\t grade                                                                                                                                                                                                              & LC assigned loan grade                                                                                                                                                                                            \\\\\n",
       "\t home\\_ownership                                                                                                                                                                                                   & The home ownership status provided by the borrower during registration. Our values are: RENT, OWN, MORTGAGE, OTHER.                                                                                               \\\\\n",
       "\t id                                                                                                                                                                                                                 & A unique LC assigned ID for the loan listing.                                                                                                                                                                     \\\\\n",
       "\t initial\\_list\\_status                                                                                                                                                                                            & The initial listing status of the loan. Possible values are – W, F                                                                                                                                                \\\\\n",
       "\t inq\\_last\\_6mths                                                                                                                                                                                                 & The number of inquiries in past 6 months (excluding auto and mortgage inquiries)                                                                                                                                  \\\\\n",
       "\t installment                                                                                                                                                                                                        & The monthly payment owed by the borrower if the loan originates.                                                                                                                                                  \\\\\n",
       "\t int\\_rate                                                                                                                                                                                                         & Interest Rate on the loan                                                                                                                                                                                         \\\\\n",
       "\t is\\_inc\\_v                                                                                                                                                                                                       & Indicates if income was verified by LC, not verified, or if the income source was verified                                                                                                                        \\\\\n",
       "\t issue\\_d                                                                                                                                                                                                          & The month which the loan was funded                                                                                                                                                                               \\\\\n",
       "\t last\\_credit\\_pull\\_d                                                                                                                                                                                           & The most recent month LC pulled credit for this loan                                                                                                                                                              \\\\\n",
       "\t last\\_fico\\_range\\_high                                                                                                                                                                                         & The upper boundary range the borrower’s last FICO pulled belongs to.                                                                                                                                              \\\\\n",
       "\t last\\_fico\\_range\\_low                                                                                                                                                                                          & The lower boundary range the borrower’s last FICO pulled belongs to.                                                                                                                                              \\\\\n",
       "\t last\\_pymnt\\_amnt                                                                                                                                                                                                & Last total payment amount received                                                                                                                                                                                \\\\\n",
       "\t ... & ...\\\\\n",
       "\t sub\\_grade                                                                                                        & LC assigned loan subgrade                                                                                         \\\\\n",
       "\t term                                                                                                               & The number of payments on the loan. Values are in months and can be either 36 or 60.                              \\\\\n",
       "\t title                                                                                                              & The loan title provided by the borrower                                                                           \\\\\n",
       "\t total\\_acc                                                                                                        & The total number of credit lines currently in the borrower's credit file                                          \\\\\n",
       "\t total\\_pymnt                                                                                                      & Payments received to date for total amount funded                                                                 \\\\\n",
       "\t total\\_pymnt\\_inv                                                                                                & Payments received to date for portion of total amount funded by investors                                         \\\\\n",
       "\t total\\_rec\\_int                                                                                                  & Interest received to date                                                                                         \\\\\n",
       "\t total\\_rec\\_late\\_fee                                                                                           & Late fees received to date                                                                                        \\\\\n",
       "\t total\\_rec\\_prncp                                                                                                & Principal received to date                                                                                        \\\\\n",
       "\t url                                                                                                                & URL for the LC page with listing data.                                                                            \\\\\n",
       "\t verified\\_status\\_joint                                                                                          & Indicates if the co-borrowers' joint income was verified by LC, not verified, or if the income source was verified\\\\\n",
       "\t zip\\_code                                                                                                         & The first 3 numbers of the zip code provided by the borrower in the loan application.                             \\\\\n",
       "\t open\\_acc\\_6m                                                                                                    & Number of open trades in last 6 months                                                                            \\\\\n",
       "\t open\\_il\\_6m                                                                                                     & Number of currently active installment trades                                                                     \\\\\n",
       "\t open\\_il\\_12m                                                                                                    & Number of installment accounts opened in past 12 months                                                           \\\\\n",
       "\t open\\_il\\_24m                                                                                                    & Number of installment accounts opened in past 24 months                                                           \\\\\n",
       "\t mths\\_since\\_rcnt\\_il                                                                                           & Months since most recent installment accounts opened                                                              \\\\\n",
       "\t total\\_bal\\_il                                                                                                   & Total current balance of all installment accounts                                                                 \\\\\n",
       "\t il\\_util                                                                                                          & Ratio of total current balance to high credit/credit limit on all install acct                                    \\\\\n",
       "\t open\\_rv\\_12m                                                                                                    & Number of revolving trades opened in past 12 months                                                               \\\\\n",
       "\t open\\_rv\\_24m                                                                                                    & Number of revolving trades opened in past 24 months                                                               \\\\\n",
       "\t max\\_bal\\_bc                                                                                                     & Maximum current balance owed on all revolving accounts                                                            \\\\\n",
       "\t all\\_util                                                                                                         & Balance to credit limit on all trades                                                                             \\\\\n",
       "\t total\\_rev\\_hi\\_lim                                                                                             & Total revolving high credit/credit limit                                                                          \\\\\n",
       "\t inq\\_fi                                                                                                           & Number of personal finance inquiries                                                                              \\\\\n",
       "\t total\\_cu\\_tl                                                                                                    & Number of finance trades                                                                                          \\\\\n",
       "\t inq\\_last\\_12m                                                                                                   & Number of credit inquiries in past 12 months                                                                      \\\\\n",
       "\t acc\\_now\\_delinq                                                                                                 & The number of accounts on which the borrower is now delinquent.                                                   \\\\\n",
       "\t tot\\_coll\\_amt                                                                                                   & Total collection amounts ever owed                                                                                \\\\\n",
       "\t tot\\_cur\\_bal                                                                                                    & Total current balance of all accounts                                                                             \\\\\n",
       "\\end{tabular}\n"
      ],
      "text/markdown": [
       "\n",
       "LoanStatNew | Description | \n",
       "|---|---|---|---|---|---|---|---|---|---|---|---|---|---|---|---|---|---|---|---|---|---|---|---|---|---|---|---|---|---|---|---|---|---|---|---|---|---|---|---|---|---|---|---|---|---|---|---|---|---|---|---|---|---|---|---|---|---|---|---|---|\n",
       "| addr_state                                                                                                                                                                                                         | The state provided by the borrower in the loan application                                                                                                                                                         | \n",
       "| annual_inc                                                                                                                                                                                                         | The self-reported annual income provided by the borrower during registration.                                                                                                                                      | \n",
       "| annual_inc_joint                                                                                                                                                                                                   | The combined self-reported annual income provided by the co-borrowers during registration                                                                                                                          | \n",
       "| application_type                                                                                                                                                                                                   | Indicates whether the loan is an individual application or a joint application with two co-borrowers                                                                                                               | \n",
       "| collection_recovery_fee                                                                                                                                                                                            | post charge off collection fee                                                                                                                                                                                     | \n",
       "| collections_12_mths_ex_med                                                                                                                                                                                         | Number of collections in 12 months excluding medical collections                                                                                                                                                   | \n",
       "| delinq_2yrs                                                                                                                                                                                                        | The number of 30+ days past-due incidences of delinquency in the borrower's credit file for the past 2 years                                                                                                       | \n",
       "| desc                                                                                                                                                                                                               | Loan description provided by the borrower                                                                                                                                                                          | \n",
       "| dti                                                                                                                                                                                                                | A ratio calculated using the borrower’s total monthly debt payments on the total debt obligations, excluding mortgage and the requested LC loan, divided by the borrower’s self-reported monthly income.           | \n",
       "| dti_joint                                                                                                                                                                                                          | A ratio calculated using the co-borrowers' total monthly payments on the total debt obligations, excluding mortgages and the requested LC loan, divided by the co-borrowers' combined self-reported monthly income | \n",
       "| earliest_cr_line                                                                                                                                                                                                   | The month the borrower's earliest reported credit line was opened                                                                                                                                                  | \n",
       "| emp_length                                                                                                                                                                                                         | Employment length in years. Possible values are between 0 and 10 where 0 means less than one year and 10 means ten or more years.                                                                                  | \n",
       "| emp_title                                                                                                                                                                                                          | The job title supplied by the Borrower when applying for the loan.*                                                                                                                                                | \n",
       "| fico_range_high                                                                                                                                                                                                    | The upper boundary range the borrower’s FICO at loan origination belongs to.                                                                                                                                       | \n",
       "| fico_range_low                                                                                                                                                                                                     | The lower boundary range the borrower’s FICO at loan origination belongs to.                                                                                                                                       | \n",
       "| funded_amnt                                                                                                                                                                                                        | The total amount committed to that loan at that point in time.                                                                                                                                                     | \n",
       "| funded_amnt_inv                                                                                                                                                                                                    | The total amount committed by investors for that loan at that point in time.                                                                                                                                       | \n",
       "| grade                                                                                                                                                                                                              | LC assigned loan grade                                                                                                                                                                                             | \n",
       "| home_ownership                                                                                                                                                                                                     | The home ownership status provided by the borrower during registration. Our values are: RENT, OWN, MORTGAGE, OTHER.                                                                                                | \n",
       "| id                                                                                                                                                                                                                 | A unique LC assigned ID for the loan listing.                                                                                                                                                                      | \n",
       "| initial_list_status                                                                                                                                                                                                | The initial listing status of the loan. Possible values are – W, F                                                                                                                                                 | \n",
       "| inq_last_6mths                                                                                                                                                                                                     | The number of inquiries in past 6 months (excluding auto and mortgage inquiries)                                                                                                                                   | \n",
       "| installment                                                                                                                                                                                                        | The monthly payment owed by the borrower if the loan originates.                                                                                                                                                   | \n",
       "| int_rate                                                                                                                                                                                                           | Interest Rate on the loan                                                                                                                                                                                          | \n",
       "| is_inc_v                                                                                                                                                                                                           | Indicates if income was verified by LC, not verified, or if the income source was verified                                                                                                                         | \n",
       "| issue_d                                                                                                                                                                                                            | The month which the loan was funded                                                                                                                                                                                | \n",
       "| last_credit_pull_d                                                                                                                                                                                                 | The most recent month LC pulled credit for this loan                                                                                                                                                               | \n",
       "| last_fico_range_high                                                                                                                                                                                               | The upper boundary range the borrower’s last FICO pulled belongs to.                                                                                                                                               | \n",
       "| last_fico_range_low                                                                                                                                                                                                | The lower boundary range the borrower’s last FICO pulled belongs to.                                                                                                                                               | \n",
       "| last_pymnt_amnt                                                                                                                                                                                                    | Last total payment amount received                                                                                                                                                                                 | \n",
       "| ... | ... | \n",
       "| sub_grade                                                                                                          | LC assigned loan subgrade                                                                                          | \n",
       "| term                                                                                                               | The number of payments on the loan. Values are in months and can be either 36 or 60.                               | \n",
       "| title                                                                                                              | The loan title provided by the borrower                                                                            | \n",
       "| total_acc                                                                                                          | The total number of credit lines currently in the borrower's credit file                                           | \n",
       "| total_pymnt                                                                                                        | Payments received to date for total amount funded                                                                  | \n",
       "| total_pymnt_inv                                                                                                    | Payments received to date for portion of total amount funded by investors                                          | \n",
       "| total_rec_int                                                                                                      | Interest received to date                                                                                          | \n",
       "| total_rec_late_fee                                                                                                 | Late fees received to date                                                                                         | \n",
       "| total_rec_prncp                                                                                                    | Principal received to date                                                                                         | \n",
       "| url                                                                                                                | URL for the LC page with listing data.                                                                             | \n",
       "| verified_status_joint                                                                                              | Indicates if the co-borrowers' joint income was verified by LC, not verified, or if the income source was verified | \n",
       "| zip_code                                                                                                           | The first 3 numbers of the zip code provided by the borrower in the loan application.                              | \n",
       "| open_acc_6m                                                                                                        | Number of open trades in last 6 months                                                                             | \n",
       "| open_il_6m                                                                                                         | Number of currently active installment trades                                                                      | \n",
       "| open_il_12m                                                                                                        | Number of installment accounts opened in past 12 months                                                            | \n",
       "| open_il_24m                                                                                                        | Number of installment accounts opened in past 24 months                                                            | \n",
       "| mths_since_rcnt_il                                                                                                 | Months since most recent installment accounts opened                                                               | \n",
       "| total_bal_il                                                                                                       | Total current balance of all installment accounts                                                                  | \n",
       "| il_util                                                                                                            | Ratio of total current balance to high credit/credit limit on all install acct                                     | \n",
       "| open_rv_12m                                                                                                        | Number of revolving trades opened in past 12 months                                                                | \n",
       "| open_rv_24m                                                                                                        | Number of revolving trades opened in past 24 months                                                                | \n",
       "| max_bal_bc                                                                                                         | Maximum current balance owed on all revolving accounts                                                             | \n",
       "| all_util                                                                                                           | Balance to credit limit on all trades                                                                              | \n",
       "| total_rev_hi_lim                                                                                                   | Total revolving high credit/credit limit                                                                           | \n",
       "| inq_fi                                                                                                             | Number of personal finance inquiries                                                                               | \n",
       "| total_cu_tl                                                                                                        | Number of finance trades                                                                                           | \n",
       "| inq_last_12m                                                                                                       | Number of credit inquiries in past 12 months                                                                       | \n",
       "| acc_now_delinq                                                                                                     | The number of accounts on which the borrower is now delinquent.                                                    | \n",
       "| tot_coll_amt                                                                                                       | Total collection amounts ever owed                                                                                 | \n",
       "| tot_cur_bal                                                                                                        | Total current balance of all accounts                                                                              | \n",
       "\n",
       "\n"
      ],
      "text/plain": [
       "    LoanStatNew               \n",
       "1   addr_state                \n",
       "2   annual_inc                \n",
       "3   annual_inc_joint          \n",
       "4   application_type          \n",
       "5   collection_recovery_fee   \n",
       "6   collections_12_mths_ex_med\n",
       "7   delinq_2yrs               \n",
       "8   desc                      \n",
       "9   dti                       \n",
       "10  dti_joint                 \n",
       "11  earliest_cr_line          \n",
       "12  emp_length                \n",
       "13  emp_title                 \n",
       "14  fico_range_high           \n",
       "15  fico_range_low            \n",
       "16  funded_amnt               \n",
       "17  funded_amnt_inv           \n",
       "18  grade                     \n",
       "19  home_ownership            \n",
       "20  id                        \n",
       "21  initial_list_status       \n",
       "22  inq_last_6mths            \n",
       "23  installment               \n",
       "24  int_rate                  \n",
       "25  is_inc_v                  \n",
       "26  issue_d                   \n",
       "27  last_credit_pull_d        \n",
       "28  last_fico_range_high      \n",
       "29  last_fico_range_low       \n",
       "30  last_pymnt_amnt           \n",
       "... ...                       \n",
       "49  sub_grade                 \n",
       "50  term                      \n",
       "51  title                     \n",
       "52  total_acc                 \n",
       "53  total_pymnt               \n",
       "54  total_pymnt_inv           \n",
       "55  total_rec_int             \n",
       "56  total_rec_late_fee        \n",
       "57  total_rec_prncp           \n",
       "58  url                       \n",
       "59  verified_status_joint     \n",
       "60  zip_code                  \n",
       "61  open_acc_6m               \n",
       "62  open_il_6m                \n",
       "63  open_il_12m               \n",
       "64  open_il_24m               \n",
       "65  mths_since_rcnt_il        \n",
       "66  total_bal_il              \n",
       "67  il_util                   \n",
       "68  open_rv_12m               \n",
       "69  open_rv_24m               \n",
       "70  max_bal_bc                \n",
       "71  all_util                  \n",
       "72  total_rev_hi_lim          \n",
       "73  inq_fi                    \n",
       "74  total_cu_tl               \n",
       "75  inq_last_12m              \n",
       "76  acc_now_delinq            \n",
       "77  tot_coll_amt              \n",
       "78  tot_cur_bal               \n",
       "    Description                                                                                                                                                                                                       \n",
       "1   The state provided by the borrower in the loan application                                                                                                                                                        \n",
       "2   The self-reported annual income provided by the borrower during registration.                                                                                                                                     \n",
       "3   The combined self-reported annual income provided by the co-borrowers during registration                                                                                                                         \n",
       "4   Indicates whether the loan is an individual application or a joint application with two co-borrowers                                                                                                              \n",
       "5   post charge off collection fee                                                                                                                                                                                    \n",
       "6   Number of collections in 12 months excluding medical collections                                                                                                                                                  \n",
       "7   The number of 30+ days past-due incidences of delinquency in the borrower's credit file for the past 2 years                                                                                                      \n",
       "8   Loan description provided by the borrower                                                                                                                                                                         \n",
       "9   A ratio calculated using the borrowers total monthly debt payments on the total debt obligations, excluding mortgage and the requested LC loan, divided by the borrowers self-reported monthly income.          \n",
       "10  A ratio calculated using the co-borrowers' total monthly payments on the total debt obligations, excluding mortgages and the requested LC loan, divided by the co-borrowers' combined self-reported monthly income\n",
       "11  The month the borrower's earliest reported credit line was opened                                                                                                                                                 \n",
       "12  Employment length in years. Possible values are between 0 and 10 where 0 means less than one year and 10 means ten or more years.                                                                                 \n",
       "13  The job title supplied by the Borrower when applying for the loan.*                                                                                                                                               \n",
       "14  The upper boundary range the borrowers FICO at loan origination belongs to.                                                                                                                                      \n",
       "15  The lower boundary range the borrowers FICO at loan origination belongs to.                                                                                                                                      \n",
       "16  The total amount committed to that loan at that point in time.                                                                                                                                                    \n",
       "17  The total amount committed by investors for that loan at that point in time.                                                                                                                                      \n",
       "18  LC assigned loan grade                                                                                                                                                                                            \n",
       "19  The home ownership status provided by the borrower during registration. Our values are: RENT, OWN, MORTGAGE, OTHER.                                                                                               \n",
       "20  A unique LC assigned ID for the loan listing.                                                                                                                                                                     \n",
       "21  The initial listing status of the loan. Possible values are  W, F                                                                                                                                                \n",
       "22  The number of inquiries in past 6 months (excluding auto and mortgage inquiries)                                                                                                                                  \n",
       "23  The monthly payment owed by the borrower if the loan originates.                                                                                                                                                  \n",
       "24  Interest Rate on the loan                                                                                                                                                                                         \n",
       "25  Indicates if income was verified by LC, not verified, or if the income source was verified                                                                                                                        \n",
       "26  The month which the loan was funded                                                                                                                                                                               \n",
       "27  The most recent month LC pulled credit for this loan                                                                                                                                                              \n",
       "28  The upper boundary range the borrowers last FICO pulled belongs to.                                                                                                                                              \n",
       "29  The lower boundary range the borrowers last FICO pulled belongs to.                                                                                                                                              \n",
       "30  Last total payment amount received                                                                                                                                                                                \n",
       "... ...                                                                                                                                                                                                               \n",
       "49  LC assigned loan subgrade                                                                                                                                                                                         \n",
       "50  The number of payments on the loan. Values are in months and can be either 36 or 60.                                                                                                                              \n",
       "51  The loan title provided by the borrower                                                                                                                                                                           \n",
       "52  The total number of credit lines currently in the borrower's credit file                                                                                                                                          \n",
       "53  Payments received to date for total amount funded                                                                                                                                                                 \n",
       "54  Payments received to date for portion of total amount funded by investors                                                                                                                                         \n",
       "55  Interest received to date                                                                                                                                                                                         \n",
       "56  Late fees received to date                                                                                                                                                                                        \n",
       "57  Principal received to date                                                                                                                                                                                        \n",
       "58  URL for the LC page with listing data.                                                                                                                                                                            \n",
       "59  Indicates if the co-borrowers' joint income was verified by LC, not verified, or if the income source was verified                                                                                                \n",
       "60  The first 3 numbers of the zip code provided by the borrower in the loan application.                                                                                                                             \n",
       "61  Number of open trades in last 6 months                                                                                                                                                                            \n",
       "62  Number of currently active installment trades                                                                                                                                                                     \n",
       "63  Number of installment accounts opened in past 12 months                                                                                                                                                           \n",
       "64  Number of installment accounts opened in past 24 months                                                                                                                                                           \n",
       "65  Months since most recent installment accounts opened                                                                                                                                                              \n",
       "66  Total current balance of all installment accounts                                                                                                                                                                 \n",
       "67  Ratio of total current balance to high credit/credit limit on all install acct                                                                                                                                    \n",
       "68  Number of revolving trades opened in past 12 months                                                                                                                                                               \n",
       "69  Number of revolving trades opened in past 24 months                                                                                                                                                               \n",
       "70  Maximum current balance owed on all revolving accounts                                                                                                                                                            \n",
       "71  Balance to credit limit on all trades                                                                                                                                                                             \n",
       "72  Total revolving high credit/credit limit                                                                                                                                                                          \n",
       "73  Number of personal finance inquiries                                                                                                                                                                              \n",
       "74  Number of finance trades                                                                                                                                                                                          \n",
       "75  Number of credit inquiries in past 12 months                                                                                                                                                                      \n",
       "76  The number of accounts on which the borrower is now delinquent.                                                                                                                                                   \n",
       "77  Total collection amounts ever owed                                                                                                                                                                                \n",
       "78  Total current balance of all accounts                                                                                                                                                                             "
      ]
     },
     "metadata": {},
     "output_type": "display_data"
    }
   ],
   "source": [
    "#data dictionary\n",
    "library(readxl)\n",
    "dataDictionary <- read_excel(\"LCDataDictionary.xlsx\")\n",
    "dataDictionary"
   ]
  },
  {
   "cell_type": "code",
   "execution_count": 18,
   "metadata": {},
   "outputs": [
    {
     "data": {
      "text/html": [
       "<ol class=list-inline>\n",
       "\t<li>'fico_range_high'</li>\n",
       "\t<li>'fico_range_low'</li>\n",
       "\t<li>'is_inc_v'</li>\n",
       "\t<li>'last_fico_range_high'</li>\n",
       "\t<li>'last_fico_range_low'</li>\n",
       "\t<li>'verified_status_joint'</li>\n",
       "\t<li>'total_rev_hi_lim  '</li>\n",
       "</ol>\n"
      ],
      "text/latex": [
       "\\begin{enumerate*}\n",
       "\\item 'fico\\_range\\_high'\n",
       "\\item 'fico\\_range\\_low'\n",
       "\\item 'is\\_inc\\_v'\n",
       "\\item 'last\\_fico\\_range\\_high'\n",
       "\\item 'last\\_fico\\_range\\_low'\n",
       "\\item 'verified\\_status\\_joint'\n",
       "\\item 'total\\_rev\\_hi\\_lim  '\n",
       "\\end{enumerate*}\n"
      ],
      "text/markdown": [
       "1. 'fico_range_high'\n",
       "2. 'fico_range_low'\n",
       "3. 'is_inc_v'\n",
       "4. 'last_fico_range_high'\n",
       "5. 'last_fico_range_low'\n",
       "6. 'verified_status_joint'\n",
       "7. 'total_rev_hi_lim  '\n",
       "\n",
       "\n"
      ],
      "text/plain": [
       "[1] \"fico_range_high\"       \"fico_range_low\"        \"is_inc_v\"             \n",
       "[4] \"last_fico_range_high\"  \"last_fico_range_low\"   \"verified_status_joint\"\n",
       "[7] \"total_rev_hi_lim  \"   "
      ]
     },
     "metadata": {},
     "output_type": "display_data"
    }
   ],
   "source": [
    "#some data fields do not exist in the data dictionary\n",
    "dd_names <- as.character(na.omit(dataDictionary$LoanStatNew))\n",
    "setdiff(dd_names, loan_names)"
   ]
  },
  {
   "cell_type": "markdown",
   "metadata": {},
   "source": [
    "# Missing data"
   ]
  },
  {
   "cell_type": "code",
   "execution_count": 20,
   "metadata": {},
   "outputs": [
    {
     "data": {
      "text/html": [
       "0.243400067060532"
      ],
      "text/latex": [
       "0.243400067060532"
      ],
      "text/markdown": [
       "0.243400067060532"
      ],
      "text/plain": [
       "[1] 0.2434001"
      ]
     },
     "metadata": {},
     "output_type": "display_data"
    }
   ],
   "source": [
    "#Check the missing value of this data set\n",
    "num.NA <- sort(sapply(loan, function(x) {sum(is.na(x))}), decreasing=TRUE)\n",
    "sum(is.na(loan)) / (nrow(loan) *ncol(loan))"
   ]
  },
  {
   "cell_type": "markdown",
   "metadata": {},
   "source": [
    "#How to deal with missing data\n",
    "#(1) Remove features with too many missing value, \n",
    "     or remove all rows with NA if you have a lot of data\n",
    "#(2) If not missing at random, add new level to represent NA, impute with 0,\n",
    "     or generate new feature.\n",
    "#(3) If missing at random, imputation using summary stats or modeling way.\n"
   ]
  },
  {
   "cell_type": "code",
   "execution_count": 38,
   "metadata": {},
   "outputs": [
    {
     "data": {
      "text/html": [
       "<table>\n",
       "<thead><tr><th scope=col>name</th><th scope=col>per50</th><th scope=col>percentage</th></tr></thead>\n",
       "<tbody>\n",
       "\t<tr><td>dti_joint         </td><td>TRUE              </td><td>0.9994264         </td></tr>\n",
       "\t<tr><td>annual_inc_joint  </td><td>TRUE              </td><td>0.9994241         </td></tr>\n",
       "\t<tr><td>il_util           </td><td>TRUE              </td><td>0.9790202         </td></tr>\n",
       "\t<tr><td>mths_since_rcnt_il</td><td>TRUE              </td><td>0.9765489         </td></tr>\n",
       "\t<tr><td>open_acc_6m       </td><td>TRUE              </td><td>0.9759156         </td></tr>\n",
       "\t<tr><td>open_il_6m        </td><td>TRUE              </td><td>0.9759156         </td></tr>\n",
       "</tbody>\n",
       "</table>\n"
      ],
      "text/latex": [
       "\\begin{tabular}{r|lll}\n",
       " name & per50 & percentage\\\\\n",
       "\\hline\n",
       "\t dti\\_joint          & TRUE                 & 0.9994264           \\\\\n",
       "\t annual\\_inc\\_joint   & TRUE                   & 0.9994241             \\\\\n",
       "\t il\\_util            & TRUE                 & 0.9790202           \\\\\n",
       "\t mths\\_since\\_rcnt\\_il & TRUE                     & 0.9765489               \\\\\n",
       "\t open\\_acc\\_6m        & TRUE                   & 0.9759156             \\\\\n",
       "\t open\\_il\\_6m         & TRUE                   & 0.9759156             \\\\\n",
       "\\end{tabular}\n"
      ],
      "text/markdown": [
       "\n",
       "name | per50 | percentage | \n",
       "|---|---|---|---|---|---|\n",
       "| dti_joint          | TRUE               | 0.9994264          | \n",
       "| annual_inc_joint   | TRUE               | 0.9994241          | \n",
       "| il_util            | TRUE               | 0.9790202          | \n",
       "| mths_since_rcnt_il | TRUE               | 0.9765489          | \n",
       "| open_acc_6m        | TRUE               | 0.9759156          | \n",
       "| open_il_6m         | TRUE               | 0.9759156          | \n",
       "\n",
       "\n"
      ],
      "text/plain": [
       "  name               per50 percentage\n",
       "1 dti_joint          TRUE  0.9994264 \n",
       "2 annual_inc_joint   TRUE  0.9994241 \n",
       "3 il_util            TRUE  0.9790202 \n",
       "4 mths_since_rcnt_il TRUE  0.9765489 \n",
       "5 open_acc_6m        TRUE  0.9759156 \n",
       "6 open_il_6m         TRUE  0.9759156 "
      ]
     },
     "metadata": {},
     "output_type": "display_data"
    }
   ],
   "source": [
    "dfnum.NA <- data.frame(name=names(num.NA), per50 = num.NA/nrow(loan)>=0.5,percentage=num.NA/dim(loan)[1], row.names = NULL)\n",
    "head(dfnum.NA)"
   ]
  },
  {
   "cell_type": "code",
   "execution_count": 39,
   "metadata": {
    "scrolled": true
   },
   "outputs": [
    {
     "data": {},
     "metadata": {},
     "output_type": "display_data"
    },
    {
     "data": {
      "image/png": "[encoded data removed]",
      "text/plain": [
       "plot without title"
      ]
     },
     "metadata": {},
     "output_type": "display_data"
    }
   ],
   "source": [
    "library(ggplot2)\n",
    "ggplot(data = dfnum.NA, aes(x=name, y=percentage)) + \n",
    "  geom_bar(aes(fill=per50), stat=\"identity\") + \n",
    "  scale_x_discrete(name =\"column names\", \n",
    "                   limits=dfnum.NA$name)+\n",
    "  theme(axis.text.x = element_text(angle=90, hjust=1, vjust=1),\n",
    "        legend.position = \"none\") +\n",
    "  geom_hline(yintercept = 0.5) + \n",
    "  ggtitle(\"percentage of missing\")"
   ]
  },
  {
   "cell_type": "code",
   "execution_count": 41,
   "metadata": {
    "collapsed": true
   },
   "outputs": [],
   "source": [
    "#drop the fields which have more than 50% missing value\n",
    "remain.col <- names(num.NA)[which(num.NA <= 0.5 * dim(loan)[1])]\n",
    "loan <- loan[, remain.col]"
   ]
  },
  {
   "cell_type": "markdown",
   "metadata": {},
   "source": [
    "# Data Exploration"
   ]
  },
  {
   "cell_type": "markdown",
   "metadata": {},
   "source": [
    " How do we explore data?\n",
    "  1) Numeric variables\n",
    "  2) Categorical variables\n",
    "  3) Numeric variable with numerical response\n",
    "  4) Categorical variable with numerical response\n",
    "  5) Numeric varialbe with categorical response\n",
    "  6) Categorical variable with categorical response"
   ]
  },
  {
   "cell_type": "code",
   "execution_count": 48,
   "metadata": {},
   "outputs": [
    {
     "data": {
      "text/html": [
       "<ol class=list-inline>\n",
       "\t<li>'tot_coll_amt'</li>\n",
       "\t<li>'tot_cur_bal'</li>\n",
       "\t<li>'total_rev_hi_lim'</li>\n",
       "\t<li>'revol_util'</li>\n",
       "\t<li>'collections_12_mths_ex_med'</li>\n",
       "\t<li>'delinq_2yrs'</li>\n",
       "\t<li>'inq_last_6mths'</li>\n",
       "\t<li>'open_acc'</li>\n",
       "\t<li>'pub_rec'</li>\n",
       "\t<li>'total_acc'</li>\n",
       "\t<li>'acc_now_delinq'</li>\n",
       "\t<li>'annual_inc'</li>\n",
       "\t<li>'id'</li>\n",
       "\t<li>'member_id'</li>\n",
       "\t<li>'loan_amnt'</li>\n",
       "\t<li>'funded_amnt'</li>\n",
       "\t<li>'funded_amnt_inv'</li>\n",
       "\t<li>'term'</li>\n",
       "\t<li>'installment'</li>\n",
       "\t<li>'grade'</li>\n",
       "\t<li>'sub_grade'</li>\n",
       "\t<li>'emp_title'</li>\n",
       "\t<li>'emp_length'</li>\n",
       "\t<li>'home_ownership'</li>\n",
       "\t<li>'verification_status'</li>\n",
       "\t<li>'issue_d'</li>\n",
       "\t<li>'loan_status'</li>\n",
       "\t<li>'pymnt_plan'</li>\n",
       "\t<li>'url'</li>\n",
       "\t<li>'desc'</li>\n",
       "\t<li>'purpose'</li>\n",
       "\t<li>'title'</li>\n",
       "\t<li>'zip_code'</li>\n",
       "\t<li>'addr_state'</li>\n",
       "\t<li>'dti'</li>\n",
       "\t<li>'earliest_cr_line'</li>\n",
       "\t<li>'revol_bal'</li>\n",
       "\t<li>'initial_list_status'</li>\n",
       "\t<li>'out_prncp'</li>\n",
       "\t<li>'out_prncp_inv'</li>\n",
       "\t<li>'total_pymnt'</li>\n",
       "\t<li>'total_pymnt_inv'</li>\n",
       "\t<li>'total_rec_prncp'</li>\n",
       "\t<li>'total_rec_int'</li>\n",
       "\t<li>'total_rec_late_fee'</li>\n",
       "\t<li>'recoveries'</li>\n",
       "\t<li>'collection_recovery_fee'</li>\n",
       "\t<li>'last_pymnt_d'</li>\n",
       "\t<li>'last_pymnt_amnt'</li>\n",
       "\t<li>'next_pymnt_d'</li>\n",
       "\t<li>'last_credit_pull_d'</li>\n",
       "\t<li>'policy_code'</li>\n",
       "\t<li>'application_type'</li>\n",
       "\t<li>'verification_status_joint'</li>\n",
       "</ol>\n"
      ],
      "text/latex": [
       "\\begin{enumerate*}\n",
       "\\item 'tot\\_coll\\_amt'\n",
       "\\item 'tot\\_cur\\_bal'\n",
       "\\item 'total\\_rev\\_hi\\_lim'\n",
       "\\item 'revol\\_util'\n",
       "\\item 'collections\\_12\\_mths\\_ex\\_med'\n",
       "\\item 'delinq\\_2yrs'\n",
       "\\item 'inq\\_last\\_6mths'\n",
       "\\item 'open\\_acc'\n",
       "\\item 'pub\\_rec'\n",
       "\\item 'total\\_acc'\n",
       "\\item 'acc\\_now\\_delinq'\n",
       "\\item 'annual\\_inc'\n",
       "\\item 'id'\n",
       "\\item 'member\\_id'\n",
       "\\item 'loan\\_amnt'\n",
       "\\item 'funded\\_amnt'\n",
       "\\item 'funded\\_amnt\\_inv'\n",
       "\\item 'term'\n",
       "\\item 'installment'\n",
       "\\item 'grade'\n",
       "\\item 'sub\\_grade'\n",
       "\\item 'emp\\_title'\n",
       "\\item 'emp\\_length'\n",
       "\\item 'home\\_ownership'\n",
       "\\item 'verification\\_status'\n",
       "\\item 'issue\\_d'\n",
       "\\item 'loan\\_status'\n",
       "\\item 'pymnt\\_plan'\n",
       "\\item 'url'\n",
       "\\item 'desc'\n",
       "\\item 'purpose'\n",
       "\\item 'title'\n",
       "\\item 'zip\\_code'\n",
       "\\item 'addr\\_state'\n",
       "\\item 'dti'\n",
       "\\item 'earliest\\_cr\\_line'\n",
       "\\item 'revol\\_bal'\n",
       "\\item 'initial\\_list\\_status'\n",
       "\\item 'out\\_prncp'\n",
       "\\item 'out\\_prncp\\_inv'\n",
       "\\item 'total\\_pymnt'\n",
       "\\item 'total\\_pymnt\\_inv'\n",
       "\\item 'total\\_rec\\_prncp'\n",
       "\\item 'total\\_rec\\_int'\n",
       "\\item 'total\\_rec\\_late\\_fee'\n",
       "\\item 'recoveries'\n",
       "\\item 'collection\\_recovery\\_fee'\n",
       "\\item 'last\\_pymnt\\_d'\n",
       "\\item 'last\\_pymnt\\_amnt'\n",
       "\\item 'next\\_pymnt\\_d'\n",
       "\\item 'last\\_credit\\_pull\\_d'\n",
       "\\item 'policy\\_code'\n",
       "\\item 'application\\_type'\n",
       "\\item 'verification\\_status\\_joint'\n",
       "\\end{enumerate*}\n"
      ],
      "text/markdown": [
       "1. 'tot_coll_amt'\n",
       "2. 'tot_cur_bal'\n",
       "3. 'total_rev_hi_lim'\n",
       "4. 'revol_util'\n",
       "5. 'collections_12_mths_ex_med'\n",
       "6. 'delinq_2yrs'\n",
       "7. 'inq_last_6mths'\n",
       "8. 'open_acc'\n",
       "9. 'pub_rec'\n",
       "10. 'total_acc'\n",
       "11. 'acc_now_delinq'\n",
       "12. 'annual_inc'\n",
       "13. 'id'\n",
       "14. 'member_id'\n",
       "15. 'loan_amnt'\n",
       "16. 'funded_amnt'\n",
       "17. 'funded_amnt_inv'\n",
       "18. 'term'\n",
       "19. 'installment'\n",
       "20. 'grade'\n",
       "21. 'sub_grade'\n",
       "22. 'emp_title'\n",
       "23. 'emp_length'\n",
       "24. 'home_ownership'\n",
       "25. 'verification_status'\n",
       "26. 'issue_d'\n",
       "27. 'loan_status'\n",
       "28. 'pymnt_plan'\n",
       "29. 'url'\n",
       "30. 'desc'\n",
       "31. 'purpose'\n",
       "32. 'title'\n",
       "33. 'zip_code'\n",
       "34. 'addr_state'\n",
       "35. 'dti'\n",
       "36. 'earliest_cr_line'\n",
       "37. 'revol_bal'\n",
       "38. 'initial_list_status'\n",
       "39. 'out_prncp'\n",
       "40. 'out_prncp_inv'\n",
       "41. 'total_pymnt'\n",
       "42. 'total_pymnt_inv'\n",
       "43. 'total_rec_prncp'\n",
       "44. 'total_rec_int'\n",
       "45. 'total_rec_late_fee'\n",
       "46. 'recoveries'\n",
       "47. 'collection_recovery_fee'\n",
       "48. 'last_pymnt_d'\n",
       "49. 'last_pymnt_amnt'\n",
       "50. 'next_pymnt_d'\n",
       "51. 'last_credit_pull_d'\n",
       "52. 'policy_code'\n",
       "53. 'application_type'\n",
       "54. 'verification_status_joint'\n",
       "\n",
       "\n"
      ],
      "text/plain": [
       " [1] \"tot_coll_amt\"               \"tot_cur_bal\"               \n",
       " [3] \"total_rev_hi_lim\"           \"revol_util\"                \n",
       " [5] \"collections_12_mths_ex_med\" \"delinq_2yrs\"               \n",
       " [7] \"inq_last_6mths\"             \"open_acc\"                  \n",
       " [9] \"pub_rec\"                    \"total_acc\"                 \n",
       "[11] \"acc_now_delinq\"             \"annual_inc\"                \n",
       "[13] \"id\"                         \"member_id\"                 \n",
       "[15] \"loan_amnt\"                  \"funded_amnt\"               \n",
       "[17] \"funded_amnt_inv\"            \"term\"                      \n",
       "[19] \"installment\"                \"grade\"                     \n",
       "[21] \"sub_grade\"                  \"emp_title\"                 \n",
       "[23] \"emp_length\"                 \"home_ownership\"            \n",
       "[25] \"verification_status\"        \"issue_d\"                   \n",
       "[27] \"loan_status\"                \"pymnt_plan\"                \n",
       "[29] \"url\"                        \"desc\"                      \n",
       "[31] \"purpose\"                    \"title\"                     \n",
       "[33] \"zip_code\"                   \"addr_state\"                \n",
       "[35] \"dti\"                        \"earliest_cr_line\"          \n",
       "[37] \"revol_bal\"                  \"initial_list_status\"       \n",
       "[39] \"out_prncp\"                  \"out_prncp_inv\"             \n",
       "[41] \"total_pymnt\"                \"total_pymnt_inv\"           \n",
       "[43] \"total_rec_prncp\"            \"total_rec_int\"             \n",
       "[45] \"total_rec_late_fee\"         \"recoveries\"                \n",
       "[47] \"collection_recovery_fee\"    \"last_pymnt_d\"              \n",
       "[49] \"last_pymnt_amnt\"            \"next_pymnt_d\"              \n",
       "[51] \"last_credit_pull_d\"         \"policy_code\"               \n",
       "[53] \"application_type\"           \"verification_status_joint\" "
      ]
     },
     "metadata": {},
     "output_type": "display_data"
    }
   ],
   "source": [
    "#target variable-- interest rate\n",
    "response = loan$int_rate\n",
    "features = loan[, -which(colnames(loan)==\"int_rate\")]\n",
    "colnames(features)"
   ]
  },
  {
   "cell_type": "code",
   "execution_count": 51,
   "metadata": {},
   "outputs": [
    {
     "data": {
      "text/html": [
       "13.246739679438"
      ],
      "text/latex": [
       "13.246739679438"
      ],
      "text/markdown": [
       "13.246739679438"
      ],
      "text/plain": [
       "[1] 13.24674"
      ]
     },
     "metadata": {},
     "output_type": "display_data"
    },
    {
     "data": {
      "text/html": [
       "4.3818674147124"
      ],
      "text/latex": [
       "4.3818674147124"
      ],
      "text/markdown": [
       "4.3818674147124"
      ],
      "text/plain": [
       "[1] 4.381867"
      ]
     },
     "metadata": {},
     "output_type": "display_data"
    },
    {
     "data": {
      "text/html": [
       "12.99"
      ],
      "text/latex": [
       "12.99"
      ],
      "text/markdown": [
       "12.99"
      ],
      "text/plain": [
       "[1] 12.99"
      ]
     },
     "metadata": {},
     "output_type": "display_data"
    },
    {
     "data": {
      "text/html": [
       "<dl class=dl-horizontal>\n",
       "\t<dt>10%</dt>\n",
       "\t\t<dd>7.69</dd>\n",
       "\t<dt>25%</dt>\n",
       "\t\t<dd>9.99</dd>\n",
       "\t<dt>50%</dt>\n",
       "\t\t<dd>12.99</dd>\n",
       "\t<dt>75%</dt>\n",
       "\t\t<dd>16.2</dd>\n",
       "\t<dt>90%</dt>\n",
       "\t\t<dd>18.99</dd>\n",
       "</dl>\n"
      ],
      "text/latex": [
       "\\begin{description*}\n",
       "\\item[10\\textbackslash{}\\%] 7.69\n",
       "\\item[25\\textbackslash{}\\%] 9.99\n",
       "\\item[50\\textbackslash{}\\%] 12.99\n",
       "\\item[75\\textbackslash{}\\%] 16.2\n",
       "\\item[90\\textbackslash{}\\%] 18.99\n",
       "\\end{description*}\n"
      ],
      "text/markdown": [
       "10%\n",
       ":   7.6925%\n",
       ":   9.9950%\n",
       ":   12.9975%\n",
       ":   16.290%\n",
       ":   18.99\n",
       "\n"
      ],
      "text/plain": [
       "  10%   25%   50%   75%   90% \n",
       " 7.69  9.99 12.99 16.20 18.99 "
      ]
     },
     "metadata": {},
     "output_type": "display_data"
    }
   ],
   "source": [
    "# numeric variables\n",
    "mean(loan$int_rate)\n",
    "sd(loan$int_rate)\n",
    "median(loan$int_rate)\n",
    "quantile(loan$int_rate, c(0.1, 0.25, 0.5, 0.75, 0.9))"
   ]
  },
  {
   "cell_type": "code",
   "execution_count": 52,
   "metadata": {},
   "outputs": [
    {
     "data": {
      "image/png": "[encoded data removed]",
      "text/plain": [
       "Plot with title \"density.default(x = loan$int_rate)\""
      ]
     },
     "metadata": {},
     "output_type": "display_data"
    }
   ],
   "source": [
    "plot(density(loan$int_rate))"
   ]
  },
  {
   "cell_type": "code",
   "execution_count": 53,
   "metadata": {},
   "outputs": [
    {
     "data": {
      "image/png": "[encoded data removed]",
      "text/plain": [
       "plot without title"
      ]
     },
     "metadata": {},
     "output_type": "display_data"
    }
   ],
   "source": [
    "# Q1 - 1.5IQR, Q1, median, Q3, Q3 + 1.5IQR, where IQR is interquartile range: Q3 - Q1\n",
    "boxplot(loan$int_rate)"
   ]
  },
  {
   "cell_type": "code",
   "execution_count": 72,
   "metadata": {},
   "outputs": [
    {
     "data": {},
     "metadata": {},
     "output_type": "display_data"
    },
    {
     "data": {
      "image/png": "[encoded data removed]",
      "text/plain": [
       "plot without title"
      ]
     },
     "metadata": {},
     "output_type": "display_data"
    }
   ],
   "source": [
    "plothistdensity <- function(data, nbins){\n",
    "    options(repr.plot.width=8, repr.plot.height=5)\n",
    "    p <- ggplot(data, aes(x=int_rate, y = ..density..))\n",
    "    p <- p + geom_histogram(aes(y=..count../sum(..count..)),\n",
    "                           bins = nbins,\n",
    "                           color = \"white\",\n",
    "                           fill=\"orange\")\n",
    "    p <- p + geom_density()\n",
    "    p + theme_dark() + \n",
    "    ylab(\"Normalized_Count\") + \n",
    "    ggtitle(paste(paste(\"int_rate : \", nbins), \" bins histogram with density\" ))  \n",
    "}\n",
    "plothistdensity(loan, 10)"
   ]
  },
  {
   "cell_type": "code",
   "execution_count": 73,
   "metadata": {},
   "outputs": [
    {
     "data": {},
     "metadata": {},
     "output_type": "display_data"
    },
    {
     "data": {
      "image/png": "[encoded data removed]",
      "text/plain": [
       "plot without title"
      ]
     },
     "metadata": {},
     "output_type": "display_data"
    }
   ],
   "source": [
    "plothistdensity(loan, 20)"
   ]
  },
  {
   "cell_type": "code",
   "execution_count": 64,
   "metadata": {},
   "outputs": [
    {
     "data": {
      "text/html": [
       "75027.5877607663"
      ],
      "text/latex": [
       "75027.5877607663"
      ],
      "text/markdown": [
       "75027.5877607663"
      ],
      "text/plain": [
       "[1] 75027.59"
      ]
     },
     "metadata": {},
     "output_type": "display_data"
    },
    {
     "data": {
      "text/html": [
       "64698.3001424066"
      ],
      "text/latex": [
       "64698.3001424066"
      ],
      "text/markdown": [
       "64698.3001424066"
      ],
      "text/plain": [
       "[1] 64698.3"
      ]
     },
     "metadata": {},
     "output_type": "display_data"
    },
    {
     "data": {
      "text/html": [
       "65000"
      ],
      "text/latex": [
       "65000"
      ],
      "text/markdown": [
       "65000"
      ],
      "text/plain": [
       "[1] 65000"
      ]
     },
     "metadata": {},
     "output_type": "display_data"
    },
    {
     "data": {
      "text/html": [
       "<dl class=dl-horizontal>\n",
       "\t<dt>10%</dt>\n",
       "\t\t<dd>34000</dd>\n",
       "\t<dt>25%</dt>\n",
       "\t\t<dd>45000</dd>\n",
       "\t<dt>50%</dt>\n",
       "\t\t<dd>65000</dd>\n",
       "\t<dt>75%</dt>\n",
       "\t\t<dd>90000</dd>\n",
       "\t<dt>90%</dt>\n",
       "\t\t<dd>124800</dd>\n",
       "</dl>\n"
      ],
      "text/latex": [
       "\\begin{description*}\n",
       "\\item[10\\textbackslash{}\\%] 34000\n",
       "\\item[25\\textbackslash{}\\%] 45000\n",
       "\\item[50\\textbackslash{}\\%] 65000\n",
       "\\item[75\\textbackslash{}\\%] 90000\n",
       "\\item[90\\textbackslash{}\\%] 124800\n",
       "\\end{description*}\n"
      ],
      "text/markdown": [
       "10%\n",
       ":   3400025%\n",
       ":   4500050%\n",
       ":   6500075%\n",
       ":   9000090%\n",
       ":   124800\n",
       "\n"
      ],
      "text/plain": [
       "   10%    25%    50%    75%    90% \n",
       " 34000  45000  65000  90000 124800 "
      ]
     },
     "metadata": {},
     "output_type": "display_data"
    }
   ],
   "source": [
    "mean(loan$annual_inc, na.rm = T)\n",
    "sd(loan$annual_inc, na.rm = T)\n",
    "median(loan$annual_inc, na.rm = T)\n",
    "quantile(loan$annual_inc, c(0.1, 0.25, 0.5, 0.75, 0.9), na.rm = T)"
   ]
  },
  {
   "cell_type": "code",
   "execution_count": 74,
   "metadata": {},
   "outputs": [
    {
     "data": {
      "image/png": "[encoded data removed]",
      "text/plain": [
       "Plot with title \"density.default(x = loan$annual_inc, na.rm = T)\""
      ]
     },
     "metadata": {},
     "output_type": "display_data"
    }
   ],
   "source": [
    "plot(density(loan$annual_inc, na.rm = T))"
   ]
  },
  {
   "cell_type": "code",
   "execution_count": 75,
   "metadata": {},
   "outputs": [
    {
     "data": {
      "image/png": "[encoded data removed]",
      "text/plain": [
       "Plot with title \"density.default(x = log(loan$annual_inc), na.rm = T)\""
      ]
     },
     "metadata": {},
     "output_type": "display_data"
    }
   ],
   "source": [
    "plot(density(log(loan$annual_inc), na.rm = T))"
   ]
  },
  {
   "cell_type": "code",
   "execution_count": 76,
   "metadata": {
    "scrolled": true
   },
   "outputs": [
    {
     "data": {
      "image/png": "[encoded data removed]",
      "text/plain": [
       "plot without title"
      ]
     },
     "metadata": {},
     "output_type": "display_data"
    }
   ],
   "source": [
    "# Q1 - 1.5IQR, Q1, median, Q3, Q3 + 1.5IQR, where IQR is interquartile range: Q3 - Q1\n",
    "boxplot(log(loan$annual_inc + 1))"
   ]
  },
  {
   "cell_type": "code",
   "execution_count": 77,
   "metadata": {},
   "outputs": [
    {
     "data": {
      "text/plain": [
       "\n",
       "Does not meet the credit policy. Status:Charged Off \n",
       "                                                761 \n",
       "                                            Default \n",
       "                                               1219 \n",
       " Does not meet the credit policy. Status:Fully Paid \n",
       "                                               1988 \n",
       "                                  Late (16-30 days) \n",
       "                                               2357 \n",
       "                                    In Grace Period \n",
       "                                               6253 \n",
       "                                             Issued \n",
       "                                               8460 \n",
       "                                 Late (31-120 days) \n",
       "                                              11591 \n",
       "                                        Charged Off \n",
       "                                              45248 \n",
       "                                         Fully Paid \n",
       "                                             207723 \n",
       "                                            Current \n",
       "                                             601779 "
      ]
     },
     "metadata": {},
     "output_type": "display_data"
    }
   ],
   "source": [
    "# Categorical variables\n",
    "sort(table(loan$loan_status))"
   ]
  },
  {
   "cell_type": "code",
   "execution_count": 78,
   "metadata": {},
   "outputs": [
    {
     "data": {
      "text/plain": [
       "\n",
       "Does not meet the credit policy. Status:Charged Off \n",
       "                                               0.00 \n",
       "                                            Default \n",
       "                                               0.00 \n",
       " Does not meet the credit policy. Status:Fully Paid \n",
       "                                               0.00 \n",
       "                                  Late (16-30 days) \n",
       "                                               0.00 \n",
       "                                    In Grace Period \n",
       "                                               0.01 \n",
       "                                             Issued \n",
       "                                               0.01 \n",
       "                                 Late (31-120 days) \n",
       "                                               0.01 \n",
       "                                        Charged Off \n",
       "                                               0.05 \n",
       "                                         Fully Paid \n",
       "                                               0.23 \n",
       "                                            Current \n",
       "                                               0.68 "
      ]
     },
     "metadata": {},
     "output_type": "display_data"
    }
   ],
   "source": [
    "round(sort(table(loan$loan_status)) / dim(loan)[1], 2)"
   ]
  },
  {
   "cell_type": "code",
   "execution_count": 80,
   "metadata": {},
   "outputs": [],
   "source": [
    "# remove certain string from loan_status\n",
    "loan$loan_status = gsub(\"Does not meet the credit policy. Status:\", \"\", loan$loan_status)"
   ]
  },
  {
   "cell_type": "code",
   "execution_count": 81,
   "metadata": {},
   "outputs": [
    {
     "data": {
      "image/png": "[encoded data removed]",
      "text/plain": [
       "plot without title"
      ]
     },
     "metadata": {},
     "output_type": "display_data"
    }
   ],
   "source": [
    "barplot(sort(table(loan$loan_status), decreasing = TRUE))"
   ]
  },
  {
   "cell_type": "code",
   "execution_count": 83,
   "metadata": {},
   "outputs": [
    {
     "data": {
      "text/plain": [
       "\n",
       "           Current         Fully Paid        Charged Off Late (31-120 days) \n",
       "            601779             209711              46009              11591 \n",
       "            Issued    In Grace Period  Late (16-30 days)            Default \n",
       "              8460               6253               2357               1219 "
      ]
     },
     "metadata": {},
     "output_type": "display_data"
    }
   ],
   "source": [
    "sort(table(loan$loan_status), decreasing = TRUE)"
   ]
  },
  {
   "cell_type": "code",
   "execution_count": 87,
   "metadata": {
    "collapsed": true
   },
   "outputs": [],
   "source": [
    "#generate new features\n",
    "loan$loan_status_1 = ifelse(loan$loan_status %in% c(\"'Current\",\"Fully Paid\",\"Issued\"), 1, 0)"
   ]
  },
  {
   "cell_type": "code",
   "execution_count": 89,
   "metadata": {},
   "outputs": [
    {
     "data": {
      "text/plain": [
       "\n",
       "     0      1 \n",
       "669208 218171 "
      ]
     },
     "metadata": {},
     "output_type": "display_data"
    }
   ],
   "source": [
    "table(loan$loan_status_1)"
   ]
  },
  {
   "cell_type": "code",
   "execution_count": 90,
   "metadata": {},
   "outputs": [
    {
     "data": {
      "text/plain": [
       "\n",
       "       educational   renewable_energy            wedding              house \n",
       "               423                575               2347               3707 \n",
       "          vacation             moving            medical                car \n",
       "              4736               5414               8540               8863 \n",
       "    small_business     major_purchase              other   home_improvement \n",
       "             10377              17277              42894              51829 \n",
       "       credit_card debt_consolidation \n",
       "            206182             524215 "
      ]
     },
     "metadata": {},
     "output_type": "display_data"
    }
   ],
   "source": [
    "#purpose\n",
    "sort(table(loan$purpose))"
   ]
  },
  {
   "cell_type": "code",
   "execution_count": 91,
   "metadata": {},
   "outputs": [
    {
     "data": {
      "text/plain": [
       "\n",
       "       educational   renewable_energy            wedding              house \n",
       "              0.00               0.00               0.00               0.00 \n",
       "          vacation             moving            medical                car \n",
       "              0.01               0.01               0.01               0.01 \n",
       "    small_business     major_purchase              other   home_improvement \n",
       "              0.01               0.02               0.05               0.06 \n",
       "       credit_card debt_consolidation \n",
       "              0.23               0.59 "
      ]
     },
     "metadata": {},
     "output_type": "display_data"
    }
   ],
   "source": [
    "round(sort(table(loan$purpose)) / dim(loan)[1], 2)"
   ]
  },
  {
   "cell_type": "code",
   "execution_count": 93,
   "metadata": {},
   "outputs": [
    {
     "data": {
      "image/png": "[encoded data removed]",
      "text/plain": [
       "plot without title"
      ]
     },
     "metadata": {},
     "output_type": "display_data"
    }
   ],
   "source": [
    "barplot(sort(table(loan$purpose), decreasing = TRUE))"
   ]
  },
  {
   "cell_type": "code",
   "execution_count": 94,
   "metadata": {},
   "outputs": [
    {
     "data": {
      "image/png": "[encoded data removed]",
      "text/plain": [
       "plot without title"
      ]
     },
     "metadata": {},
     "output_type": "display_data"
    }
   ],
   "source": [
    "# Numeric variable with numerical response, interest rate\n",
    "with(loan, plot(log(annual_inc + 1), int_rate))"
   ]
  },
  {
   "cell_type": "code",
   "execution_count": 100,
   "metadata": {},
   "outputs": [
    {
     "data": {
      "text/html": [
       "<table>\n",
       "<thead><tr><th></th><th scope=col>int_rate</th><th scope=col>total_acc</th><th scope=col>acc_now_delinq</th><th scope=col>annual_inc</th><th scope=col>dti</th><th scope=col>loan_amnt</th></tr></thead>\n",
       "<tbody>\n",
       "\t<tr><th scope=row>int_rate</th><td>1.00000000</td><td>NA        </td><td>NA        </td><td>NA        </td><td>0.07990255</td><td>0.14502310</td></tr>\n",
       "\t<tr><th scope=row>total_acc</th><td>        NA</td><td> 1        </td><td>NA        </td><td>NA        </td><td>        NA</td><td>        NA</td></tr>\n",
       "\t<tr><th scope=row>acc_now_delinq</th><td>        NA</td><td>NA        </td><td> 1        </td><td>NA        </td><td>        NA</td><td>        NA</td></tr>\n",
       "\t<tr><th scope=row>annual_inc</th><td>        NA</td><td>NA        </td><td>NA        </td><td> 1        </td><td>        NA</td><td>        NA</td></tr>\n",
       "\t<tr><th scope=row>dti</th><td>0.07990255</td><td>NA        </td><td>NA        </td><td>NA        </td><td>1.00000000</td><td>0.02067549</td></tr>\n",
       "\t<tr><th scope=row>loan_amnt</th><td>0.14502310</td><td>NA        </td><td>NA        </td><td>NA        </td><td>0.02067549</td><td>1.00000000</td></tr>\n",
       "</tbody>\n",
       "</table>\n"
      ],
      "text/latex": [
       "\\begin{tabular}{r|llllll}\n",
       "  & int\\_rate & total\\_acc & acc\\_now\\_delinq & annual\\_inc & dti & loan\\_amnt\\\\\n",
       "\\hline\n",
       "\tint\\_rate & 1.00000000 & NA         & NA         & NA         & 0.07990255 & 0.14502310\\\\\n",
       "\ttotal\\_acc &         NA &  1         & NA         & NA         &         NA &         NA\\\\\n",
       "\tacc\\_now\\_delinq &         NA & NA         &  1         & NA         &         NA &         NA\\\\\n",
       "\tannual\\_inc &         NA & NA         & NA         &  1         &         NA &         NA\\\\\n",
       "\tdti & 0.07990255 & NA         & NA         & NA         & 1.00000000 & 0.02067549\\\\\n",
       "\tloan\\_amnt & 0.14502310 & NA         & NA         & NA         & 0.02067549 & 1.00000000\\\\\n",
       "\\end{tabular}\n"
      ],
      "text/markdown": [
       "\n",
       "| <!--/--> | int_rate | total_acc | acc_now_delinq | annual_inc | dti | loan_amnt | \n",
       "|---|---|---|---|---|---|\n",
       "| int_rate | 1.00000000 | NA         | NA         | NA         | 0.07990255 | 0.14502310 | \n",
       "| total_acc |         NA |  1         | NA         | NA         |         NA |         NA | \n",
       "| acc_now_delinq |         NA | NA         |  1         | NA         |         NA |         NA | \n",
       "| annual_inc |         NA | NA         | NA         |  1         |         NA |         NA | \n",
       "| dti | 0.07990255 | NA         | NA         | NA         | 1.00000000 | 0.02067549 | \n",
       "| loan_amnt | 0.14502310 | NA         | NA         | NA         | 0.02067549 | 1.00000000 | \n",
       "\n",
       "\n"
      ],
      "text/plain": [
       "               int_rate   total_acc acc_now_delinq annual_inc dti       \n",
       "int_rate       1.00000000 NA        NA             NA         0.07990255\n",
       "total_acc              NA  1        NA             NA                 NA\n",
       "acc_now_delinq         NA NA         1             NA                 NA\n",
       "annual_inc             NA NA        NA              1                 NA\n",
       "dti            0.07990255 NA        NA             NA         1.00000000\n",
       "loan_amnt      0.14502310 NA        NA             NA         0.02067549\n",
       "               loan_amnt \n",
       "int_rate       0.14502310\n",
       "total_acc              NA\n",
       "acc_now_delinq         NA\n",
       "annual_inc             NA\n",
       "dti            0.02067549\n",
       "loan_amnt      1.00000000"
      ]
     },
     "metadata": {},
     "output_type": "display_data"
    }
   ],
   "source": [
    "library(corrplot)\n",
    "correlations <- cor(loan[, c('int_rate', 'total_acc', 'acc_now_delinq', 'annual_inc',\n",
    "                             'dti', 'loan_amnt')]) \n",
    "correlations"
   ]
  },
  {
   "cell_type": "code",
   "execution_count": 101,
   "metadata": {},
   "outputs": [
    {
     "data": {
      "text/html": [
       "<table>\n",
       "<thead><tr><th></th><th scope=col>int_rate</th><th scope=col>total_acc</th><th scope=col>acc_now_delinq</th><th scope=col>annual_inc</th><th scope=col>dti</th><th scope=col>loan_amnt</th></tr></thead>\n",
       "<tbody>\n",
       "\t<tr><th scope=row>int_rate</th><td> 1.00000000 </td><td>-0.03861820 </td><td>0.026478461 </td><td>-0.07278563 </td><td> 0.079902551</td><td>0.145023099 </td></tr>\n",
       "\t<tr><th scope=row>total_acc</th><td>-0.03861820 </td><td> 1.00000000 </td><td>0.026460589 </td><td> 0.18733469 </td><td> 0.108055639</td><td>0.222638992 </td></tr>\n",
       "\t<tr><th scope=row>acc_now_delinq</th><td> 0.02647846 </td><td> 0.02646059 </td><td>1.000000000 </td><td> 0.01477517 </td><td> 0.003205314</td><td>0.003946694 </td></tr>\n",
       "\t<tr><th scope=row>annual_inc</th><td>-0.07278563 </td><td> 0.18733469 </td><td>0.014775175 </td><td> 1.00000000 </td><td>-0.087409546</td><td>0.332697619 </td></tr>\n",
       "\t<tr><th scope=row>dti</th><td> 0.07990255 </td><td> 0.10805564 </td><td>0.003205314 </td><td>-0.08740955 </td><td> 1.000000000</td><td>0.020675487 </td></tr>\n",
       "\t<tr><th scope=row>loan_amnt</th><td> 0.14502310 </td><td> 0.22263899 </td><td>0.003946694 </td><td> 0.33269762 </td><td> 0.020675487</td><td>1.000000000 </td></tr>\n",
       "</tbody>\n",
       "</table>\n"
      ],
      "text/latex": [
       "\\begin{tabular}{r|llllll}\n",
       "  & int\\_rate & total\\_acc & acc\\_now\\_delinq & annual\\_inc & dti & loan\\_amnt\\\\\n",
       "\\hline\n",
       "\tint\\_rate &  1.00000000  & -0.03861820  & 0.026478461  & -0.07278563  &  0.079902551 & 0.145023099 \\\\\n",
       "\ttotal\\_acc & -0.03861820  &  1.00000000  & 0.026460589  &  0.18733469  &  0.108055639 & 0.222638992 \\\\\n",
       "\tacc\\_now\\_delinq &  0.02647846  &  0.02646059  & 1.000000000  &  0.01477517  &  0.003205314 & 0.003946694 \\\\\n",
       "\tannual\\_inc & -0.07278563  &  0.18733469  & 0.014775175  &  1.00000000  & -0.087409546 & 0.332697619 \\\\\n",
       "\tdti &  0.07990255  &  0.10805564  & 0.003205314  & -0.08740955  &  1.000000000 & 0.020675487 \\\\\n",
       "\tloan\\_amnt &  0.14502310  &  0.22263899  & 0.003946694  &  0.33269762  &  0.020675487 & 1.000000000 \\\\\n",
       "\\end{tabular}\n"
      ],
      "text/markdown": [
       "\n",
       "| <!--/--> | int_rate | total_acc | acc_now_delinq | annual_inc | dti | loan_amnt | \n",
       "|---|---|---|---|---|---|\n",
       "| int_rate |  1.00000000  | -0.03861820  | 0.026478461  | -0.07278563  |  0.079902551 | 0.145023099  | \n",
       "| total_acc | -0.03861820  |  1.00000000  | 0.026460589  |  0.18733469  |  0.108055639 | 0.222638992  | \n",
       "| acc_now_delinq |  0.02647846  |  0.02646059  | 1.000000000  |  0.01477517  |  0.003205314 | 0.003946694  | \n",
       "| annual_inc | -0.07278563  |  0.18733469  | 0.014775175  |  1.00000000  | -0.087409546 | 0.332697619  | \n",
       "| dti |  0.07990255  |  0.10805564  | 0.003205314  | -0.08740955  |  1.000000000 | 0.020675487  | \n",
       "| loan_amnt |  0.14502310  |  0.22263899  | 0.003946694  |  0.33269762  |  0.020675487 | 1.000000000  | \n",
       "\n",
       "\n"
      ],
      "text/plain": [
       "               int_rate    total_acc   acc_now_delinq annual_inc  dti         \n",
       "int_rate        1.00000000 -0.03861820 0.026478461    -0.07278563  0.079902551\n",
       "total_acc      -0.03861820  1.00000000 0.026460589     0.18733469  0.108055639\n",
       "acc_now_delinq  0.02647846  0.02646059 1.000000000     0.01477517  0.003205314\n",
       "annual_inc     -0.07278563  0.18733469 0.014775175     1.00000000 -0.087409546\n",
       "dti             0.07990255  0.10805564 0.003205314    -0.08740955  1.000000000\n",
       "loan_amnt       0.14502310  0.22263899 0.003946694     0.33269762  0.020675487\n",
       "               loan_amnt  \n",
       "int_rate       0.145023099\n",
       "total_acc      0.222638992\n",
       "acc_now_delinq 0.003946694\n",
       "annual_inc     0.332697619\n",
       "dti            0.020675487\n",
       "loan_amnt      1.000000000"
      ]
     },
     "metadata": {},
     "output_type": "display_data"
    }
   ],
   "source": [
    "# possible to see NA if features has missing value\n",
    "correlations <- cor(loan[, c('int_rate', 'total_acc', 'acc_now_delinq', 'annual_inc',\n",
    "                             'dti', 'loan_amnt')], \n",
    "                    use = \"pairwise.complete.obs\")\n",
    "correlations"
   ]
  },
  {
   "cell_type": "code",
   "execution_count": 102,
   "metadata": {},
   "outputs": [
    {
     "data": {
      "image/png": "[encoded data removed]",
      "text/plain": [
       "Plot with title \"\""
      ]
     },
     "metadata": {},
     "output_type": "display_data"
    }
   ],
   "source": [
    "corrplot(correlations, method = \"square\", tl.cex = 1, type = 'lower')"
   ]
  },
  {
   "cell_type": "code",
   "execution_count": 103,
   "metadata": {},
   "outputs": [
    {
     "data": {
      "image/png": "[encoded data removed]",
      "text/plain": [
       "plot without title"
      ]
     },
     "metadata": {},
     "output_type": "display_data"
    }
   ],
   "source": [
    "# Categorical variable with numerical response\n",
    "#int_rate & term\n",
    "boxplot(subset(loan, term == ' 36 months')$int_rate,\n",
    "        subset(loan, term == ' 60 months')$int_rate)"
   ]
  },
  {
   "cell_type": "code",
   "execution_count": 104,
   "metadata": {},
   "outputs": [
    {
     "data": {
      "image/png": "[encoded data removed]",
      "text/plain": [
       "plot without title"
      ]
     },
     "metadata": {},
     "output_type": "display_data"
    }
   ],
   "source": [
    "#int_rate and purpose\n",
    "boxplot(int_rate ~ purpose, data = loan)"
   ]
  },
  {
   "cell_type": "code",
   "execution_count": 105,
   "metadata": {},
   "outputs": [
    {
     "name": "stderr",
     "output_type": "stream",
     "text": [
      "Warning message:\n",
      "\"package 'zoo' was built under R version 3.4.3\"\n",
      "Attaching package: 'zoo'\n",
      "\n",
      "The following objects are masked from 'package:base':\n",
      "\n",
      "    as.Date, as.Date.numeric\n",
      "\n"
     ]
    },
    {
     "data": {
      "text/html": [
       "<ol class=list-inline>\n",
       "\t<li>'Dec-2011'</li>\n",
       "\t<li>'Dec-2011'</li>\n",
       "\t<li>'Dec-2011'</li>\n",
       "\t<li>'Dec-2011'</li>\n",
       "\t<li>'Dec-2011'</li>\n",
       "\t<li>'Dec-2011'</li>\n",
       "</ol>\n"
      ],
      "text/latex": [
       "\\begin{enumerate*}\n",
       "\\item 'Dec-2011'\n",
       "\\item 'Dec-2011'\n",
       "\\item 'Dec-2011'\n",
       "\\item 'Dec-2011'\n",
       "\\item 'Dec-2011'\n",
       "\\item 'Dec-2011'\n",
       "\\end{enumerate*}\n"
      ],
      "text/markdown": [
       "1. 'Dec-2011'\n",
       "2. 'Dec-2011'\n",
       "3. 'Dec-2011'\n",
       "4. 'Dec-2011'\n",
       "5. 'Dec-2011'\n",
       "6. 'Dec-2011'\n",
       "\n",
       "\n"
      ],
      "text/plain": [
       "[1] \"Dec-2011\" \"Dec-2011\" \"Dec-2011\" \"Dec-2011\" \"Dec-2011\" \"Dec-2011\""
      ]
     },
     "metadata": {},
     "output_type": "display_data"
    }
   ],
   "source": [
    "#deal with time formate data\n",
    "library(zoo)\n",
    "head(loan$issue_d)"
   ]
  },
  {
   "cell_type": "code",
   "execution_count": 106,
   "metadata": {
    "scrolled": true
   },
   "outputs": [
    {
     "data": {
      "image/png": "[encoded data removed]",
      "text/plain": [
       "plot without title"
      ]
     },
     "metadata": {},
     "output_type": "display_data"
    }
   ],
   "source": [
    "loan$issue_d_1 <- as.Date(as.yearmon(loan$issue_d, \"%b-%Y\"))\n",
    "loan$issue_year <- format(loan$issue_d_1, '%Y')\n",
    "loan$issue_mon <- format(loan$issue_d_1, '%m')\n",
    "int.rate.by.time <- by(loan, loan$issue_d_1, function(x) {return(median(x$int_rate))})\n",
    "plot(as.Date(names(int.rate.by.time)), int.rate.by.time, type = 'l')\n"
   ]
  },
  {
   "cell_type": "code",
   "execution_count": 107,
   "metadata": {},
   "outputs": [
    {
     "data": {
      "image/png": "[encoded data removed]",
      "text/plain": [
       "plot without title"
      ]
     },
     "metadata": {},
     "output_type": "display_data"
    }
   ],
   "source": [
    "int.rate.by.year <- by(loan, loan$issue_year, function(x) {return(median(x$int_rate))})\n",
    "plot(names(int.rate.by.year), int.rate.by.year, type = 'l')"
   ]
  },
  {
   "cell_type": "code",
   "execution_count": 108,
   "metadata": {},
   "outputs": [
    {
     "data": {},
     "metadata": {},
     "output_type": "display_data"
    },
    {
     "data": {
      "image/png": "[encoded data removed]",
      "text/plain": [
       "plot without title"
      ]
     },
     "metadata": {},
     "output_type": "display_data"
    }
   ],
   "source": [
    "# Not only see the median by time, but also see the distribution by time.\n",
    "#boxplot of relationship between interest rate and year\n",
    "library(lattice)\n",
    "bwplot(int_rate ~ issue_year, data = loan)"
   ]
  },
  {
   "cell_type": "code",
   "execution_count": 109,
   "metadata": {},
   "outputs": [
    {
     "data": {
      "image/png": "[encoded data removed]",
      "text/plain": [
       "plot without title"
      ]
     },
     "metadata": {},
     "output_type": "display_data"
    }
   ],
   "source": [
    "# Numeric variable with categorical response\n",
    "#isssued and not issued\n",
    "boxplot(log(subset(loan, loan_status_1 == 0)$annual_inc + 1),\n",
    "        log(subset(loan, loan_status_1 == 1)$annual_inc + 1))"
   ]
  },
  {
   "cell_type": "code",
   "execution_count": 119,
   "metadata": {},
   "outputs": [
    {
     "data": {
      "image/png": "[encoded data removed]",
      "text/plain": [
       "Plot with title \"density.default(x = log(1 + annual_inc), na.rm = T)\""
      ]
     },
     "metadata": {},
     "output_type": "display_data"
    }
   ],
   "source": [
    "#issued loan annual income\n",
    "with(subset(loan, loan_status_1 == 1), plot(density(log(1 + annual_inc), na.rm=T)))\n",
    "with(subset(loan, loan_status_1 == 0), lines(density(log(1 + annual_inc)), col = 'red'))"
   ]
  },
  {
   "cell_type": "code",
   "execution_count": 120,
   "metadata": {},
   "outputs": [
    {
     "data": {
      "text/plain": [
       "   \n",
       "       car credit_card debt_consolidation educational home_improvement  house\n",
       "  0   5533      161590             397847          89            38533   2271\n",
       "  1   3330       44592             126368         334            13296   1436\n",
       "   \n",
       "    major_purchase medical moving  other renewable_energy small_business\n",
       "  0          11602    6128   3728  30770              354           6801\n",
       "  1           5675    2412   1686  12124              221           3576\n",
       "   \n",
       "    vacation wedding\n",
       "  0     3348     614\n",
       "  1     1388    1733"
      ]
     },
     "metadata": {},
     "output_type": "display_data"
    },
    {
     "data": {
      "text/plain": [
       "   \n",
       "             car  credit_card debt_consolidation  educational home_improvement\n",
       "  0 0.0082679825 0.2414645372       0.5945042498 0.0001329930     0.0575800050\n",
       "  1 0.0152632568 0.2043901343       0.5792153861 0.0015309092     0.0609430218\n",
       "   \n",
       "           house major_purchase      medical       moving        other\n",
       "  0 0.0033935637   0.0173369117 0.0091570932 0.0055707642 0.0459797253\n",
       "  1 0.0065819930   0.0260117064 0.0110555482 0.0077278832 0.0555710887\n",
       "   \n",
       "    renewable_energy small_business     vacation      wedding\n",
       "  0     0.0005289835   0.0101627596 0.0050029288 0.0009175025\n",
       "  1     0.0010129669   0.0163908127 0.0063619821 0.0079433105"
      ]
     },
     "metadata": {},
     "output_type": "display_data"
    }
   ],
   "source": [
    "# Categorical variable with categorical response\n",
    "table(loan$loan_status_1, loan$purpose)\n",
    "table(loan$loan_status_1, loan$purpose) / as.numeric(table(loan$loan_status_1))\n"
   ]
  },
  {
   "cell_type": "code",
   "execution_count": 121,
   "metadata": {},
   "outputs": [
    {
     "data": {
      "image/png": "[encoded data removed]",
      "text/plain": [
       "plot without title"
      ]
     },
     "metadata": {},
     "output_type": "display_data"
    },
    {
     "data": {
      "image/png": "[encoded data removed]",
      "text/plain": [
       "plot without title"
      ]
     },
     "metadata": {},
     "output_type": "display_data"
    }
   ],
   "source": [
    "barplot(table(loan$loan_status_1, loan$purpose))\n",
    "barplot(table(loan$loan_status, loan$purpose), col = c(1:14))"
   ]
  },
  {
   "cell_type": "code",
   "execution_count": 124,
   "metadata": {
    "scrolled": false
   },
   "outputs": [
    {
     "data": {
      "image/png": "[encoded data removed]",
      "text/plain": [
       "plot without title"
      ]
     },
     "metadata": {},
     "output_type": "display_data"
    }
   ],
   "source": [
    "#no matter it is numerical or categorical\n",
    "library(tabplot)\n",
    "tableplot(loan, select = c('int_rate', 'acc_now_delinq', 'annual_inc',\n",
    "                           'loan_amnt', 'term', 'purpose'))"
   ]
  },
  {
   "cell_type": "code",
   "execution_count": 125,
   "metadata": {},
   "outputs": [
    {
     "data": {
      "image/png": "[encoded data removed]",
      "text/plain": [
       "plot without title"
      ]
     },
     "metadata": {},
     "output_type": "display_data"
    }
   ],
   "source": [
    "tableplot(loan, select = c('loan_status_1', 'acc_now_delinq', 'annual_inc',\n",
    "                           'loan_amnt', 'term'))"
   ]
  }
 ],
 "metadata": {
  "kernelspec": {
   "display_name": "R",
   "language": "R",
   "name": "ir"
  },
  "language_info": {
   "codemirror_mode": "r",
   "file_extension": ".r",
   "mimetype": "text/x-r-source",
   "name": "R",
   "pygments_lexer": "r",
   "version": "3.4.2"
  }
 },
 "nbformat": 4,
 "nbformat_minor": 2
}
