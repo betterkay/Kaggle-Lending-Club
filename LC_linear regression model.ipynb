{
 "cells": [
  {
   "cell_type": "code",
   "execution_count": 1,
   "metadata": {},
   "outputs": [],
   "source": [
    "loan <- read.csv(\"loan.csv\", stringsAsFactors = FALSE)\n",
    "loanT <- loan"
   ]
  },
  {
   "cell_type": "code",
   "execution_count": 2,
   "metadata": {},
   "outputs": [],
   "source": [
    "# First think about what features could be included in the model\n",
    "# i.e., what features would be available during model building. Work example.\n",
    "# e.g., loan payment features will not be available when deciding interest rate."
   ]
  },
  {
   "cell_type": "code",
   "execution_count": 3,
   "metadata": {},
   "outputs": [],
   "source": [
    "# Second think about what features should be included in the model\n",
    "# i.e., Remove features using intuition, Remove features with unique value per row or no variance. \n",
    "#       Remove redundant features\n",
    "# e.g., id, member.id"
   ]
  },
  {
   "cell_type": "markdown",
   "metadata": {},
   "source": [
    "Remove redundant column"
   ]
  },
  {
   "cell_type": "code",
   "execution_count": 4,
   "metadata": {},
   "outputs": [],
   "source": [
    "num.value <- sapply(loan, function(x){return(length(unique(x)))})\n"
   ]
  },
  {
   "cell_type": "code",
   "execution_count": 5,
   "metadata": {},
   "outputs": [
    {
     "data": {
      "text/html": [
       "<strong>policy_code:</strong> 52"
      ],
      "text/latex": [
       "\\textbf{policy\\textbackslash{}\\_code:} 52"
      ],
      "text/markdown": [
       "**policy_code:** 52"
      ],
      "text/plain": [
       "policy_code \n",
       "         52 "
      ]
     },
     "metadata": {},
     "output_type": "display_data"
    }
   ],
   "source": [
    "which(num.value == 1)\n",
    "#features with no variance"
   ]
  },
  {
   "cell_type": "code",
   "execution_count": 6,
   "metadata": {},
   "outputs": [
    {
     "data": {
      "text/html": [
       "<dl class=dl-horizontal>\n",
       "\t<dt>id</dt>\n",
       "\t\t<dd>1</dd>\n",
       "\t<dt>member_id</dt>\n",
       "\t\t<dd>2</dd>\n",
       "\t<dt>url</dt>\n",
       "\t\t<dd>19</dd>\n",
       "</dl>\n"
      ],
      "text/latex": [
       "\\begin{description*}\n",
       "\\item[id] 1\n",
       "\\item[member\\textbackslash{}\\_id] 2\n",
       "\\item[url] 19\n",
       "\\end{description*}\n"
      ],
      "text/markdown": [
       "id\n",
       ":   1member_id\n",
       ":   2url\n",
       ":   19\n",
       "\n"
      ],
      "text/plain": [
       "       id member_id       url \n",
       "        1         2        19 "
      ]
     },
     "metadata": {},
     "output_type": "display_data"
    }
   ],
   "source": [
    "which(num.value == dim(loan)[1])\n",
    "#features with unique value per row "
   ]
  },
  {
   "cell_type": "code",
   "execution_count": 7,
   "metadata": {},
   "outputs": [
    {
     "data": {
      "text/plain": [
       "   Min. 1st Qu.  Median    Mean 3rd Qu.    Max.    NA's \n",
       "    3.0    13.2    17.6    18.3    22.6    43.9  886870 "
      ]
     },
     "metadata": {},
     "output_type": "display_data"
    }
   ],
   "source": [
    "summary(loan$dti_joint)#too much NA value"
   ]
  },
  {
   "cell_type": "markdown",
   "metadata": {},
   "source": [
    "transform some column"
   ]
  },
  {
   "cell_type": "code",
   "execution_count": 8,
   "metadata": {},
   "outputs": [
    {
     "data": {
      "text/plain": [
       "application_type\n",
       "INDIVIDUAL      JOINT \n",
       "    886868          2 "
      ]
     },
     "metadata": {},
     "output_type": "display_data"
    }
   ],
   "source": [
    "with(subset(loan, is.na(dti_joint)), table(application_type))#to check what is the application type of dit_joint which has too much NA value"
   ]
  },
  {
   "cell_type": "code",
   "execution_count": 9,
   "metadata": {},
   "outputs": [],
   "source": [
    "loan$dti <- ifelse(!is.na(loan$dti_joint), loan$dti_joint, loan$dti)#we want to change the value of dti_joint with NA to the value of dti\n",
    "#if the value dti_joint is NA, we will change it to the value of dti. If not, keep the origin dti_joint value"
   ]
  },
  {
   "cell_type": "code",
   "execution_count": 10,
   "metadata": {},
   "outputs": [],
   "source": [
    "loan$annual_inc <- ifelse(!is.na(loan$annual_inc_joint), loan$annual_inc_joint, loan$annual_inc)#same way with annual_inc_joint"
   ]
  },
  {
   "cell_type": "code",
   "execution_count": 11,
   "metadata": {},
   "outputs": [],
   "source": [
    "loan$home_ownership <- ifelse(loan$home_ownership %in% c('ANY', 'NONE', 'OTHER'), 'OTHER',\n",
    "                              loan$home_ownership)"
   ]
  },
  {
   "cell_type": "code",
   "execution_count": 12,
   "metadata": {},
   "outputs": [],
   "source": [
    "#addr_state has too many levels. collapse it to less levels\n",
    "int_state <- by(loan, loan$addr_state, function(x) {return(mean(x$int_rate))})"
   ]
  },
  {
   "cell_type": "code",
   "execution_count": 14,
   "metadata": {},
   "outputs": [],
   "source": [
    "#new column generated for state address using quantile of \n",
    "loan$state_mean_int <- ifelse(loan$addr_state %in% names(int_state)[which(int_state <= quantile(loan$int_rate,0.25))],'low',\n",
    "                             ifelse(loan$addr_state %in% names(int_state)[which(int_state <= quantile(loan$int_rate,0.5))],'low_medium',\n",
    "                                    ifelse(loan$addr_state %in% names(int_state)[which(int_state <= quantile(loan$int_rate,0.75))],'medium_high','high')))"
   ]
  },
  {
   "cell_type": "code",
   "execution_count": 15,
   "metadata": {},
   "outputs": [],
   "source": [
    "#filter the columns which has more than 80% missing values\n",
    "num.NA <- sort(sapply(loan, function(x) { sum(is.na(x))} ), decreasing = TRUE)\n",
    "remain.col <- names(num.NA)[which(num.NA <= 0.8 * dim(loan)[1])]\n",
    "loan <- loan[, remain.col]"
   ]
  },
  {
   "cell_type": "code",
   "execution_count": 16,
   "metadata": {},
   "outputs": [
    {
     "name": "stderr",
     "output_type": "stream",
     "text": [
      "Warning message:\n",
      "\"package 'zoo' was built under R version 3.4.3\"\n",
      "Attaching package: 'zoo'\n",
      "\n",
      "The following objects are masked from 'package:base':\n",
      "\n",
      "    as.Date, as.Date.numeric\n",
      "\n"
     ]
    }
   ],
   "source": [
    "#transform time format data using zoo library\n",
    "library(zoo)\n",
    "loan$issue_d_1 <- as.Date(as.yearmon(loan$issue_d, \"%b-%Y\"))\n",
    "loan$issue_year <- as.character(format(loan$issue_d_1, \"%Y\"))\n",
    "loan$issue_mon <- as.character(format(loan$issue_d_1, \"%m\"))"
   ]
  },
  {
   "cell_type": "code",
   "execution_count": 17,
   "metadata": {},
   "outputs": [],
   "source": [
    "#before modeling, we need split the data into train and test\n",
    "set.seed(1)\n",
    "train.ind <- sample(1:dim(loan)[1], 0.7 * dim(loan)[1])\n",
    "train <- loan[train.ind, ]\n",
    "test <- loan[-train.ind, ]"
   ]
  },
  {
   "cell_type": "code",
   "execution_count": 18,
   "metadata": {},
   "outputs": [
    {
     "data": {
      "text/plain": [
       "\n",
       "Call:\n",
       "lm(formula = int_rate ~ addr_state + home_ownership + annual_inc + \n",
       "    dti + +term + loan_amnt + total_acc + tot_cur_bal + open_acc, \n",
       "    data = train)\n",
       "\n",
       "Residuals:\n",
       "     Min       1Q   Median       3Q      Max \n",
       "-12.3577  -2.9917  -0.2061   2.4304  26.3058 \n",
       "\n",
       "Coefficients:\n",
       "                      Estimate Std. Error t value Pr(>|t|)    \n",
       "(Intercept)          1.199e+01  1.045e-01 114.670  < 2e-16 ***\n",
       "addr_stateAL         1.551e-01  1.124e-01   1.379 0.167885    \n",
       "addr_stateAR        -1.424e-01  1.186e-01  -1.200 0.229964    \n",
       "addr_stateAZ        -2.922e-01  1.081e-01  -2.703 0.006869 ** \n",
       "addr_stateCA        -1.403e-01  1.036e-01  -1.354 0.175664    \n",
       "addr_stateCO        -4.045e-01  1.086e-01  -3.726 0.000194 ***\n",
       "addr_stateCT        -1.890e-01  1.110e-01  -1.703 0.088528 .  \n",
       "addr_stateDC        -3.137e-01  1.447e-01  -2.167 0.030201 *  \n",
       "addr_stateDE        -1.237e-01  1.410e-01  -0.877 0.380228    \n",
       "addr_stateFL        -1.638e-01  1.046e-01  -1.566 0.117239    \n",
       "addr_stateGA        -1.723e-01  1.066e-01  -1.616 0.106034    \n",
       "addr_stateHI         1.654e-01  1.250e-01   1.323 0.185832    \n",
       "addr_stateIA         2.797e+00  3.884e+00   0.720 0.471413    \n",
       "addr_stateID        -1.523e+00  2.747e+00  -0.554 0.579366    \n",
       "addr_stateIL        -2.899e-01  1.059e-01  -2.738 0.006175 ** \n",
       "addr_stateIN        -2.649e-01  1.101e-01  -2.405 0.016151 *  \n",
       "addr_stateKS        -2.858e-01  1.161e-01  -2.462 0.013810 *  \n",
       "addr_stateKY        -3.070e-01  1.153e-01  -2.663 0.007738 ** \n",
       "addr_stateLA        -2.189e-01  1.129e-01  -1.939 0.052527 .  \n",
       "addr_stateMA        -7.545e-01  1.083e-01  -6.968 3.23e-12 ***\n",
       "addr_stateMD        -6.176e-02  1.080e-01  -0.572 0.567503    \n",
       "addr_stateME        -1.448e+00  2.284e-01  -6.338 2.33e-10 ***\n",
       "addr_stateMI        -1.545e-01  1.075e-01  -1.437 0.150752    \n",
       "addr_stateMN        -3.759e-01  1.096e-01  -3.431 0.000601 ***\n",
       "addr_stateMO        -2.394e-01  1.104e-01  -2.168 0.030176 *  \n",
       "addr_stateMS        -2.481e-01  1.274e-01  -1.947 0.051499 .  \n",
       "addr_stateMT        -5.570e-01  1.402e-01  -3.974 7.08e-05 ***\n",
       "addr_stateNC        -1.991e-01  1.072e-01  -1.858 0.063132 .  \n",
       "addr_stateND        -8.074e-01  2.383e-01  -3.388 0.000703 ***\n",
       "addr_stateNE        -1.009e+00  1.710e-01  -5.902 3.60e-09 ***\n",
       "addr_stateNH        -6.823e-01  1.264e-01  -5.399 6.71e-08 ***\n",
       "addr_stateNJ        -2.605e-01  1.062e-01  -2.454 0.014141 *  \n",
       "addr_stateNM        -2.047e-01  1.235e-01  -1.658 0.097385 .  \n",
       "addr_stateNV         6.722e-02  1.115e-01   0.603 0.546634    \n",
       "addr_stateNY        -1.047e-01  1.043e-01  -1.004 0.315359    \n",
       "addr_stateOH        -3.351e-01  1.065e-01  -3.147 0.001650 ** \n",
       "addr_stateOK        -5.995e-02  1.158e-01  -0.518 0.604578    \n",
       "addr_stateOR        -3.036e-01  1.128e-01  -2.693 0.007090 ** \n",
       "addr_statePA        -2.954e-01  1.063e-01  -2.778 0.005463 ** \n",
       "addr_stateRI        -4.020e-01  1.292e-01  -3.113 0.001853 ** \n",
       "addr_stateSC        -1.170e-01  1.129e-01  -1.036 0.300384    \n",
       "addr_stateSD        -2.752e-01  1.532e-01  -1.796 0.072499 .  \n",
       "addr_stateTN        -7.423e-02  1.107e-01  -0.670 0.502578    \n",
       "addr_stateTX        -2.825e-01  1.043e-01  -2.709 0.006750 ** \n",
       "addr_stateUT        -1.506e-01  1.194e-01  -1.261 0.207278    \n",
       "addr_stateVA        -1.826e-01  1.070e-01  -1.707 0.087868 .  \n",
       "addr_stateVT        -6.510e-01  1.527e-01  -4.262 2.02e-05 ***\n",
       "addr_stateWA        -3.880e-02  1.084e-01  -0.358 0.720396    \n",
       "addr_stateWI        -5.564e-01  1.121e-01  -4.962 6.97e-07 ***\n",
       "addr_stateWV        -4.092e-01  1.255e-01  -3.261 0.001111 ** \n",
       "addr_stateWY        -2.652e-01  1.477e-01  -1.796 0.072429 .  \n",
       "home_ownershipOTHER  2.790e+00  4.932e-01   5.658 1.53e-08 ***\n",
       "home_ownershipOWN    1.955e-01  1.830e-02  10.680  < 2e-16 ***\n",
       "home_ownershipRENT   5.281e-01  1.330e-02  39.702  < 2e-16 ***\n",
       "annual_inc          -2.263e-06  8.981e-08 -25.192  < 2e-16 ***\n",
       "dti                  6.744e-02  6.738e-04 100.090  < 2e-16 ***\n",
       "term 60 months       4.156e+00  1.237e-02 336.020  < 2e-16 ***\n",
       "loan_amnt            4.746e-06  7.296e-07   6.505 7.77e-11 ***\n",
       "total_acc           -2.255e-02  6.215e-04 -36.274  < 2e-16 ***\n",
       "tot_cur_bal         -2.108e-06  4.431e-08 -47.574  < 2e-16 ***\n",
       "open_acc            -2.054e-02  1.374e-03 -14.955  < 2e-16 ***\n",
       "---\n",
       "Signif. codes:  0 '***' 0.001 '**' 0.01 '*' 0.05 '.' 0.1 ' ' 1\n",
       "\n",
       "Residual standard error: 3.882 on 572000 degrees of freedom\n",
       "  (49104 observations deleted due to missingness)\n",
       "Multiple R-squared:  0.2246,\tAdjusted R-squared:  0.2245 \n",
       "F-statistic:  2761 on 60 and 572000 DF,  p-value: < 2.2e-16\n"
      ]
     },
     "metadata": {},
     "output_type": "display_data"
    }
   ],
   "source": [
    "#build a linear regression model without any transformation\n",
    "mod1 <- lm(int_rate ~ addr_state + home_ownership + annual_inc + dti +\n",
    "             + term + loan_amnt + total_acc + tot_cur_bal + open_acc,\n",
    "           data = train)\n",
    "summary(mod1)"
   ]
  },
  {
   "cell_type": "code",
   "execution_count": 19,
   "metadata": {},
   "outputs": [
    {
     "data": {
      "text/plain": [
       "\n",
       "Call:\n",
       "lm(formula = int_rate ~ state_mean_int + home_ownership + annual_inc + \n",
       "    dti + +term + loan_amnt + total_acc + tot_cur_bal + open_acc, \n",
       "    data = train)\n",
       "\n",
       "Residuals:\n",
       "     Min       1Q   Median       3Q      Max \n",
       "-12.2289  -2.9918  -0.2044   2.4324  26.5898 \n",
       "\n",
       "Coefficients:\n",
       "                            Estimate Std. Error t value Pr(>|t|)    \n",
       "(Intercept)                1.130e+01  3.029e-02 372.998  < 2e-16 ***\n",
       "state_mean_intmedium_high  4.888e-01  2.412e-02  20.265  < 2e-16 ***\n",
       "home_ownershipOTHER        2.788e+00  4.933e-01   5.653 1.58e-08 ***\n",
       "home_ownershipOWN          2.042e-01  1.825e-02  11.186  < 2e-16 ***\n",
       "home_ownershipRENT         5.528e-01  1.277e-02  43.302  < 2e-16 ***\n",
       "annual_inc                -2.264e-06  8.974e-08 -25.233  < 2e-16 ***\n",
       "dti                        6.716e-02  6.684e-04 100.482  < 2e-16 ***\n",
       "term 60 months             4.154e+00  1.236e-02 336.204  < 2e-16 ***\n",
       "loan_amnt                  4.808e-06  7.287e-07   6.597 4.19e-11 ***\n",
       "total_acc                 -2.272e-02  6.194e-04 -36.680  < 2e-16 ***\n",
       "tot_cur_bal               -2.066e-06  4.368e-08 -47.290  < 2e-16 ***\n",
       "open_acc                  -2.078e-02  1.367e-03 -15.209  < 2e-16 ***\n",
       "---\n",
       "Signif. codes:  0 '***' 0.001 '**' 0.01 '*' 0.05 '.' 0.1 ' ' 1\n",
       "\n",
       "Residual standard error: 3.884 on 572049 degrees of freedom\n",
       "  (49104 observations deleted due to missingness)\n",
       "Multiple R-squared:  0.224,\tAdjusted R-squared:  0.2239 \n",
       "F-statistic: 1.501e+04 on 11 and 572049 DF,  p-value: < 2.2e-16\n"
      ]
     },
     "metadata": {},
     "output_type": "display_data"
    }
   ],
   "source": [
    "#use transformed features to build the model\n",
    "mod2 <- lm(int_rate ~ state_mean_int + home_ownership + annual_inc + dti +\n",
    "             + term + loan_amnt + total_acc + tot_cur_bal + open_acc,\n",
    "           data = train)\n",
    "summary(mod2)"
   ]
  },
  {
   "cell_type": "code",
   "execution_count": 20,
   "metadata": {},
   "outputs": [],
   "source": [
    "#r-squared value indicates the information in the new model does not decrease"
   ]
  },
  {
   "cell_type": "code",
   "execution_count": 21,
   "metadata": {},
   "outputs": [],
   "source": [
    "#to simplify, save all features in a training subset\n",
    "train.sub <- train[, c('int_rate', 'state_mean_int', 'home_ownership', 'annual_inc', 'dti',\n",
    "                       'term', 'loan_amnt', 'total_acc', 'tot_cur_bal', 'open_acc')]"
   ]
  },
  {
   "cell_type": "code",
   "execution_count": 24,
   "metadata": {},
   "outputs": [
    {
     "data": {
      "text/html": [
       "<dl class=dl-horizontal>\n",
       "\t<dt>int_rate</dt>\n",
       "\t\t<dd>0</dd>\n",
       "\t<dt>state_mean_int</dt>\n",
       "\t\t<dd>0</dd>\n",
       "\t<dt>home_ownership</dt>\n",
       "\t\t<dd>0</dd>\n",
       "\t<dt>dti</dt>\n",
       "\t\t<dd>0</dd>\n",
       "\t<dt>term</dt>\n",
       "\t\t<dd>0</dd>\n",
       "\t<dt>loan_amnt</dt>\n",
       "\t\t<dd>0</dd>\n",
       "\t<dt>annual_inc</dt>\n",
       "\t\t<dd>2</dd>\n",
       "\t<dt>total_acc</dt>\n",
       "\t\t<dd>18</dd>\n",
       "\t<dt>open_acc</dt>\n",
       "\t\t<dd>18</dd>\n",
       "\t<dt>tot_cur_bal</dt>\n",
       "\t\t<dd>49104</dd>\n",
       "</dl>\n"
      ],
      "text/latex": [
       "\\begin{description*}\n",
       "\\item[int\\textbackslash{}\\_rate] 0\n",
       "\\item[state\\textbackslash{}\\_mean\\textbackslash{}\\_int] 0\n",
       "\\item[home\\textbackslash{}\\_ownership] 0\n",
       "\\item[dti] 0\n",
       "\\item[term] 0\n",
       "\\item[loan\\textbackslash{}\\_amnt] 0\n",
       "\\item[annual\\textbackslash{}\\_inc] 2\n",
       "\\item[total\\textbackslash{}\\_acc] 18\n",
       "\\item[open\\textbackslash{}\\_acc] 18\n",
       "\\item[tot\\textbackslash{}\\_cur\\textbackslash{}\\_bal] 49104\n",
       "\\end{description*}\n"
      ],
      "text/markdown": [
       "int_rate\n",
       ":   0state_mean_int\n",
       ":   0home_ownership\n",
       ":   0dti\n",
       ":   0term\n",
       ":   0loan_amnt\n",
       ":   0annual_inc\n",
       ":   2total_acc\n",
       ":   18open_acc\n",
       ":   18tot_cur_bal\n",
       ":   49104\n",
       "\n"
      ],
      "text/plain": [
       "      int_rate state_mean_int home_ownership            dti           term \n",
       "             0              0              0              0              0 \n",
       "     loan_amnt     annual_inc      total_acc       open_acc    tot_cur_bal \n",
       "             0              2             18             18          49104 "
      ]
     },
     "metadata": {},
     "output_type": "display_data"
    }
   ],
   "source": [
    "#we notice the new linear regression model shows some observations deleted due to missingness. Now, we will impute the missing value using median value\n",
    "num.NA <- sort(sapply(train.sub, function(x) {sum(is.na(x))}))\n",
    "num.NA"
   ]
  },
  {
   "cell_type": "code",
   "execution_count": 25,
   "metadata": {},
   "outputs": [],
   "source": [
    "train.sub$tot_cur_bal[which(is.na(train.sub$tot_cur_bal))] <- median(train.sub$tot_cur_bal, na.rm = T)\n",
    "train.sub$total_acc[which(is.na(train.sub$total_acc))] <- median(train.sub$total_acc, na.rm = T)\n",
    "train.sub$open_acc[which(is.na(train.sub$open_acc))] <- median(train.sub$open_acc, na.rm = T)\n",
    "train.sub$annual_inc[which(is.na(train.sub$annual_inc))] <- median(train.sub$annual_inc, na.rm = T)"
   ]
  },
  {
   "cell_type": "code",
   "execution_count": 41,
   "metadata": {},
   "outputs": [
    {
     "data": {
      "text/plain": [
       "\n",
       "Call:\n",
       "lm(formula = int_rate ~ ., data = train.sub)\n",
       "\n",
       "Residuals:\n",
       "     Min       1Q   Median       3Q      Max \n",
       "-12.2735  -2.9908  -0.1842   2.4361  24.1188 \n",
       "\n",
       "Coefficients:\n",
       "                            Estimate Std. Error t value Pr(>|t|)    \n",
       "(Intercept)                1.109e+01  2.866e-02 386.918  < 2e-16 ***\n",
       "state_mean_intmedium_high  4.699e-01  2.290e-02  20.514  < 2e-16 ***\n",
       "home_ownershipOTHER        1.758e+00  3.073e-01   5.721 1.06e-08 ***\n",
       "home_ownershipOWN          2.013e-01  1.752e-02  11.492  < 2e-16 ***\n",
       "home_ownershipRENT         5.487e-01  1.200e-02  45.726  < 2e-16 ***\n",
       "annual_inc                -1.938e-06  8.581e-08 -22.590  < 2e-16 ***\n",
       "dti                        6.903e-02  6.409e-04 107.714  < 2e-16 ***\n",
       "term 60 months             4.094e+00  1.184e-02 345.635  < 2e-16 ***\n",
       "loan_amnt                  1.368e-05  6.962e-07  19.649  < 2e-16 ***\n",
       "total_acc                 -2.417e-02  5.923e-04 -40.805  < 2e-16 ***\n",
       "tot_cur_bal               -2.225e-06  4.217e-08 -52.769  < 2e-16 ***\n",
       "open_acc                  -1.342e-02  1.316e-03 -10.194  < 2e-16 ***\n",
       "---\n",
       "Signif. codes:  0 '***' 0.001 '**' 0.01 '*' 0.05 '.' 0.1 ' ' 1\n",
       "\n",
       "Residual standard error: 3.862 on 621153 degrees of freedom\n",
       "Multiple R-squared:  0.2237,\tAdjusted R-squared:  0.2236 \n",
       "F-statistic: 1.627e+04 on 11 and 621153 DF,  p-value: < 2.2e-16\n"
      ]
     },
     "metadata": {},
     "output_type": "display_data"
    }
   ],
   "source": [
    "mod2 <- lm(int_rate ~ ., data = train.sub)\n",
    "summary(mod2)"
   ]
  },
  {
   "cell_type": "code",
   "execution_count": 27,
   "metadata": {},
   "outputs": [],
   "source": [
    "# See extremely small estimate, e.g., loan_amnt, because of the magnitude, to compare the relative importance of features\n",
    "# Standardize\n",
    "train.sub.scale <- train.sub\n",
    "train.sub.scale[, c(4,5,7,8,9,10)] <- scale(train.sub.scale[, c(4,5,7,8,9,10)])"
   ]
  },
  {
   "cell_type": "code",
   "execution_count": 28,
   "metadata": {},
   "outputs": [],
   "source": [
    "mod3 <- lm(int_rate ~ ., data = as.data.frame(train.sub.scale))\n",
    "# standardizing won't change the significant of features, but the estimate will change."
   ]
  },
  {
   "cell_type": "code",
   "execution_count": 29,
   "metadata": {},
   "outputs": [
    {
     "data": {
      "text/html": [
       "<table>\n",
       "<thead><tr><th></th><th scope=col>(Intercept)</th><th scope=col>int_rate</th><th scope=col>state_mean_intmedium_high</th><th scope=col>home_ownershipOTHER</th><th scope=col>home_ownershipOWN</th><th scope=col>home_ownershipRENT</th><th scope=col>annual_inc</th><th scope=col>dti</th><th scope=col>term 60 months</th><th scope=col>loan_amnt</th><th scope=col>total_acc</th><th scope=col>tot_cur_bal</th><th scope=col>open_acc</th></tr></thead>\n",
       "<tbody>\n",
       "\t<tr><th scope=row>235607</th><td>1     </td><td> 8.19 </td><td>1     </td><td>0     </td><td>0     </td><td>0     </td><td>128941</td><td>31.83 </td><td>0     </td><td>28000 </td><td>33    </td><td>530944</td><td>23    </td></tr>\n",
       "\t<tr><th scope=row>330215</th><td>1     </td><td>22.15 </td><td>1     </td><td>0     </td><td>0     </td><td>0     </td><td>100000</td><td>12.82 </td><td>1     </td><td>14000 </td><td>29    </td><td>146665</td><td>15    </td></tr>\n",
       "\t<tr><th scope=row>508337</th><td>1     </td><td> 7.26 </td><td>1     </td><td>0     </td><td>0     </td><td>0     </td><td> 50000</td><td>24.96 </td><td>0     </td><td> 6000 </td><td>23    </td><td>140834</td><td>12    </td></tr>\n",
       "\t<tr><th scope=row>805922</th><td>1     </td><td>12.29 </td><td>1     </td><td>0     </td><td>0     </td><td>1     </td><td> 75000</td><td>24.06 </td><td>0     </td><td>12500 </td><td>44    </td><td>214499</td><td>19    </td></tr>\n",
       "\t<tr><th scope=row>178968</th><td>1     </td><td>21.98 </td><td>0     </td><td>0     </td><td>0     </td><td>1     </td><td> 48000</td><td>16.70 </td><td>1     </td><td>20000 </td><td>16    </td><td> 17999</td><td> 7    </td></tr>\n",
       "\t<tr><th scope=row>797208</th><td>1     </td><td> 6.68 </td><td>1     </td><td>0     </td><td>0     </td><td>0     </td><td> 55000</td><td>17.61 </td><td>0     </td><td> 7000 </td><td>17    </td><td>144220</td><td> 9    </td></tr>\n",
       "</tbody>\n",
       "</table>\n"
      ],
      "text/latex": [
       "\\begin{tabular}{r|lllllllllllll}\n",
       "  & (Intercept) & int\\_rate & state\\_mean\\_intmedium\\_high & home\\_ownershipOTHER & home\\_ownershipOWN & home\\_ownershipRENT & annual\\_inc & dti & term 60 months & loan\\_amnt & total\\_acc & tot\\_cur\\_bal & open\\_acc\\\\\n",
       "\\hline\n",
       "\t235607 & 1      &  8.19  & 1      & 0      & 0      & 0      & 128941 & 31.83  & 0      & 28000  & 33     & 530944 & 23    \\\\\n",
       "\t330215 & 1      & 22.15  & 1      & 0      & 0      & 0      & 100000 & 12.82  & 1      & 14000  & 29     & 146665 & 15    \\\\\n",
       "\t508337 & 1      &  7.26  & 1      & 0      & 0      & 0      &  50000 & 24.96  & 0      &  6000  & 23     & 140834 & 12    \\\\\n",
       "\t805922 & 1      & 12.29  & 1      & 0      & 0      & 1      &  75000 & 24.06  & 0      & 12500  & 44     & 214499 & 19    \\\\\n",
       "\t178968 & 1      & 21.98  & 0      & 0      & 0      & 1      &  48000 & 16.70  & 1      & 20000  & 16     &  17999 &  7    \\\\\n",
       "\t797208 & 1      &  6.68  & 1      & 0      & 0      & 0      &  55000 & 17.61  & 0      &  7000  & 17     & 144220 &  9    \\\\\n",
       "\\end{tabular}\n"
      ],
      "text/markdown": [
       "\n",
       "| <!--/--> | (Intercept) | int_rate | state_mean_intmedium_high | home_ownershipOTHER | home_ownershipOWN | home_ownershipRENT | annual_inc | dti | term 60 months | loan_amnt | total_acc | tot_cur_bal | open_acc | \n",
       "|---|---|---|---|---|---|\n",
       "| 235607 | 1      |  8.19  | 1      | 0      | 0      | 0      | 128941 | 31.83  | 0      | 28000  | 33     | 530944 | 23     | \n",
       "| 330215 | 1      | 22.15  | 1      | 0      | 0      | 0      | 100000 | 12.82  | 1      | 14000  | 29     | 146665 | 15     | \n",
       "| 508337 | 1      |  7.26  | 1      | 0      | 0      | 0      |  50000 | 24.96  | 0      |  6000  | 23     | 140834 | 12     | \n",
       "| 805922 | 1      | 12.29  | 1      | 0      | 0      | 1      |  75000 | 24.06  | 0      | 12500  | 44     | 214499 | 19     | \n",
       "| 178968 | 1      | 21.98  | 0      | 0      | 0      | 1      |  48000 | 16.70  | 1      | 20000  | 16     |  17999 |  7     | \n",
       "| 797208 | 1      |  6.68  | 1      | 0      | 0      | 0      |  55000 | 17.61  | 0      |  7000  | 17     | 144220 |  9     | \n",
       "\n",
       "\n"
      ],
      "text/plain": [
       "       (Intercept) int_rate state_mean_intmedium_high home_ownershipOTHER\n",
       "235607 1            8.19    1                         0                  \n",
       "330215 1           22.15    1                         0                  \n",
       "508337 1            7.26    1                         0                  \n",
       "805922 1           12.29    1                         0                  \n",
       "178968 1           21.98    0                         0                  \n",
       "797208 1            6.68    1                         0                  \n",
       "       home_ownershipOWN home_ownershipRENT annual_inc dti   term 60 months\n",
       "235607 0                 0                  128941     31.83 0             \n",
       "330215 0                 0                  100000     12.82 1             \n",
       "508337 0                 0                   50000     24.96 0             \n",
       "805922 0                 1                   75000     24.06 0             \n",
       "178968 0                 1                   48000     16.70 1             \n",
       "797208 0                 0                   55000     17.61 0             \n",
       "       loan_amnt total_acc tot_cur_bal open_acc\n",
       "235607 28000     33        530944      23      \n",
       "330215 14000     29        146665      15      \n",
       "508337  6000     23        140834      12      \n",
       "805922 12500     44        214499      19      \n",
       "178968 20000     16         17999       7      \n",
       "797208  7000     17        144220       9      "
      ]
     },
     "metadata": {},
     "output_type": "display_data"
    }
   ],
   "source": [
    "#transform data frame to matrix\n",
    "train.sub.matrix <- model.matrix( ~., train.sub)\n",
    "head(train.sub.matrix)"
   ]
  },
  {
   "cell_type": "code",
   "execution_count": 30,
   "metadata": {},
   "outputs": [],
   "source": [
    "#set response and features\n",
    "x <- train.sub.matrix[, -2]\n",
    "y <- train.sub.matrix[, 2]"
   ]
  },
  {
   "cell_type": "code",
   "execution_count": 31,
   "metadata": {},
   "outputs": [
    {
     "data": {
      "text/html": [
       "<table>\n",
       "<thead><tr><th></th><th scope=col>(Intercept)</th><th scope=col>state_mean_intmedium_high</th><th scope=col>home_ownershipOTHER</th><th scope=col>home_ownershipOWN</th><th scope=col>home_ownershipRENT</th><th scope=col>annual_inc</th><th scope=col>dti</th><th scope=col>term 60 months</th><th scope=col>loan_amnt</th><th scope=col>total_acc</th><th scope=col>tot_cur_bal</th><th scope=col>open_acc</th></tr></thead>\n",
       "<tbody>\n",
       "\t<tr><th scope=row>(Intercept)</th><td>     621165 </td><td>     591283 </td><td>     158.00 </td><td>     61345  </td><td>     248996 </td><td>4.666748e+10</td><td>1.125695e+07</td><td>     186149 </td><td>9.165597e+09</td><td>1.570417e+07</td><td>8.382327e+10</td><td>7.175377e+06</td></tr>\n",
       "\t<tr><th scope=row>state_mean_intmedium_high</th><td>     591283 </td><td>     591283 </td><td>     145.00 </td><td>     58840  </td><td>     236433 </td><td>4.441480e+10</td><td>1.072680e+07</td><td>     176973 </td><td>8.714262e+09</td><td>1.494382e+07</td><td>7.955466e+10</td><td>6.830181e+06</td></tr>\n",
       "\t<tr><th scope=row>home_ownershipOTHER</th><td>        158 </td><td>        145 </td><td>     158.00 </td><td>         0  </td><td>          0 </td><td>1.014063e+07</td><td>2.492080e+03</td><td>         11 </td><td>1.831000e+06</td><td>3.591000e+03</td><td>1.504649e+07</td><td>1.550000e+03</td></tr>\n",
       "\t<tr><th scope=row>home_ownershipOWN</th><td>      61345 </td><td>      58840 </td><td>       0.00 </td><td>     61345  </td><td>          0 </td><td>4.234989e+09</td><td>1.160115e+06</td><td>      17120 </td><td>8.717899e+08</td><td>1.525509e+06</td><td>6.438124e+09</td><td>7.030250e+05</td></tr>\n",
       "\t<tr><th scope=row>home_ownershipRENT</th><td>     248996 </td><td>     236433 </td><td>       0.00 </td><td>         0  </td><td>     248996 </td><td>1.594494e+10</td><td>4.490158e+06</td><td>      60486 </td><td>3.209381e+09</td><td>5.545703e+06</td><td>1.340116e+10</td><td>2.677388e+06</td></tr>\n",
       "\t<tr><th scope=row>annual_inc</th><td>46667477295 </td><td>44414804592 </td><td>10140630.00 </td><td>4234989452  </td><td>15944942889 </td><td>6.208633e+15</td><td>7.860265e+11</td><td>15072552850 </td><td>8.017946e+14</td><td>1.269218e+12</td><td>8.704594e+15</td><td>5.687926e+11</td></tr>\n",
       "\t<tr><th scope=row>dti</th><td>   11256947 </td><td>   10726797 </td><td>    2492.08 </td><td>   1160115  </td><td>    4490158 </td><td>7.860265e+11</td><td>2.467653e+08</td><td>    3624696 </td><td>1.679767e+11</td><td>2.984294e+08</td><td>1.520176e+12</td><td>1.382995e+08</td></tr>\n",
       "\t<tr><th scope=row>term 60 months</th><td>     186149 </td><td>     176973 </td><td>      11.00 </td><td>     17120  </td><td>      60486 </td><td>1.507255e+10</td><td>3.624696e+06</td><td>     186149 </td><td>3.736957e+09</td><td>5.051200e+06</td><td>2.978264e+10</td><td>2.280544e+06</td></tr>\n",
       "\t<tr><th scope=row>loan_amnt</th><td> 9165596525 </td><td> 8714262125 </td><td> 1831000.00 </td><td> 871789850  </td><td> 3209381350 </td><td>8.017946e+14</td><td>1.679767e+11</td><td> 3736957000 </td><td>1.794269e+14</td><td>2.455211e+11</td><td>1.488701e+15</td><td>1.114063e+11</td></tr>\n",
       "\t<tr><th scope=row>total_acc</th><td>   15704173 </td><td>   14943820 </td><td>    3591.00 </td><td>   1525509  </td><td>    5545703 </td><td>1.269218e+12</td><td>2.984294e+08</td><td>    5051200 </td><td>2.455211e+11</td><td>4.842607e+08</td><td>2.451397e+12</td><td>2.086394e+08</td></tr>\n",
       "\t<tr><th scope=row>tot_cur_bal</th><td>83823272442 </td><td>79554662601 </td><td>15046494.00 </td><td>6438123741  </td><td>13401155917 </td><td>8.704594e+15</td><td>1.520176e+12</td><td>29782639343 </td><td>1.488701e+15</td><td>2.451397e+12</td><td>2.494924e+16</td><td>1.088283e+12</td></tr>\n",
       "\t<tr><th scope=row>open_acc</th><td>    7175377 </td><td>    6830181 </td><td>    1550.00 </td><td>    703025  </td><td>    2677388 </td><td>5.687926e+11</td><td>1.382995e+08</td><td>    2280544 </td><td>1.114063e+11</td><td>2.086394e+08</td><td>1.088283e+12</td><td>1.004750e+08</td></tr>\n",
       "</tbody>\n",
       "</table>\n"
      ],
      "text/latex": [
       "\\begin{tabular}{r|llllllllllll}\n",
       "  & (Intercept) & state\\_mean\\_intmedium\\_high & home\\_ownershipOTHER & home\\_ownershipOWN & home\\_ownershipRENT & annual\\_inc & dti & term 60 months & loan\\_amnt & total\\_acc & tot\\_cur\\_bal & open\\_acc\\\\\n",
       "\\hline\n",
       "\t(Intercept) &      621165  &      591283  &      158.00  &      61345   &      248996  & 4.666748e+10 & 1.125695e+07 &      186149  & 9.165597e+09 & 1.570417e+07 & 8.382327e+10 & 7.175377e+06\\\\\n",
       "\tstate\\_mean\\_intmedium\\_high &      591283  &      591283  &      145.00  &      58840   &      236433  & 4.441480e+10 & 1.072680e+07 &      176973  & 8.714262e+09 & 1.494382e+07 & 7.955466e+10 & 6.830181e+06\\\\\n",
       "\thome\\_ownershipOTHER &         158  &         145  &      158.00  &          0   &           0  & 1.014063e+07 & 2.492080e+03 &          11  & 1.831000e+06 & 3.591000e+03 & 1.504649e+07 & 1.550000e+03\\\\\n",
       "\thome\\_ownershipOWN &       61345  &       58840  &        0.00  &      61345   &           0  & 4.234989e+09 & 1.160115e+06 &       17120  & 8.717899e+08 & 1.525509e+06 & 6.438124e+09 & 7.030250e+05\\\\\n",
       "\thome\\_ownershipRENT &      248996  &      236433  &        0.00  &          0   &      248996  & 1.594494e+10 & 4.490158e+06 &       60486  & 3.209381e+09 & 5.545703e+06 & 1.340116e+10 & 2.677388e+06\\\\\n",
       "\tannual\\_inc & 46667477295  & 44414804592  & 10140630.00  & 4234989452   & 15944942889  & 6.208633e+15 & 7.860265e+11 & 15072552850  & 8.017946e+14 & 1.269218e+12 & 8.704594e+15 & 5.687926e+11\\\\\n",
       "\tdti &    11256947  &    10726797  &     2492.08  &    1160115   &     4490158  & 7.860265e+11 & 2.467653e+08 &     3624696  & 1.679767e+11 & 2.984294e+08 & 1.520176e+12 & 1.382995e+08\\\\\n",
       "\tterm 60 months &      186149  &      176973  &       11.00  &      17120   &       60486  & 1.507255e+10 & 3.624696e+06 &      186149  & 3.736957e+09 & 5.051200e+06 & 2.978264e+10 & 2.280544e+06\\\\\n",
       "\tloan\\_amnt &  9165596525  &  8714262125  &  1831000.00  &  871789850   &  3209381350  & 8.017946e+14 & 1.679767e+11 &  3736957000  & 1.794269e+14 & 2.455211e+11 & 1.488701e+15 & 1.114063e+11\\\\\n",
       "\ttotal\\_acc &    15704173  &    14943820  &     3591.00  &    1525509   &     5545703  & 1.269218e+12 & 2.984294e+08 &     5051200  & 2.455211e+11 & 4.842607e+08 & 2.451397e+12 & 2.086394e+08\\\\\n",
       "\ttot\\_cur\\_bal & 83823272442  & 79554662601  & 15046494.00  & 6438123741   & 13401155917  & 8.704594e+15 & 1.520176e+12 & 29782639343  & 1.488701e+15 & 2.451397e+12 & 2.494924e+16 & 1.088283e+12\\\\\n",
       "\topen\\_acc &     7175377  &     6830181  &     1550.00  &     703025   &     2677388  & 5.687926e+11 & 1.382995e+08 &     2280544  & 1.114063e+11 & 2.086394e+08 & 1.088283e+12 & 1.004750e+08\\\\\n",
       "\\end{tabular}\n"
      ],
      "text/markdown": [
       "\n",
       "| <!--/--> | (Intercept) | state_mean_intmedium_high | home_ownershipOTHER | home_ownershipOWN | home_ownershipRENT | annual_inc | dti | term 60 months | loan_amnt | total_acc | tot_cur_bal | open_acc | \n",
       "|---|---|---|---|---|---|---|---|---|---|---|---|\n",
       "| (Intercept) |      621165  |      591283  |      158.00  |      61345   |      248996  | 4.666748e+10 | 1.125695e+07 |      186149  | 9.165597e+09 | 1.570417e+07 | 8.382327e+10 | 7.175377e+06 | \n",
       "| state_mean_intmedium_high |      591283  |      591283  |      145.00  |      58840   |      236433  | 4.441480e+10 | 1.072680e+07 |      176973  | 8.714262e+09 | 1.494382e+07 | 7.955466e+10 | 6.830181e+06 | \n",
       "| home_ownershipOTHER |         158  |         145  |      158.00  |          0   |           0  | 1.014063e+07 | 2.492080e+03 |          11  | 1.831000e+06 | 3.591000e+03 | 1.504649e+07 | 1.550000e+03 | \n",
       "| home_ownershipOWN |       61345  |       58840  |        0.00  |      61345   |           0  | 4.234989e+09 | 1.160115e+06 |       17120  | 8.717899e+08 | 1.525509e+06 | 6.438124e+09 | 7.030250e+05 | \n",
       "| home_ownershipRENT |      248996  |      236433  |        0.00  |          0   |      248996  | 1.594494e+10 | 4.490158e+06 |       60486  | 3.209381e+09 | 5.545703e+06 | 1.340116e+10 | 2.677388e+06 | \n",
       "| annual_inc | 46667477295  | 44414804592  | 10140630.00  | 4234989452   | 15944942889  | 6.208633e+15 | 7.860265e+11 | 15072552850  | 8.017946e+14 | 1.269218e+12 | 8.704594e+15 | 5.687926e+11 | \n",
       "| dti |    11256947  |    10726797  |     2492.08  |    1160115   |     4490158  | 7.860265e+11 | 2.467653e+08 |     3624696  | 1.679767e+11 | 2.984294e+08 | 1.520176e+12 | 1.382995e+08 | \n",
       "| term 60 months |      186149  |      176973  |       11.00  |      17120   |       60486  | 1.507255e+10 | 3.624696e+06 |      186149  | 3.736957e+09 | 5.051200e+06 | 2.978264e+10 | 2.280544e+06 | \n",
       "| loan_amnt |  9165596525  |  8714262125  |  1831000.00  |  871789850   |  3209381350  | 8.017946e+14 | 1.679767e+11 |  3736957000  | 1.794269e+14 | 2.455211e+11 | 1.488701e+15 | 1.114063e+11 | \n",
       "| total_acc |    15704173  |    14943820  |     3591.00  |    1525509   |     5545703  | 1.269218e+12 | 2.984294e+08 |     5051200  | 2.455211e+11 | 4.842607e+08 | 2.451397e+12 | 2.086394e+08 | \n",
       "| tot_cur_bal | 83823272442  | 79554662601  | 15046494.00  | 6438123741   | 13401155917  | 8.704594e+15 | 1.520176e+12 | 29782639343  | 1.488701e+15 | 2.451397e+12 | 2.494924e+16 | 1.088283e+12 | \n",
       "| open_acc |     7175377  |     6830181  |     1550.00  |     703025   |     2677388  | 5.687926e+11 | 1.382995e+08 |     2280544  | 1.114063e+11 | 2.086394e+08 | 1.088283e+12 | 1.004750e+08 | \n",
       "\n",
       "\n"
      ],
      "text/plain": [
       "                          (Intercept) state_mean_intmedium_high\n",
       "(Intercept)                    621165      591283              \n",
       "state_mean_intmedium_high      591283      591283              \n",
       "home_ownershipOTHER               158         145              \n",
       "home_ownershipOWN               61345       58840              \n",
       "home_ownershipRENT             248996      236433              \n",
       "annual_inc                46667477295 44414804592              \n",
       "dti                          11256947    10726797              \n",
       "term 60 months                 186149      176973              \n",
       "loan_amnt                  9165596525  8714262125              \n",
       "total_acc                    15704173    14943820              \n",
       "tot_cur_bal               83823272442 79554662601              \n",
       "open_acc                      7175377     6830181              \n",
       "                          home_ownershipOTHER home_ownershipOWN\n",
       "(Intercept)                    158.00              61345       \n",
       "state_mean_intmedium_high      145.00              58840       \n",
       "home_ownershipOTHER            158.00                  0       \n",
       "home_ownershipOWN                0.00              61345       \n",
       "home_ownershipRENT               0.00                  0       \n",
       "annual_inc                10140630.00         4234989452       \n",
       "dti                           2492.08            1160115       \n",
       "term 60 months                  11.00              17120       \n",
       "loan_amnt                  1831000.00          871789850       \n",
       "total_acc                     3591.00            1525509       \n",
       "tot_cur_bal               15046494.00         6438123741       \n",
       "open_acc                      1550.00             703025       \n",
       "                          home_ownershipRENT annual_inc   dti         \n",
       "(Intercept)                    248996        4.666748e+10 1.125695e+07\n",
       "state_mean_intmedium_high      236433        4.441480e+10 1.072680e+07\n",
       "home_ownershipOTHER                 0        1.014063e+07 2.492080e+03\n",
       "home_ownershipOWN                   0        4.234989e+09 1.160115e+06\n",
       "home_ownershipRENT             248996        1.594494e+10 4.490158e+06\n",
       "annual_inc                15944942889        6.208633e+15 7.860265e+11\n",
       "dti                           4490158        7.860265e+11 2.467653e+08\n",
       "term 60 months                  60486        1.507255e+10 3.624696e+06\n",
       "loan_amnt                  3209381350        8.017946e+14 1.679767e+11\n",
       "total_acc                     5545703        1.269218e+12 2.984294e+08\n",
       "tot_cur_bal               13401155917        8.704594e+15 1.520176e+12\n",
       "open_acc                      2677388        5.687926e+11 1.382995e+08\n",
       "                          term 60 months loan_amnt    total_acc    tot_cur_bal \n",
       "(Intercept)                    186149    9.165597e+09 1.570417e+07 8.382327e+10\n",
       "state_mean_intmedium_high      176973    8.714262e+09 1.494382e+07 7.955466e+10\n",
       "home_ownershipOTHER                11    1.831000e+06 3.591000e+03 1.504649e+07\n",
       "home_ownershipOWN               17120    8.717899e+08 1.525509e+06 6.438124e+09\n",
       "home_ownershipRENT              60486    3.209381e+09 5.545703e+06 1.340116e+10\n",
       "annual_inc                15072552850    8.017946e+14 1.269218e+12 8.704594e+15\n",
       "dti                           3624696    1.679767e+11 2.984294e+08 1.520176e+12\n",
       "term 60 months                 186149    3.736957e+09 5.051200e+06 2.978264e+10\n",
       "loan_amnt                  3736957000    1.794269e+14 2.455211e+11 1.488701e+15\n",
       "total_acc                     5051200    2.455211e+11 4.842607e+08 2.451397e+12\n",
       "tot_cur_bal               29782639343    1.488701e+15 2.451397e+12 2.494924e+16\n",
       "open_acc                      2280544    1.114063e+11 2.086394e+08 1.088283e+12\n",
       "                          open_acc    \n",
       "(Intercept)               7.175377e+06\n",
       "state_mean_intmedium_high 6.830181e+06\n",
       "home_ownershipOTHER       1.550000e+03\n",
       "home_ownershipOWN         7.030250e+05\n",
       "home_ownershipRENT        2.677388e+06\n",
       "annual_inc                5.687926e+11\n",
       "dti                       1.382995e+08\n",
       "term 60 months            2.280544e+06\n",
       "loan_amnt                 1.114063e+11\n",
       "total_acc                 2.086394e+08\n",
       "tot_cur_bal               1.088283e+12\n",
       "open_acc                  1.004750e+08"
      ]
     },
     "metadata": {},
     "output_type": "display_data"
    }
   ],
   "source": [
    "# to calculate the XT*X\n",
    "t(x) %*% x"
   ]
  },
  {
   "cell_type": "code",
   "execution_count": 32,
   "metadata": {},
   "outputs": [
    {
     "data": {
      "text/html": [
       "<table>\n",
       "<tbody>\n",
       "\t<tr><th scope=row>(Intercept)</th><td> 1.108841e+01</td></tr>\n",
       "\t<tr><th scope=row>state_mean_intmedium_high</th><td> 4.698675e-01</td></tr>\n",
       "\t<tr><th scope=row>home_ownershipOTHER</th><td> 1.758313e+00</td></tr>\n",
       "\t<tr><th scope=row>home_ownershipOWN</th><td> 2.013172e-01</td></tr>\n",
       "\t<tr><th scope=row>home_ownershipRENT</th><td> 5.486982e-01</td></tr>\n",
       "\t<tr><th scope=row>annual_inc</th><td>-1.938379e-06</td></tr>\n",
       "\t<tr><th scope=row>dti</th><td> 6.903477e-02</td></tr>\n",
       "\t<tr><th scope=row>term 60 months</th><td> 4.093992e+00</td></tr>\n",
       "\t<tr><th scope=row>loan_amnt</th><td> 1.368054e-05</td></tr>\n",
       "\t<tr><th scope=row>total_acc</th><td>-2.417001e-02</td></tr>\n",
       "\t<tr><th scope=row>tot_cur_bal</th><td>-2.225317e-06</td></tr>\n",
       "\t<tr><th scope=row>open_acc</th><td>-1.342060e-02</td></tr>\n",
       "</tbody>\n",
       "</table>\n"
      ],
      "text/latex": [
       "\\begin{tabular}{r|l}\n",
       "\t(Intercept) &  1.108841e+01\\\\\n",
       "\tstate\\_mean\\_intmedium\\_high &  4.698675e-01\\\\\n",
       "\thome\\_ownershipOTHER &  1.758313e+00\\\\\n",
       "\thome\\_ownershipOWN &  2.013172e-01\\\\\n",
       "\thome\\_ownershipRENT &  5.486982e-01\\\\\n",
       "\tannual\\_inc & -1.938379e-06\\\\\n",
       "\tdti &  6.903477e-02\\\\\n",
       "\tterm 60 months &  4.093992e+00\\\\\n",
       "\tloan\\_amnt &  1.368054e-05\\\\\n",
       "\ttotal\\_acc & -2.417001e-02\\\\\n",
       "\ttot\\_cur\\_bal & -2.225317e-06\\\\\n",
       "\topen\\_acc & -1.342060e-02\\\\\n",
       "\\end{tabular}\n"
      ],
      "text/markdown": [
       "\n",
       "| (Intercept) |  1.108841e+01 | \n",
       "| state_mean_intmedium_high |  4.698675e-01 | \n",
       "| home_ownershipOTHER |  1.758313e+00 | \n",
       "| home_ownershipOWN |  2.013172e-01 | \n",
       "| home_ownershipRENT |  5.486982e-01 | \n",
       "| annual_inc | -1.938379e-06 | \n",
       "| dti |  6.903477e-02 | \n",
       "| term 60 months |  4.093992e+00 | \n",
       "| loan_amnt |  1.368054e-05 | \n",
       "| total_acc | -2.417001e-02 | \n",
       "| tot_cur_bal | -2.225317e-06 | \n",
       "| open_acc | -1.342060e-02 | \n",
       "\n",
       "\n"
      ],
      "text/plain": [
       "                          [,1]         \n",
       "(Intercept)                1.108841e+01\n",
       "state_mean_intmedium_high  4.698675e-01\n",
       "home_ownershipOTHER        1.758313e+00\n",
       "home_ownershipOWN          2.013172e-01\n",
       "home_ownershipRENT         5.486982e-01\n",
       "annual_inc                -1.938379e-06\n",
       "dti                        6.903477e-02\n",
       "term 60 months             4.093992e+00\n",
       "loan_amnt                  1.368054e-05\n",
       "total_acc                 -2.417001e-02\n",
       "tot_cur_bal               -2.225317e-06\n",
       "open_acc                  -1.342060e-02"
      ]
     },
     "metadata": {},
     "output_type": "display_data"
    }
   ],
   "source": [
    "# note that X dim is n * (p+1), XT*X dim is (p+1) * (p+1)\n",
    "# inverse\n",
    "xtxi <- solve(t(x) %*% x)\n",
    "# beta estimator\n",
    "xtxi %*% t(x) %*% y"
   ]
  },
  {
   "cell_type": "code",
   "execution_count": 42,
   "metadata": {},
   "outputs": [
    {
     "data": {
      "text/html": [
       "<dl class=dl-horizontal>\n",
       "\t<dt>(Intercept)</dt>\n",
       "\t\t<dd>11.0884094899912</dd>\n",
       "\t<dt>state_mean_intmedium_high</dt>\n",
       "\t\t<dd>0.469867535290984</dd>\n",
       "\t<dt>home_ownershipOTHER</dt>\n",
       "\t\t<dd>1.75831266573615</dd>\n",
       "\t<dt>home_ownershipOWN</dt>\n",
       "\t\t<dd>0.201317196379794</dd>\n",
       "\t<dt>home_ownershipRENT</dt>\n",
       "\t\t<dd>0.548698159190233</dd>\n",
       "\t<dt>annual_inc</dt>\n",
       "\t\t<dd>-1.93837893782818e-06</dd>\n",
       "\t<dt>dti</dt>\n",
       "\t\t<dd>0.0690347733505754</dd>\n",
       "\t<dt>term 60 months</dt>\n",
       "\t\t<dd>4.0939917624318</dd>\n",
       "\t<dt>loan_amnt</dt>\n",
       "\t\t<dd>1.3680543873151e-05</dd>\n",
       "\t<dt>total_acc</dt>\n",
       "\t\t<dd>-0.0241700143250664</dd>\n",
       "\t<dt>tot_cur_bal</dt>\n",
       "\t\t<dd>-2.22531715200634e-06</dd>\n",
       "\t<dt>open_acc</dt>\n",
       "\t\t<dd>-0.0134206001190369</dd>\n",
       "</dl>\n"
      ],
      "text/latex": [
       "\\begin{description*}\n",
       "\\item[(Intercept)] 11.0884094899912\n",
       "\\item[state\\textbackslash{}\\_mean\\textbackslash{}\\_intmedium\\textbackslash{}\\_high] 0.469867535290984\n",
       "\\item[home\\textbackslash{}\\_ownershipOTHER] 1.75831266573615\n",
       "\\item[home\\textbackslash{}\\_ownershipOWN] 0.201317196379794\n",
       "\\item[home\\textbackslash{}\\_ownershipRENT] 0.548698159190233\n",
       "\\item[annual\\textbackslash{}\\_inc] -1.93837893782818e-06\n",
       "\\item[dti] 0.0690347733505754\n",
       "\\item[term 60 months] 4.0939917624318\n",
       "\\item[loan\\textbackslash{}\\_amnt] 1.3680543873151e-05\n",
       "\\item[total\\textbackslash{}\\_acc] -0.0241700143250664\n",
       "\\item[tot\\textbackslash{}\\_cur\\textbackslash{}\\_bal] -2.22531715200634e-06\n",
       "\\item[open\\textbackslash{}\\_acc] -0.0134206001190369\n",
       "\\end{description*}\n"
      ],
      "text/markdown": [
       "(Intercept)\n",
       ":   11.0884094899912state_mean_intmedium_high\n",
       ":   0.469867535290984home_ownershipOTHER\n",
       ":   1.75831266573615home_ownershipOWN\n",
       ":   0.201317196379794home_ownershipRENT\n",
       ":   0.548698159190233annual_inc\n",
       ":   -1.93837893782818e-06dti\n",
       ":   0.0690347733505754term 60 months\n",
       ":   4.0939917624318loan_amnt\n",
       ":   1.3680543873151e-05total_acc\n",
       ":   -0.0241700143250664tot_cur_bal\n",
       ":   -2.22531715200634e-06open_acc\n",
       ":   -0.0134206001190369\n",
       "\n"
      ],
      "text/plain": [
       "              (Intercept) state_mean_intmedium_high       home_ownershipOTHER \n",
       "             1.108841e+01              4.698675e-01              1.758313e+00 \n",
       "        home_ownershipOWN        home_ownershipRENT                annual_inc \n",
       "             2.013172e-01              5.486982e-01             -1.938379e-06 \n",
       "                      dti            term 60 months                 loan_amnt \n",
       "             6.903477e-02              4.093992e+00              1.368054e-05 \n",
       "                total_acc               tot_cur_bal                  open_acc \n",
       "            -2.417001e-02             -2.225317e-06             -1.342060e-02 "
      ]
     },
     "metadata": {},
     "output_type": "display_data"
    }
   ],
   "source": [
    "# compare with model fitted coefficient\n",
    "coef(mod2)"
   ]
  },
  {
   "cell_type": "code",
   "execution_count": 43,
   "metadata": {},
   "outputs": [
    {
     "data": {
      "text/html": [
       "<dl class=dl-horizontal>\n",
       "\t<dt>235607</dt>\n",
       "\t\t<dd>-3.4109694928858</dd>\n",
       "\t<dt>330215</dt>\n",
       "\t\t<dd>6.84363125544874</dd>\n",
       "\t<dt>508337</dt>\n",
       "\t\t<dd>-4.97619143772871</dd>\n",
       "\t<dt>805922</dt>\n",
       "\t\t<dd>0.292220127433487</dd>\n",
       "\t<dt>178968</dt>\n",
       "\t\t<dd>5.43616909854901</dd>\n",
       "\t<dt>797208</dt>\n",
       "\t\t<dd>-5.23052146514808</dd>\n",
       "</dl>\n"
      ],
      "text/latex": [
       "\\begin{description*}\n",
       "\\item[235607] -3.4109694928858\n",
       "\\item[330215] 6.84363125544874\n",
       "\\item[508337] -4.97619143772871\n",
       "\\item[805922] 0.292220127433487\n",
       "\\item[178968] 5.43616909854901\n",
       "\\item[797208] -5.23052146514808\n",
       "\\end{description*}\n"
      ],
      "text/markdown": [
       "235607\n",
       ":   -3.4109694928858330215\n",
       ":   6.84363125544874508337\n",
       ":   -4.97619143772871805922\n",
       ":   0.292220127433487178968\n",
       ":   5.43616909854901797208\n",
       ":   -5.23052146514808\n",
       "\n"
      ],
      "text/plain": [
       "    235607     330215     508337     805922     178968     797208 \n",
       "-3.4109695  6.8436313 -4.9761914  0.2922201  5.4361691 -5.2305215 "
      ]
     },
     "metadata": {},
     "output_type": "display_data"
    }
   ],
   "source": [
    "# sigma estimator, there are 13 features in total, plus beta0\n",
    "head(mod2$res)\n"
   ]
  },
  {
   "cell_type": "code",
   "execution_count": 44,
   "metadata": {
    "scrolled": true
   },
   "outputs": [
    {
     "data": {
      "text/html": [
       "3.8616695293668"
      ],
      "text/latex": [
       "3.8616695293668"
      ],
      "text/markdown": [
       "3.8616695293668"
      ],
      "text/plain": [
       "[1] 3.86167"
      ]
     },
     "metadata": {},
     "output_type": "display_data"
    }
   ],
   "source": [
    "#Residual standard error\n",
    "sqrt(sum(mod2$res^2)/(dim(train.sub)[1] - 14)) "
   ]
  },
  {
   "cell_type": "code",
   "execution_count": 45,
   "metadata": {},
   "outputs": [
    {
     "data": {
      "text/html": [
       "0.223660872142308"
      ],
      "text/latex": [
       "0.223660872142308"
      ],
      "text/markdown": [
       "0.223660872142308"
      ],
      "text/plain": [
       "[1] 0.2236609"
      ]
     },
     "metadata": {},
     "output_type": "display_data"
    }
   ],
   "source": [
    "# R square: 1 - sum_square_residual / sum_square_total\n",
    "1 - sum(mod2$res^2)/sum((y-mean(y))^2)"
   ]
  },
  {
   "cell_type": "code",
   "execution_count": 46,
   "metadata": {},
   "outputs": [
    {
     "data": {
      "text/html": [
       "0.223644624227289"
      ],
      "text/latex": [
       "0.223644624227289"
      ],
      "text/markdown": [
       "0.223644624227289"
      ],
      "text/plain": [
       "[1] 0.2236446"
      ]
     },
     "metadata": {},
     "output_type": "display_data"
    }
   ],
   "source": [
    "# adjusted R square\n",
    "1 - (sum(mod2$res^2)/sum((y-mean(y))^2)) * \n",
    "  (dim(train.sub)[1] - 1) /(dim(train.sub)[1] - 13 - 1)\n",
    "# small p, R square adjusted is very similar to R square."
   ]
  },
  {
   "cell_type": "code",
   "execution_count": 47,
   "metadata": {},
   "outputs": [],
   "source": [
    "#F-test\n",
    "sst = sum((y - mean(y))^2) # sum of square total, df = n - 1 = 572060\n",
    "ssr = sum(mod2$res^2) #  sum of square residual, df = n-1-p = 572047\n",
    "ssm = sum((y - mean(y))^2) - sum(mod2$res^2) # sum of square model, df = 13"
   ]
  },
  {
   "cell_type": "code",
   "execution_count": 50,
   "metadata": {},
   "outputs": [
    {
     "data": {
      "text/html": [
       "13765.512182745"
      ],
      "text/latex": [
       "13765.512182745"
      ],
      "text/markdown": [
       "13765.512182745"
      ],
      "text/plain": [
       "[1] 13765.51"
      ]
     },
     "metadata": {},
     "output_type": "display_data"
    }
   ],
   "source": [
    "Fstats = (ssm)/(13) / (ssr / (dim(train.sub)[1] - 13 -1))\n",
    "Fstats"
   ]
  },
  {
   "cell_type": "code",
   "execution_count": 49,
   "metadata": {},
   "outputs": [
    {
     "data": {
      "text/html": [
       "0"
      ],
      "text/latex": [
       "0"
      ],
      "text/markdown": [
       "0"
      ],
      "text/plain": [
       "[1] 0"
      ]
     },
     "metadata": {},
     "output_type": "display_data"
    }
   ],
   "source": [
    "1 - pf(Fstats, 13, (dim(train.sub)[1] - 13 - 1)) # def = p and n-1-p"
   ]
  },
  {
   "cell_type": "code",
   "execution_count": 51,
   "metadata": {},
   "outputs": [
    {
     "data": {
      "text/html": [
       "<dl class=dl-horizontal>\n",
       "\t<dt>625277</dt>\n",
       "\t\t<dd>-12.2734636031104</dd>\n",
       "\t<dt>331615</dt>\n",
       "\t\t<dd>-11.9089349642803</dd>\n",
       "\t<dt>168996</dt>\n",
       "\t\t<dd>-11.8596820365554</dd>\n",
       "\t<dt>288534</dt>\n",
       "\t\t<dd>-11.7474071060159</dd>\n",
       "\t<dt>689462</dt>\n",
       "\t\t<dd>-11.636064691753</dd>\n",
       "\t<dt>879300</dt>\n",
       "\t\t<dd>-11.3761151766035</dd>\n",
       "</dl>\n"
      ],
      "text/latex": [
       "\\begin{description*}\n",
       "\\item[625277] -12.2734636031104\n",
       "\\item[331615] -11.9089349642803\n",
       "\\item[168996] -11.8596820365554\n",
       "\\item[288534] -11.7474071060159\n",
       "\\item[689462] -11.636064691753\n",
       "\\item[879300] -11.3761151766035\n",
       "\\end{description*}\n"
      ],
      "text/markdown": [
       "625277\n",
       ":   -12.2734636031104331615\n",
       ":   -11.9089349642803168996\n",
       ":   -11.8596820365554288534\n",
       ":   -11.7474071060159689462\n",
       ":   -11.636064691753879300\n",
       ":   -11.3761151766035\n",
       "\n"
      ],
      "text/plain": [
       "   625277    331615    168996    288534    689462    879300 \n",
       "-12.27346 -11.90893 -11.85968 -11.74741 -11.63606 -11.37612 "
      ]
     },
     "metadata": {},
     "output_type": "display_data"
    }
   ],
   "source": [
    "#residue diagonosis\n",
    "# residual = observed - fitted\n",
    "head(sort(mod2$res))"
   ]
  },
  {
   "cell_type": "code",
   "execution_count": 52,
   "metadata": {},
   "outputs": [
    {
     "data": {
      "image/png": "[encoded data removed]",
      "text/plain": [
       "plot without title"
      ]
     },
     "metadata": {},
     "output_type": "display_data"
    }
   ],
   "source": [
    "plot(mod2$fit, mod2$res, xlab = 'Fitted', ylab = 'residual')"
   ]
  },
  {
   "cell_type": "code",
   "execution_count": 53,
   "metadata": {},
   "outputs": [],
   "source": [
    "# See data points with negative fitted value, we should not predict negative interest rate\n",
    "mod2_1 <- lm(log(int_rate) ~ state_mean_int + home_ownership + annual_inc + dti +\n",
    "             + term + loan_amnt + total_acc + tot_cur_bal + open_acc,\n",
    "           data = train.sub)"
   ]
  },
  {
   "cell_type": "code",
   "execution_count": 54,
   "metadata": {},
   "outputs": [
    {
     "data": {
      "text/plain": [
       "   Min. 1st Qu.  Median    Mean 3rd Qu.    Max. \n",
       "   2.13   11.13   11.89   12.67   14.50   19.78 "
      ]
     },
     "metadata": {},
     "output_type": "display_data"
    }
   ],
   "source": [
    "# fitted or predicted interest rate\n",
    "summary(exp(mod2_1$fitted.values))"
   ]
  },
  {
   "cell_type": "code",
   "execution_count": 55,
   "metadata": {},
   "outputs": [
    {
     "data": {
      "text/plain": [
       "    Min.  1st Qu.   Median     Mean  3rd Qu.     Max. \n",
       "-1.13312 -0.21440  0.02975  0.00000  0.21693  1.98252 "
      ]
     },
     "metadata": {},
     "output_type": "display_data"
    }
   ],
   "source": [
    "summary(mod2_1$residuals)"
   ]
  },
  {
   "cell_type": "code",
   "execution_count": 56,
   "metadata": {},
   "outputs": [
    {
     "data": {
      "image/png": "[encoded data removed]",
      "text/plain": [
       "plot without title"
      ]
     },
     "metadata": {},
     "output_type": "display_data"
    }
   ],
   "source": [
    "plot(mod2_1$fit, mod2_1$res, xlab = 'Fitted', ylab = 'residual')"
   ]
  },
  {
   "cell_type": "code",
   "execution_count": 57,
   "metadata": {},
   "outputs": [
    {
     "data": {
      "text/html": [
       "<table>\n",
       "<thead><tr><th></th><th scope=col>int_rate</th><th scope=col>state_mean_int</th><th scope=col>home_ownership</th><th scope=col>annual_inc</th><th scope=col>dti</th><th scope=col>term</th><th scope=col>loan_amnt</th><th scope=col>total_acc</th><th scope=col>tot_cur_bal</th><th scope=col>open_acc</th><th scope=col>pred</th></tr></thead>\n",
       "<tbody>\n",
       "\t<tr><th scope=row>506741</th><td> 6.89      </td><td>medium_high</td><td>MORTGAGE   </td><td>9000000    </td><td>0.08       </td><td> 36 months </td><td>11000      </td><td>29         </td><td> 324692    </td><td>15         </td><td>2.13       </td></tr>\n",
       "\t<tr><th scope=row>552198</th><td>12.69      </td><td>medium_high</td><td>OWN        </td><td>8253000    </td><td>0.14       </td><td> 36 months </td><td>30000      </td><td>26         </td><td> 130006    </td><td>18         </td><td>2.57       </td></tr>\n",
       "\t<tr><th scope=row>30177</th><td>12.73      </td><td>medium_high</td><td>MORTGAGE   </td><td>6000000    </td><td>0.01       </td><td> 36 months </td><td> 5000      </td><td>10         </td><td>  80819    </td><td> 2         </td><td>3.89       </td></tr>\n",
       "\t<tr><th scope=row>306812</th><td> 7.69      </td><td>medium_high</td><td>MORTGAGE   </td><td>4900000    </td><td>0.11       </td><td> 36 months </td><td>15600      </td><td>26         </td><td> 130235    </td><td>13         </td><td>4.45       </td></tr>\n",
       "\t<tr><th scope=row>451988</th><td> 7.62      </td><td>medium_high</td><td>RENT       </td><td>7446395    </td><td>0.13       </td><td> 36 months </td><td>20000      </td><td>24         </td><td>  31691    </td><td>10         </td><td>3.12       </td></tr>\n",
       "\t<tr><th scope=row>490863</th><td>10.64      </td><td>medium_high</td><td>MORTGAGE   </td><td>8700000    </td><td>0.18       </td><td> 60 months </td><td>14000      </td><td>32         </td><td>  89277    </td><td>20         </td><td>3.17       </td></tr>\n",
       "\t<tr><th scope=row>675610</th><td> 7.89      </td><td>medium_high</td><td>MORTGAGE   </td><td>6000000    </td><td>0.16       </td><td> 36 months </td><td> 4475      </td><td>13         </td><td> 401544    </td><td> 4         </td><td>3.64       </td></tr>\n",
       "\t<tr><th scope=row>177183</th><td>13.11      </td><td>medium_high</td><td>MORTGAGE   </td><td>7141778    </td><td>0.25       </td><td> 36 months </td><td>14825      </td><td>31         </td><td>  69548    </td><td>17         </td><td>3.04       </td></tr>\n",
       "\t<tr><th scope=row>169236</th><td>12.12      </td><td>medium_high</td><td>MORTGAGE   </td><td>6100000    </td><td>0.22       </td><td> 36 months </td><td>30000      </td><td>19         </td><td> 329254    </td><td> 8         </td><td>3.62       </td></tr>\n",
       "\t<tr><th scope=row>177928</th><td>15.80      </td><td>medium_high</td><td>MORTGAGE   </td><td> 800000    </td><td>4.12       </td><td> 36 months </td><td>35000      </td><td>14         </td><td>4772549    </td><td>12         </td><td>4.07       </td></tr>\n",
       "\t<tr><th scope=row>599101</th><td> 6.89      </td><td>medium_high</td><td>MORTGAGE   </td><td>7600000    </td><td>0.09       </td><td> 36 months </td><td>10000      </td><td>27         </td><td>  72572    </td><td>18         </td><td>2.82       </td></tr>\n",
       "\t<tr><th scope=row>325186</th><td>19.52      </td><td>medium_high</td><td>MORTGAGE   </td><td>7500000    </td><td>0.20       </td><td> 36 months </td><td>15000      </td><td>42         </td><td> 194985    </td><td>29         </td><td>2.69       </td></tr>\n",
       "\t<tr><th scope=row>866974</th><td>13.66      </td><td>medium_high</td><td>MORTGAGE   </td><td>8706582    </td><td>0.11       </td><td> 36 months </td><td> 8000      </td><td>18         </td><td>  79135    </td><td>11         </td><td>2.40       </td></tr>\n",
       "\t<tr><th scope=row>781510</th><td> 6.92      </td><td>medium_high</td><td>MORTGAGE   </td><td>7000000    </td><td>0.03       </td><td> 36 months </td><td> 7500      </td><td>17         </td><td> 277457    </td><td> 7         </td><td>3.11       </td></tr>\n",
       "\t<tr><th scope=row>563602</th><td> 9.17      </td><td>medium_high</td><td>OWN        </td><td>3000000    </td><td>2.02       </td><td> 36 months </td><td>35000      </td><td>31         </td><td>2271242    </td><td>14         </td><td>4.27       </td></tr>\n",
       "\t<tr><th scope=row>504708</th><td> 6.89      </td><td>medium_high</td><td>MORTGAGE   </td><td>7000000    </td><td>0.24       </td><td> 36 months </td><td>25000      </td><td>45         </td><td>  79826    </td><td>22         </td><td>3.02       </td></tr>\n",
       "\t<tr><th scope=row>697245</th><td> 7.89      </td><td>medium_high</td><td>MORTGAGE   </td><td>9500000    </td><td>0.12       </td><td> 60 months </td><td>24000      </td><td>31         </td><td> 256653    </td><td>12         </td><td>2.74       </td></tr>\n",
       "</tbody>\n",
       "</table>\n"
      ],
      "text/latex": [
       "\\begin{tabular}{r|lllllllllll}\n",
       "  & int\\_rate & state\\_mean\\_int & home\\_ownership & annual\\_inc & dti & term & loan\\_amnt & total\\_acc & tot\\_cur\\_bal & open\\_acc & pred\\\\\n",
       "\\hline\n",
       "\t506741 &  6.89         & medium\\_high & MORTGAGE      & 9000000       & 0.08          &  36 months    & 11000         & 29            &  324692       & 15            & 2.13         \\\\\n",
       "\t552198 & 12.69         & medium\\_high & OWN           & 8253000       & 0.14          &  36 months    & 30000         & 26            &  130006       & 18            & 2.57         \\\\\n",
       "\t30177 & 12.73         & medium\\_high & MORTGAGE      & 6000000       & 0.01          &  36 months    &  5000         & 10            &   80819       &  2            & 3.89         \\\\\n",
       "\t306812 &  7.69         & medium\\_high & MORTGAGE      & 4900000       & 0.11          &  36 months    & 15600         & 26            &  130235       & 13            & 4.45         \\\\\n",
       "\t451988 &  7.62         & medium\\_high & RENT          & 7446395       & 0.13          &  36 months    & 20000         & 24            &   31691       & 10            & 3.12         \\\\\n",
       "\t490863 & 10.64         & medium\\_high & MORTGAGE      & 8700000       & 0.18          &  60 months    & 14000         & 32            &   89277       & 20            & 3.17         \\\\\n",
       "\t675610 &  7.89         & medium\\_high & MORTGAGE      & 6000000       & 0.16          &  36 months    &  4475         & 13            &  401544       &  4            & 3.64         \\\\\n",
       "\t177183 & 13.11         & medium\\_high & MORTGAGE      & 7141778       & 0.25          &  36 months    & 14825         & 31            &   69548       & 17            & 3.04         \\\\\n",
       "\t169236 & 12.12         & medium\\_high & MORTGAGE      & 6100000       & 0.22          &  36 months    & 30000         & 19            &  329254       &  8            & 3.62         \\\\\n",
       "\t177928 & 15.80         & medium\\_high & MORTGAGE      &  800000       & 4.12          &  36 months    & 35000         & 14            & 4772549       & 12            & 4.07         \\\\\n",
       "\t599101 &  6.89         & medium\\_high & MORTGAGE      & 7600000       & 0.09          &  36 months    & 10000         & 27            &   72572       & 18            & 2.82         \\\\\n",
       "\t325186 & 19.52         & medium\\_high & MORTGAGE      & 7500000       & 0.20          &  36 months    & 15000         & 42            &  194985       & 29            & 2.69         \\\\\n",
       "\t866974 & 13.66         & medium\\_high & MORTGAGE      & 8706582       & 0.11          &  36 months    &  8000         & 18            &   79135       & 11            & 2.40         \\\\\n",
       "\t781510 &  6.92         & medium\\_high & MORTGAGE      & 7000000       & 0.03          &  36 months    &  7500         & 17            &  277457       &  7            & 3.11         \\\\\n",
       "\t563602 &  9.17         & medium\\_high & OWN           & 3000000       & 2.02          &  36 months    & 35000         & 31            & 2271242       & 14            & 4.27         \\\\\n",
       "\t504708 &  6.89         & medium\\_high & MORTGAGE      & 7000000       & 0.24          &  36 months    & 25000         & 45            &   79826       & 22            & 3.02         \\\\\n",
       "\t697245 &  7.89         & medium\\_high & MORTGAGE      & 9500000       & 0.12          &  60 months    & 24000         & 31            &  256653       & 12            & 2.74         \\\\\n",
       "\\end{tabular}\n"
      ],
      "text/markdown": [
       "\n",
       "| <!--/--> | int_rate | state_mean_int | home_ownership | annual_inc | dti | term | loan_amnt | total_acc | tot_cur_bal | open_acc | pred | \n",
       "|---|---|---|---|---|---|---|---|---|---|---|---|---|---|---|---|---|\n",
       "| 506741 |  6.89       | medium_high | MORTGAGE    | 9000000     | 0.08        |  36 months  | 11000       | 29          |  324692     | 15          | 2.13        | \n",
       "| 552198 | 12.69       | medium_high | OWN         | 8253000     | 0.14        |  36 months  | 30000       | 26          |  130006     | 18          | 2.57        | \n",
       "| 30177 | 12.73       | medium_high | MORTGAGE    | 6000000     | 0.01        |  36 months  |  5000       | 10          |   80819     |  2          | 3.89        | \n",
       "| 306812 |  7.69       | medium_high | MORTGAGE    | 4900000     | 0.11        |  36 months  | 15600       | 26          |  130235     | 13          | 4.45        | \n",
       "| 451988 |  7.62       | medium_high | RENT        | 7446395     | 0.13        |  36 months  | 20000       | 24          |   31691     | 10          | 3.12        | \n",
       "| 490863 | 10.64       | medium_high | MORTGAGE    | 8700000     | 0.18        |  60 months  | 14000       | 32          |   89277     | 20          | 3.17        | \n",
       "| 675610 |  7.89       | medium_high | MORTGAGE    | 6000000     | 0.16        |  36 months  |  4475       | 13          |  401544     |  4          | 3.64        | \n",
       "| 177183 | 13.11       | medium_high | MORTGAGE    | 7141778     | 0.25        |  36 months  | 14825       | 31          |   69548     | 17          | 3.04        | \n",
       "| 169236 | 12.12       | medium_high | MORTGAGE    | 6100000     | 0.22        |  36 months  | 30000       | 19          |  329254     |  8          | 3.62        | \n",
       "| 177928 | 15.80       | medium_high | MORTGAGE    |  800000     | 4.12        |  36 months  | 35000       | 14          | 4772549     | 12          | 4.07        | \n",
       "| 599101 |  6.89       | medium_high | MORTGAGE    | 7600000     | 0.09        |  36 months  | 10000       | 27          |   72572     | 18          | 2.82        | \n",
       "| 325186 | 19.52       | medium_high | MORTGAGE    | 7500000     | 0.20        |  36 months  | 15000       | 42          |  194985     | 29          | 2.69        | \n",
       "| 866974 | 13.66       | medium_high | MORTGAGE    | 8706582     | 0.11        |  36 months  |  8000       | 18          |   79135     | 11          | 2.40        | \n",
       "| 781510 |  6.92       | medium_high | MORTGAGE    | 7000000     | 0.03        |  36 months  |  7500       | 17          |  277457     |  7          | 3.11        | \n",
       "| 563602 |  9.17       | medium_high | OWN         | 3000000     | 2.02        |  36 months  | 35000       | 31          | 2271242     | 14          | 4.27        | \n",
       "| 504708 |  6.89       | medium_high | MORTGAGE    | 7000000     | 0.24        |  36 months  | 25000       | 45          |   79826     | 22          | 3.02        | \n",
       "| 697245 |  7.89       | medium_high | MORTGAGE    | 9500000     | 0.12        |  60 months  | 24000       | 31          |  256653     | 12          | 2.74        | \n",
       "\n",
       "\n"
      ],
      "text/plain": [
       "       int_rate state_mean_int home_ownership annual_inc dti  term      \n",
       "506741  6.89    medium_high    MORTGAGE       9000000    0.08  36 months\n",
       "552198 12.69    medium_high    OWN            8253000    0.14  36 months\n",
       "30177  12.73    medium_high    MORTGAGE       6000000    0.01  36 months\n",
       "306812  7.69    medium_high    MORTGAGE       4900000    0.11  36 months\n",
       "451988  7.62    medium_high    RENT           7446395    0.13  36 months\n",
       "490863 10.64    medium_high    MORTGAGE       8700000    0.18  60 months\n",
       "675610  7.89    medium_high    MORTGAGE       6000000    0.16  36 months\n",
       "177183 13.11    medium_high    MORTGAGE       7141778    0.25  36 months\n",
       "169236 12.12    medium_high    MORTGAGE       6100000    0.22  36 months\n",
       "177928 15.80    medium_high    MORTGAGE        800000    4.12  36 months\n",
       "599101  6.89    medium_high    MORTGAGE       7600000    0.09  36 months\n",
       "325186 19.52    medium_high    MORTGAGE       7500000    0.20  36 months\n",
       "866974 13.66    medium_high    MORTGAGE       8706582    0.11  36 months\n",
       "781510  6.92    medium_high    MORTGAGE       7000000    0.03  36 months\n",
       "563602  9.17    medium_high    OWN            3000000    2.02  36 months\n",
       "504708  6.89    medium_high    MORTGAGE       7000000    0.24  36 months\n",
       "697245  7.89    medium_high    MORTGAGE       9500000    0.12  60 months\n",
       "       loan_amnt total_acc tot_cur_bal open_acc pred\n",
       "506741 11000     29         324692     15       2.13\n",
       "552198 30000     26         130006     18       2.57\n",
       "30177   5000     10          80819      2       3.89\n",
       "306812 15600     26         130235     13       4.45\n",
       "451988 20000     24          31691     10       3.12\n",
       "490863 14000     32          89277     20       3.17\n",
       "675610  4475     13         401544      4       3.64\n",
       "177183 14825     31          69548     17       3.04\n",
       "169236 30000     19         329254      8       3.62\n",
       "177928 35000     14        4772549     12       4.07\n",
       "599101 10000     27          72572     18       2.82\n",
       "325186 15000     42         194985     29       2.69\n",
       "866974  8000     18          79135     11       2.40\n",
       "781510  7500     17         277457      7       3.11\n",
       "563602 35000     31        2271242     14       4.27\n",
       "504708 25000     45          79826     22       3.02\n",
       "697245 24000     31         256653     12       2.74"
      ]
     },
     "metadata": {},
     "output_type": "display_data"
    }
   ],
   "source": [
    "# still large residuals for some data points. Check the reason.\n",
    "cbind(train.sub[which(mod2_1$fitted <= 1.5), ],\n",
    "      pred = round(exp(predict(mod2_1, train.sub[which(mod2_1$fitted <= 1.5), ])), 2))"
   ]
  },
  {
   "cell_type": "code",
   "execution_count": 58,
   "metadata": {},
   "outputs": [],
   "source": [
    "#notice that the annnual income is too large so that predicted int_rate is too large\n",
    "#two methods to solve this problem\n",
    "#1.non-linear model\n",
    "#2.categorize annual income to several group\n",
    "#here, use non-linear model\n",
    "mod2_2 <- lm(log(int_rate) ~ state_mean_int + home_ownership + log(annual_inc) + dti +\n",
    "               + term + loan_amnt + total_acc + tot_cur_bal + open_acc,\n",
    "             data = train.sub)"
   ]
  },
  {
   "cell_type": "code",
   "execution_count": 59,
   "metadata": {
    "scrolled": false
   },
   "outputs": [
    {
     "data": {
      "image/png": "[encoded data removed]",
      "text/plain": [
       "Plot with title \"\""
      ]
     },
     "metadata": {},
     "output_type": "display_data"
    },
    {
     "data": {
      "image/png": "[encoded data removed]",
      "text/plain": [
       "Plot with title \"\""
      ]
     },
     "metadata": {},
     "output_type": "display_data"
    },
    {
     "data": {
      "image/png": "[encoded data removed]",
      "text/plain": [
       "Plot with title \"\""
      ]
     },
     "metadata": {},
     "output_type": "display_data"
    },
    {
     "data": {
      "image/png": "[encoded data removed]",
      "text/plain": [
       "Plot with title \"\""
      ]
     },
     "metadata": {},
     "output_type": "display_data"
    }
   ],
   "source": [
    "plot(mod2)\n",
    "# first plot we can check unbiased/biased and homo/hetero of the residual\n",
    "# Def not having homo, reason is model miss important features.\n",
    "# second plot to check the normality of the residual. \n",
    "# qqplot: for ith percentile data point, find ith percentile in normal distribution.\n"
   ]
  },
  {
   "cell_type": "code",
   "execution_count": null,
   "metadata": {},
   "outputs": [],
   "source": [
    "# collinearity\n",
    "#do we need to solve all vollinearity issue\n",
    "#not necessary\n",
    "#if we just focus on the predicted value, we do not need to solve\n",
    "#if we focus on the model interpreteration, we need to solve this issue."
   ]
  }
 ],
 "metadata": {
  "kernelspec": {
   "display_name": "R",
   "language": "R",
   "name": "ir"
  },
  "language_info": {
   "codemirror_mode": "r",
   "file_extension": ".r",
   "mimetype": "text/x-r-source",
   "name": "R",
   "pygments_lexer": "r",
   "version": "3.4.2"
  }
 },
 "nbformat": 4,
 "nbformat_minor": 2
}
