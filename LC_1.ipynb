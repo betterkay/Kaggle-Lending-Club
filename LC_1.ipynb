{
 "cells": [
  {
   "cell_type": "markdown",
   "metadata": {},
   "source": [
    "# import data"
   ]
  },
  {
   "cell_type": "code",
   "execution_count": 2,
   "metadata": {},
   "outputs": [],
   "source": [
    "loan <- read.csv(\"loan.csv\", stringsAsFactors = FALSE)\n",
    "loanT <- loan"
   ]
  },
  {
   "cell_type": "markdown",
   "metadata": {},
   "source": [
    "# Understand the data"
   ]
  },
  {
   "cell_type": "code",
   "execution_count": 3,
   "metadata": {},
   "outputs": [
    {
     "data": {
      "text/plain": [
       "       id             member_id          loan_amnt      funded_amnt   \n",
       " Min.   :   54734   Min.   :   70473   Min.   :  500   Min.   :  500  \n",
       " 1st Qu.: 9206643   1st Qu.:10877134   1st Qu.: 8000   1st Qu.: 8000  \n",
       " Median :34433267   Median :37095283   Median :13000   Median :13000  \n",
       " Mean   :32465133   Mean   :35001825   Mean   :14755   Mean   :14742  \n",
       " 3rd Qu.:54908135   3rd Qu.:58471347   3rd Qu.:20000   3rd Qu.:20000  \n",
       " Max.   :68617057   Max.   :73544841   Max.   :35000   Max.   :35000  \n",
       "                                                                      \n",
       " funded_amnt_inv     term              int_rate      installment     \n",
       " Min.   :    0   Length:887379      Min.   : 5.32   Min.   :  15.67  \n",
       " 1st Qu.: 8000   Class :character   1st Qu.: 9.99   1st Qu.: 260.70  \n",
       " Median :13000   Mode  :character   Median :12.99   Median : 382.55  \n",
       " Mean   :14702                      Mean   :13.25   Mean   : 436.72  \n",
       " 3rd Qu.:20000                      3rd Qu.:16.20   3rd Qu.: 572.60  \n",
       " Max.   :35000                      Max.   :28.99   Max.   :1445.46  \n",
       "                                                                     \n",
       "    grade            sub_grade          emp_title          emp_length       \n",
       " Length:887379      Length:887379      Length:887379      Length:887379     \n",
       " Class :character   Class :character   Class :character   Class :character  \n",
       " Mode  :character   Mode  :character   Mode  :character   Mode  :character  \n",
       "                                                                            \n",
       "                                                                            \n",
       "                                                                            \n",
       "                                                                            \n",
       " home_ownership       annual_inc      verification_status   issue_d         \n",
       " Length:887379      Min.   :      0   Length:887379       Length:887379     \n",
       " Class :character   1st Qu.:  45000   Class :character    Class :character  \n",
       " Mode  :character   Median :  65000   Mode  :character    Mode  :character  \n",
       "                    Mean   :  75028                                         \n",
       "                    3rd Qu.:  90000                                         \n",
       "                    Max.   :9500000                                         \n",
       "                    NA's   :4                                               \n",
       " loan_status         pymnt_plan            url                desc          \n",
       " Length:887379      Length:887379      Length:887379      Length:887379     \n",
       " Class :character   Class :character   Class :character   Class :character  \n",
       " Mode  :character   Mode  :character   Mode  :character   Mode  :character  \n",
       "                                                                            \n",
       "                                                                            \n",
       "                                                                            \n",
       "                                                                            \n",
       "   purpose             title             zip_code          addr_state       \n",
       " Length:887379      Length:887379      Length:887379      Length:887379     \n",
       " Class :character   Class :character   Class :character   Class :character  \n",
       " Mode  :character   Mode  :character   Mode  :character   Mode  :character  \n",
       "                                                                            \n",
       "                                                                            \n",
       "                                                                            \n",
       "                                                                            \n",
       "      dti           delinq_2yrs      earliest_cr_line   inq_last_6mths   \n",
       " Min.   :   0.00   Min.   : 0.0000   Length:887379      Min.   : 0.0000  \n",
       " 1st Qu.:  11.91   1st Qu.: 0.0000   Class :character   1st Qu.: 0.0000  \n",
       " Median :  17.65   Median : 0.0000   Mode  :character   Median : 0.0000  \n",
       " Mean   :  18.16   Mean   : 0.3144                      Mean   : 0.6946  \n",
       " 3rd Qu.:  23.95   3rd Qu.: 0.0000                      3rd Qu.: 1.0000  \n",
       " Max.   :9999.00   Max.   :39.0000                      Max.   :33.0000  \n",
       "                   NA's   :29                           NA's   :29       \n",
       " mths_since_last_delinq mths_since_last_record    open_acc    \n",
       " Min.   :  0.0          Min.   :  0.0          Min.   : 0.00  \n",
       " 1st Qu.: 15.0          1st Qu.: 51.0          1st Qu.: 8.00  \n",
       " Median : 31.0          Median : 70.0          Median :11.00  \n",
       " Mean   : 34.1          Mean   : 70.1          Mean   :11.55  \n",
       " 3rd Qu.: 50.0          3rd Qu.: 92.0          3rd Qu.:14.00  \n",
       " Max.   :188.0          Max.   :129.0          Max.   :90.00  \n",
       " NA's   :454312         NA's   :750326         NA's   :29     \n",
       "    pub_rec          revol_bal         revol_util       total_acc     \n",
       " Min.   : 0.0000   Min.   :      0   Min.   :  0.00   Min.   :  1.00  \n",
       " 1st Qu.: 0.0000   1st Qu.:   6443   1st Qu.: 37.70   1st Qu.: 17.00  \n",
       " Median : 0.0000   Median :  11875   Median : 56.00   Median : 24.00  \n",
       " Mean   : 0.1953   Mean   :  16921   Mean   : 55.07   Mean   : 25.27  \n",
       " 3rd Qu.: 0.0000   3rd Qu.:  20829   3rd Qu.: 73.60   3rd Qu.: 32.00  \n",
       " Max.   :86.0000   Max.   :2904836   Max.   :892.30   Max.   :169.00  \n",
       " NA's   :29                          NA's   :502      NA's   :29      \n",
       " initial_list_status   out_prncp     out_prncp_inv    total_pymnt   \n",
       " Length:887379       Min.   :    0   Min.   :    0   Min.   :    0  \n",
       " Class :character    1st Qu.:    0   1st Qu.:    0   1st Qu.: 1915  \n",
       " Mode  :character    Median : 6458   Median : 6456   Median : 4895  \n",
       "                     Mean   : 8403   Mean   : 8400   Mean   : 7559  \n",
       "                     3rd Qu.:13659   3rd Qu.:13654   3rd Qu.:10617  \n",
       "                     Max.   :49373   Max.   :49373   Max.   :57778  \n",
       "                                                                    \n",
       " total_pymnt_inv total_rec_prncp total_rec_int     total_rec_late_fee\n",
       " Min.   :    0   Min.   :    0   Min.   :    0.0   Min.   :  0.0000  \n",
       " 1st Qu.: 1900   1st Qu.: 1201   1st Qu.:  441.5   1st Qu.:  0.0000  \n",
       " Median : 4862   Median : 3215   Median : 1073.3   Median :  0.0000  \n",
       " Mean   : 7521   Mean   : 5758   Mean   : 1754.8   Mean   :  0.3967  \n",
       " 3rd Qu.:10566   3rd Qu.: 8000   3rd Qu.: 2238.3   3rd Qu.:  0.0000  \n",
       " Max.   :57778   Max.   :35000   Max.   :24205.6   Max.   :358.6800  \n",
       "                                                                     \n",
       "   recoveries       collection_recovery_fee last_pymnt_d      \n",
       " Min.   :    0.00   Min.   :   0.000        Length:887379     \n",
       " 1st Qu.:    0.00   1st Qu.:   0.000        Class :character  \n",
       " Median :    0.00   Median :   0.000        Mode  :character  \n",
       " Mean   :   45.92   Mean   :   4.881                          \n",
       " 3rd Qu.:    0.00   3rd Qu.:   0.000                          \n",
       " Max.   :33520.27   Max.   :7002.190                          \n",
       "                                                              \n",
       " last_pymnt_amnt   next_pymnt_d       last_credit_pull_d\n",
       " Min.   :    0.0   Length:887379      Length:887379     \n",
       " 1st Qu.:  280.2   Class :character   Class :character  \n",
       " Median :  462.8   Mode  :character   Mode  :character  \n",
       " Mean   : 2164.2                                        \n",
       " 3rd Qu.:  831.2                                        \n",
       " Max.   :36475.6                                        \n",
       "                                                        \n",
       " collections_12_mths_ex_med mths_since_last_major_derog  policy_code\n",
       " Min.   : 0.00000           Min.   :  0.0               Min.   :1   \n",
       " 1st Qu.: 0.00000           1st Qu.: 27.0               1st Qu.:1   \n",
       " Median : 0.00000           Median : 44.0               Median :1   \n",
       " Mean   : 0.01438           Mean   : 44.1               Mean   :1   \n",
       " 3rd Qu.: 0.00000           3rd Qu.: 61.0               3rd Qu.:1   \n",
       " Max.   :20.00000           Max.   :188.0               Max.   :1   \n",
       " NA's   :145                NA's   :665676                          \n",
       " application_type   annual_inc_joint   dti_joint      verification_status_joint\n",
       " Length:887379      Min.   : 17950   Min.   : 3.0     Length:887379            \n",
       " Class :character   1st Qu.: 76033   1st Qu.:13.2     Class :character         \n",
       " Mode  :character   Median :101771   Median :17.6     Mode  :character         \n",
       "                    Mean   :109981   Mean   :18.3                              \n",
       "                    3rd Qu.:132800   3rd Qu.:22.6                              \n",
       "                    Max.   :500000   Max.   :43.9                              \n",
       "                    NA's   :886868   NA's   :886870                            \n",
       " acc_now_delinq       tot_coll_amt      tot_cur_bal       open_acc_6m    \n",
       " Min.   : 0.000000   Min.   :      0   Min.   :      0   Min.   : 0.0    \n",
       " 1st Qu.: 0.000000   1st Qu.:      0   1st Qu.:  29853   1st Qu.: 0.0    \n",
       " Median : 0.000000   Median :      0   Median :  80559   Median : 1.0    \n",
       " Mean   : 0.004991   Mean   :    226   Mean   : 139458   Mean   : 1.1    \n",
       " 3rd Qu.: 0.000000   3rd Qu.:      0   3rd Qu.: 208205   3rd Qu.: 2.0    \n",
       " Max.   :14.000000   Max.   :9152545   Max.   :8000078   Max.   :14.0    \n",
       " NA's   :29          NA's   :70276     NA's   :70276     NA's   :866007  \n",
       "   open_il_6m      open_il_12m      open_il_24m     mths_since_rcnt_il\n",
       " Min.   : 0.0     Min.   : 0.0     Min.   : 0.0     Min.   :  0.0     \n",
       " 1st Qu.: 1.0     1st Qu.: 0.0     1st Qu.: 0.0     1st Qu.:  6.0     \n",
       " Median : 2.0     Median : 0.0     Median : 1.0     Median : 12.0     \n",
       " Mean   : 2.9     Mean   : 0.8     Mean   : 1.7     Mean   : 20.9     \n",
       " 3rd Qu.: 4.0     3rd Qu.: 1.0     3rd Qu.: 2.0     3rd Qu.: 23.0     \n",
       " Max.   :40.0     Max.   :12.0     Max.   :19.0     Max.   :363.0     \n",
       " NA's   :866007   NA's   :866007   NA's   :866007   NA's   :866569    \n",
       "  total_bal_il       il_util        open_rv_12m      open_rv_24m    \n",
       " Min.   :     0   Min.   :  0.0    Min.   : 0.0     Min.   : 0      \n",
       " 1st Qu.: 10252   1st Qu.: 58.6    1st Qu.: 0.0     1st Qu.: 1      \n",
       " Median : 24685   Median : 74.9    Median : 1.0     Median : 2      \n",
       " Mean   : 36553   Mean   : 71.5    Mean   : 1.4     Mean   : 3      \n",
       " 3rd Qu.: 47858   3rd Qu.: 87.6    3rd Qu.: 2.0     3rd Qu.: 4      \n",
       " Max.   :878459   Max.   :223.3    Max.   :22.0     Max.   :43      \n",
       " NA's   :866007   NA's   :868762   NA's   :866007   NA's   :866007  \n",
       "   max_bal_bc        all_util      total_rev_hi_lim      inq_fi      \n",
       " Min.   :     0   Min.   :  0.0    Min.   :      0   Min.   : 0.0    \n",
       " 1st Qu.:  2411   1st Qu.: 47.7    1st Qu.:  13900   1st Qu.: 0.0    \n",
       " Median :  4483   Median : 61.9    Median :  23700   Median : 0.0    \n",
       " Mean   :  5888   Mean   : 60.8    Mean   :  32069   Mean   : 0.9    \n",
       " 3rd Qu.:  7772   3rd Qu.: 75.2    3rd Qu.:  39800   3rd Qu.: 1.0    \n",
       " Max.   :127305   Max.   :151.4    Max.   :9999999   Max.   :17.0    \n",
       " NA's   :866007   NA's   :866007   NA's   :70276     NA's   :866007  \n",
       "  total_cu_tl      inq_last_12m   \n",
       " Min.   : 0.0     Min.   :-4      \n",
       " 1st Qu.: 0.0     1st Qu.: 0      \n",
       " Median : 0.0     Median : 2      \n",
       " Mean   : 1.5     Mean   : 2      \n",
       " 3rd Qu.: 2.0     3rd Qu.: 3      \n",
       " Max.   :35.0     Max.   :32      \n",
       " NA's   :866007   NA's   :866007  "
      ]
     },
     "metadata": {},
     "output_type": "display_data"
    }
   ],
   "source": [
    "summary(loan)"
   ]
  },
  {
   "cell_type": "code",
   "execution_count": 4,
   "metadata": {},
   "outputs": [
    {
     "name": "stdout",
     "output_type": "stream",
     "text": [
      "'data.frame':\t887379 obs. of  74 variables:\n",
      " $ id                         : int  1077501 1077430 1077175 1076863 1075358 1075269 1069639 1072053 1071795 1071570 ...\n",
      " $ member_id                  : int  1296599 1314167 1313524 1277178 1311748 1311441 1304742 1288686 1306957 1306721 ...\n",
      " $ loan_amnt                  : num  5000 2500 2400 10000 3000 ...\n",
      " $ funded_amnt                : num  5000 2500 2400 10000 3000 ...\n",
      " $ funded_amnt_inv            : num  4975 2500 2400 10000 3000 ...\n",
      " $ term                       : chr  \" 36 months\" \" 60 months\" \" 36 months\" \" 36 months\" ...\n",
      " $ int_rate                   : num  10.6 15.3 16 13.5 12.7 ...\n",
      " $ installment                : num  162.9 59.8 84.3 339.3 67.8 ...\n",
      " $ grade                      : chr  \"B\" \"C\" \"C\" \"C\" ...\n",
      " $ sub_grade                  : chr  \"B2\" \"C4\" \"C5\" \"C1\" ...\n",
      " $ emp_title                  : chr  \"\" \"Ryder\" \"\" \"AIR RESOURCES BOARD\" ...\n",
      " $ emp_length                 : chr  \"10+ years\" \"< 1 year\" \"10+ years\" \"10+ years\" ...\n",
      " $ home_ownership             : chr  \"RENT\" \"RENT\" \"RENT\" \"RENT\" ...\n",
      " $ annual_inc                 : num  24000 30000 12252 49200 80000 ...\n",
      " $ verification_status        : chr  \"Verified\" \"Source Verified\" \"Not Verified\" \"Source Verified\" ...\n",
      " $ issue_d                    : chr  \"Dec-2011\" \"Dec-2011\" \"Dec-2011\" \"Dec-2011\" ...\n",
      " $ loan_status                : chr  \"Fully Paid\" \"Charged Off\" \"Fully Paid\" \"Fully Paid\" ...\n",
      " $ pymnt_plan                 : chr  \"n\" \"n\" \"n\" \"n\" ...\n",
      " $ url                        : chr  \"https://www.lendingclub.com/browse/loanDetail.action?loan_id=1077501\" \"https://www.lendingclub.com/browse/loanDetail.action?loan_id=1077430\" \"https://www.lendingclub.com/browse/loanDetail.action?loan_id=1077175\" \"https://www.lendingclub.com/browse/loanDetail.action?loan_id=1076863\" ...\n",
      " $ desc                       : chr  \"  Borrower added on 12/22/11 > I need to upgrade my business technologies.<br>\" \"  Borrower added on 12/22/11 > I plan to use this money to finance the motorcycle i am looking at. I plan to ha\"| __truncated__ \"\" \"  Borrower added on 12/21/11 > to pay for property tax (borrow from friend, need to pay back) & central A/C nee\"| __truncated__ ...\n",
      " $ purpose                    : chr  \"credit_card\" \"car\" \"small_business\" \"other\" ...\n",
      " $ title                      : chr  \"Computer\" \"bike\" \"real estate business\" \"personel\" ...\n",
      " $ zip_code                   : chr  \"860xx\" \"309xx\" \"606xx\" \"917xx\" ...\n",
      " $ addr_state                 : chr  \"AZ\" \"GA\" \"IL\" \"CA\" ...\n",
      " $ dti                        : num  27.65 1 8.72 20 17.94 ...\n",
      " $ delinq_2yrs                : num  0 0 0 0 0 0 0 0 0 0 ...\n",
      " $ earliest_cr_line           : chr  \"Jan-1985\" \"Apr-1999\" \"Nov-2001\" \"Feb-1996\" ...\n",
      " $ inq_last_6mths             : num  1 5 2 1 0 3 1 2 2 0 ...\n",
      " $ mths_since_last_delinq     : num  NA NA NA 35 38 NA NA NA NA NA ...\n",
      " $ mths_since_last_record     : num  NA NA NA NA NA NA NA NA NA NA ...\n",
      " $ open_acc                   : num  3 3 2 10 15 9 7 4 11 2 ...\n",
      " $ pub_rec                    : num  0 0 0 0 0 0 0 0 0 0 ...\n",
      " $ revol_bal                  : num  13648 1687 2956 5598 27783 ...\n",
      " $ revol_util                 : num  83.7 9.4 98.5 21 53.9 28.3 85.6 87.5 32.6 36.5 ...\n",
      " $ total_acc                  : num  9 4 10 37 38 12 11 4 13 3 ...\n",
      " $ initial_list_status        : chr  \"f\" \"f\" \"f\" \"f\" ...\n",
      " $ out_prncp                  : num  0 0 0 0 767 ...\n",
      " $ out_prncp_inv              : num  0 0 0 0 767 ...\n",
      " $ total_pymnt                : num  5861 1009 3004 12226 3242 ...\n",
      " $ total_pymnt_inv            : num  5832 1009 3004 12226 3242 ...\n",
      " $ total_rec_prncp            : num  5000 456 2400 10000 2233 ...\n",
      " $ total_rec_int              : num  861 435 604 2209 1009 ...\n",
      " $ total_rec_late_fee         : num  0 0 0 17 0 ...\n",
      " $ recoveries                 : num  0 117 0 0 0 ...\n",
      " $ collection_recovery_fee    : num  0 1.11 0 0 0 0 0 0 2.09 2.52 ...\n",
      " $ last_pymnt_d               : chr  \"Jan-2015\" \"Apr-2013\" \"Jun-2014\" \"Jan-2015\" ...\n",
      " $ last_pymnt_amnt            : num  171.6 119.7 649.9 357.5 67.8 ...\n",
      " $ next_pymnt_d               : chr  \"\" \"\" \"\" \"\" ...\n",
      " $ last_credit_pull_d         : chr  \"Jan-2016\" \"Sep-2013\" \"Jan-2016\" \"Jan-2015\" ...\n",
      " $ collections_12_mths_ex_med : num  0 0 0 0 0 0 0 0 0 0 ...\n",
      " $ mths_since_last_major_derog: num  NA NA NA NA NA NA NA NA NA NA ...\n",
      " $ policy_code                : num  1 1 1 1 1 1 1 1 1 1 ...\n",
      " $ application_type           : chr  \"INDIVIDUAL\" \"INDIVIDUAL\" \"INDIVIDUAL\" \"INDIVIDUAL\" ...\n",
      " $ annual_inc_joint           : num  NA NA NA NA NA NA NA NA NA NA ...\n",
      " $ dti_joint                  : num  NA NA NA NA NA NA NA NA NA NA ...\n",
      " $ verification_status_joint  : chr  \"\" \"\" \"\" \"\" ...\n",
      " $ acc_now_delinq             : num  0 0 0 0 0 0 0 0 0 0 ...\n",
      " $ tot_coll_amt               : num  NA NA NA NA NA NA NA NA NA NA ...\n",
      " $ tot_cur_bal                : num  NA NA NA NA NA NA NA NA NA NA ...\n",
      " $ open_acc_6m                : num  NA NA NA NA NA NA NA NA NA NA ...\n",
      " $ open_il_6m                 : num  NA NA NA NA NA NA NA NA NA NA ...\n",
      " $ open_il_12m                : num  NA NA NA NA NA NA NA NA NA NA ...\n",
      " $ open_il_24m                : num  NA NA NA NA NA NA NA NA NA NA ...\n",
      " $ mths_since_rcnt_il         : num  NA NA NA NA NA NA NA NA NA NA ...\n",
      " $ total_bal_il               : num  NA NA NA NA NA NA NA NA NA NA ...\n",
      " $ il_util                    : num  NA NA NA NA NA NA NA NA NA NA ...\n",
      " $ open_rv_12m                : num  NA NA NA NA NA NA NA NA NA NA ...\n",
      " $ open_rv_24m                : num  NA NA NA NA NA NA NA NA NA NA ...\n",
      " $ max_bal_bc                 : num  NA NA NA NA NA NA NA NA NA NA ...\n",
      " $ all_util                   : num  NA NA NA NA NA NA NA NA NA NA ...\n",
      " $ total_rev_hi_lim           : num  NA NA NA NA NA NA NA NA NA NA ...\n",
      " $ inq_fi                     : num  NA NA NA NA NA NA NA NA NA NA ...\n",
      " $ total_cu_tl                : num  NA NA NA NA NA NA NA NA NA NA ...\n",
      " $ inq_last_12m               : num  NA NA NA NA NA NA NA NA NA NA ...\n"
     ]
    }
   ],
   "source": [
    "str(loan)"
   ]
  },
  {
   "cell_type": "code",
   "execution_count": 5,
   "metadata": {},
   "outputs": [
    {
     "data": {
      "text/html": [
       "<ol class=list-inline>\n",
       "\t<li>887379</li>\n",
       "\t<li>74</li>\n",
       "</ol>\n"
      ],
      "text/latex": [
       "\\begin{enumerate*}\n",
       "\\item 887379\n",
       "\\item 74\n",
       "\\end{enumerate*}\n"
      ],
      "text/markdown": [
       "1. 887379\n",
       "2. 74\n",
       "\n",
       "\n"
      ],
      "text/plain": [
       "[1] 887379     74"
      ]
     },
     "metadata": {},
     "output_type": "display_data"
    }
   ],
   "source": [
    "dim(loan)"
   ]
  },
  {
   "cell_type": "code",
   "execution_count": 6,
   "metadata": {},
   "outputs": [
    {
     "data": {
      "text/html": [
       "<table>\n",
       "<thead><tr><th scope=col>id</th><th scope=col>member_id</th><th scope=col>loan_amnt</th><th scope=col>funded_amnt</th><th scope=col>funded_amnt_inv</th><th scope=col>term</th><th scope=col>int_rate</th><th scope=col>installment</th><th scope=col>grade</th><th scope=col>sub_grade</th><th scope=col>...</th><th scope=col>total_bal_il</th><th scope=col>il_util</th><th scope=col>open_rv_12m</th><th scope=col>open_rv_24m</th><th scope=col>max_bal_bc</th><th scope=col>all_util</th><th scope=col>total_rev_hi_lim</th><th scope=col>inq_fi</th><th scope=col>total_cu_tl</th><th scope=col>inq_last_12m</th></tr></thead>\n",
       "<tbody>\n",
       "\t<tr><td>1077501   </td><td>1296599   </td><td> 5000     </td><td> 5000     </td><td> 4975     </td><td> 36 months</td><td>10.65     </td><td>162.87    </td><td>B         </td><td>B2        </td><td>...       </td><td>NA        </td><td>NA        </td><td>NA        </td><td>NA        </td><td>NA        </td><td>NA        </td><td>NA        </td><td>NA        </td><td>NA        </td><td>NA        </td></tr>\n",
       "\t<tr><td>1077430   </td><td>1314167   </td><td> 2500     </td><td> 2500     </td><td> 2500     </td><td> 60 months</td><td>15.27     </td><td> 59.83    </td><td>C         </td><td>C4        </td><td>...       </td><td>NA        </td><td>NA        </td><td>NA        </td><td>NA        </td><td>NA        </td><td>NA        </td><td>NA        </td><td>NA        </td><td>NA        </td><td>NA        </td></tr>\n",
       "\t<tr><td>1077175   </td><td>1313524   </td><td> 2400     </td><td> 2400     </td><td> 2400     </td><td> 36 months</td><td>15.96     </td><td> 84.33    </td><td>C         </td><td>C5        </td><td>...       </td><td>NA        </td><td>NA        </td><td>NA        </td><td>NA        </td><td>NA        </td><td>NA        </td><td>NA        </td><td>NA        </td><td>NA        </td><td>NA        </td></tr>\n",
       "\t<tr><td>1076863   </td><td>1277178   </td><td>10000     </td><td>10000     </td><td>10000     </td><td> 36 months</td><td>13.49     </td><td>339.31    </td><td>C         </td><td>C1        </td><td>...       </td><td>NA        </td><td>NA        </td><td>NA        </td><td>NA        </td><td>NA        </td><td>NA        </td><td>NA        </td><td>NA        </td><td>NA        </td><td>NA        </td></tr>\n",
       "\t<tr><td>1075358   </td><td>1311748   </td><td> 3000     </td><td> 3000     </td><td> 3000     </td><td> 60 months</td><td>12.69     </td><td> 67.79    </td><td>B         </td><td>B5        </td><td>...       </td><td>NA        </td><td>NA        </td><td>NA        </td><td>NA        </td><td>NA        </td><td>NA        </td><td>NA        </td><td>NA        </td><td>NA        </td><td>NA        </td></tr>\n",
       "\t<tr><td>1075269   </td><td>1311441   </td><td> 5000     </td><td> 5000     </td><td> 5000     </td><td> 36 months</td><td> 7.90     </td><td>156.46    </td><td>A         </td><td>A4        </td><td>...       </td><td>NA        </td><td>NA        </td><td>NA        </td><td>NA        </td><td>NA        </td><td>NA        </td><td>NA        </td><td>NA        </td><td>NA        </td><td>NA        </td></tr>\n",
       "</tbody>\n",
       "</table>\n"
      ],
      "text/latex": [
       "\\begin{tabular}{r|llllllllllllllllllllllllllllllllllllllllllllllllllllllllllllllllllllllllll}\n",
       " id & member\\_id & loan\\_amnt & funded\\_amnt & funded\\_amnt\\_inv & term & int\\_rate & installment & grade & sub\\_grade & ... & total\\_bal\\_il & il\\_util & open\\_rv\\_12m & open\\_rv\\_24m & max\\_bal\\_bc & all\\_util & total\\_rev\\_hi\\_lim & inq\\_fi & total\\_cu\\_tl & inq\\_last\\_12m\\\\\n",
       "\\hline\n",
       "\t 1077501    & 1296599    &  5000      &  5000      &  4975      &  36 months & 10.65      & 162.87     & B          & B2         & ...        & NA         & NA         & NA         & NA         & NA         & NA         & NA         & NA         & NA         & NA        \\\\\n",
       "\t 1077430    & 1314167    &  2500      &  2500      &  2500      &  60 months & 15.27      &  59.83     & C          & C4         & ...        & NA         & NA         & NA         & NA         & NA         & NA         & NA         & NA         & NA         & NA        \\\\\n",
       "\t 1077175    & 1313524    &  2400      &  2400      &  2400      &  36 months & 15.96      &  84.33     & C          & C5         & ...        & NA         & NA         & NA         & NA         & NA         & NA         & NA         & NA         & NA         & NA        \\\\\n",
       "\t 1076863    & 1277178    & 10000      & 10000      & 10000      &  36 months & 13.49      & 339.31     & C          & C1         & ...        & NA         & NA         & NA         & NA         & NA         & NA         & NA         & NA         & NA         & NA        \\\\\n",
       "\t 1075358    & 1311748    &  3000      &  3000      &  3000      &  60 months & 12.69      &  67.79     & B          & B5         & ...        & NA         & NA         & NA         & NA         & NA         & NA         & NA         & NA         & NA         & NA        \\\\\n",
       "\t 1075269    & 1311441    &  5000      &  5000      &  5000      &  36 months &  7.90      & 156.46     & A          & A4         & ...        & NA         & NA         & NA         & NA         & NA         & NA         & NA         & NA         & NA         & NA        \\\\\n",
       "\\end{tabular}\n"
      ],
      "text/markdown": [
       "\n",
       "id | member_id | loan_amnt | funded_amnt | funded_amnt_inv | term | int_rate | installment | grade | sub_grade | ... | total_bal_il | il_util | open_rv_12m | open_rv_24m | max_bal_bc | all_util | total_rev_hi_lim | inq_fi | total_cu_tl | inq_last_12m | \n",
       "|---|---|---|---|---|---|\n",
       "| 1077501    | 1296599    |  5000      |  5000      |  4975      |  36 months | 10.65      | 162.87     | B          | B2         | ...        | NA         | NA         | NA         | NA         | NA         | NA         | NA         | NA         | NA         | NA         | \n",
       "| 1077430    | 1314167    |  2500      |  2500      |  2500      |  60 months | 15.27      |  59.83     | C          | C4         | ...        | NA         | NA         | NA         | NA         | NA         | NA         | NA         | NA         | NA         | NA         | \n",
       "| 1077175    | 1313524    |  2400      |  2400      |  2400      |  36 months | 15.96      |  84.33     | C          | C5         | ...        | NA         | NA         | NA         | NA         | NA         | NA         | NA         | NA         | NA         | NA         | \n",
       "| 1076863    | 1277178    | 10000      | 10000      | 10000      |  36 months | 13.49      | 339.31     | C          | C1         | ...        | NA         | NA         | NA         | NA         | NA         | NA         | NA         | NA         | NA         | NA         | \n",
       "| 1075358    | 1311748    |  3000      |  3000      |  3000      |  60 months | 12.69      |  67.79     | B          | B5         | ...        | NA         | NA         | NA         | NA         | NA         | NA         | NA         | NA         | NA         | NA         | \n",
       "| 1075269    | 1311441    |  5000      |  5000      |  5000      |  36 months |  7.90      | 156.46     | A          | A4         | ...        | NA         | NA         | NA         | NA         | NA         | NA         | NA         | NA         | NA         | NA         | \n",
       "\n",
       "\n"
      ],
      "text/plain": [
       "  id      member_id loan_amnt funded_amnt funded_amnt_inv term       int_rate\n",
       "1 1077501 1296599    5000      5000        4975            36 months 10.65   \n",
       "2 1077430 1314167    2500      2500        2500            60 months 15.27   \n",
       "3 1077175 1313524    2400      2400        2400            36 months 15.96   \n",
       "4 1076863 1277178   10000     10000       10000            36 months 13.49   \n",
       "5 1075358 1311748    3000      3000        3000            60 months 12.69   \n",
       "6 1075269 1311441    5000      5000        5000            36 months  7.90   \n",
       "  installment grade sub_grade ... total_bal_il il_util open_rv_12m open_rv_24m\n",
       "1 162.87      B     B2        ... NA           NA      NA          NA         \n",
       "2  59.83      C     C4        ... NA           NA      NA          NA         \n",
       "3  84.33      C     C5        ... NA           NA      NA          NA         \n",
       "4 339.31      C     C1        ... NA           NA      NA          NA         \n",
       "5  67.79      B     B5        ... NA           NA      NA          NA         \n",
       "6 156.46      A     A4        ... NA           NA      NA          NA         \n",
       "  max_bal_bc all_util total_rev_hi_lim inq_fi total_cu_tl inq_last_12m\n",
       "1 NA         NA       NA               NA     NA          NA          \n",
       "2 NA         NA       NA               NA     NA          NA          \n",
       "3 NA         NA       NA               NA     NA          NA          \n",
       "4 NA         NA       NA               NA     NA          NA          \n",
       "5 NA         NA       NA               NA     NA          NA          \n",
       "6 NA         NA       NA               NA     NA          NA          "
      ]
     },
     "metadata": {},
     "output_type": "display_data"
    }
   ],
   "source": [
    "head(loan)"
   ]
  },
  {
   "cell_type": "code",
   "execution_count": 7,
   "metadata": {},
   "outputs": [
    {
     "data": {
      "text/html": [
       "<ol class=list-inline>\n",
       "\t<li>'id'</li>\n",
       "\t<li>'member_id'</li>\n",
       "\t<li>'loan_amnt'</li>\n",
       "\t<li>'funded_amnt'</li>\n",
       "\t<li>'funded_amnt_inv'</li>\n",
       "\t<li>'term'</li>\n",
       "\t<li>'int_rate'</li>\n",
       "\t<li>'installment'</li>\n",
       "\t<li>'grade'</li>\n",
       "\t<li>'sub_grade'</li>\n",
       "\t<li>'emp_title'</li>\n",
       "\t<li>'emp_length'</li>\n",
       "\t<li>'home_ownership'</li>\n",
       "\t<li>'annual_inc'</li>\n",
       "\t<li>'verification_status'</li>\n",
       "\t<li>'issue_d'</li>\n",
       "\t<li>'loan_status'</li>\n",
       "\t<li>'pymnt_plan'</li>\n",
       "\t<li>'url'</li>\n",
       "\t<li>'desc'</li>\n",
       "\t<li>'purpose'</li>\n",
       "\t<li>'title'</li>\n",
       "\t<li>'zip_code'</li>\n",
       "\t<li>'addr_state'</li>\n",
       "\t<li>'dti'</li>\n",
       "\t<li>'delinq_2yrs'</li>\n",
       "\t<li>'earliest_cr_line'</li>\n",
       "\t<li>'inq_last_6mths'</li>\n",
       "\t<li>'mths_since_last_delinq'</li>\n",
       "\t<li>'mths_since_last_record'</li>\n",
       "\t<li>'open_acc'</li>\n",
       "\t<li>'pub_rec'</li>\n",
       "\t<li>'revol_bal'</li>\n",
       "\t<li>'revol_util'</li>\n",
       "\t<li>'total_acc'</li>\n",
       "\t<li>'initial_list_status'</li>\n",
       "\t<li>'out_prncp'</li>\n",
       "\t<li>'out_prncp_inv'</li>\n",
       "\t<li>'total_pymnt'</li>\n",
       "\t<li>'total_pymnt_inv'</li>\n",
       "\t<li>'total_rec_prncp'</li>\n",
       "\t<li>'total_rec_int'</li>\n",
       "\t<li>'total_rec_late_fee'</li>\n",
       "\t<li>'recoveries'</li>\n",
       "\t<li>'collection_recovery_fee'</li>\n",
       "\t<li>'last_pymnt_d'</li>\n",
       "\t<li>'last_pymnt_amnt'</li>\n",
       "\t<li>'next_pymnt_d'</li>\n",
       "\t<li>'last_credit_pull_d'</li>\n",
       "\t<li>'collections_12_mths_ex_med'</li>\n",
       "\t<li>'mths_since_last_major_derog'</li>\n",
       "\t<li>'policy_code'</li>\n",
       "\t<li>'application_type'</li>\n",
       "\t<li>'annual_inc_joint'</li>\n",
       "\t<li>'dti_joint'</li>\n",
       "\t<li>'verification_status_joint'</li>\n",
       "\t<li>'acc_now_delinq'</li>\n",
       "\t<li>'tot_coll_amt'</li>\n",
       "\t<li>'tot_cur_bal'</li>\n",
       "\t<li>'open_acc_6m'</li>\n",
       "\t<li>'open_il_6m'</li>\n",
       "\t<li>'open_il_12m'</li>\n",
       "\t<li>'open_il_24m'</li>\n",
       "\t<li>'mths_since_rcnt_il'</li>\n",
       "\t<li>'total_bal_il'</li>\n",
       "\t<li>'il_util'</li>\n",
       "\t<li>'open_rv_12m'</li>\n",
       "\t<li>'open_rv_24m'</li>\n",
       "\t<li>'max_bal_bc'</li>\n",
       "\t<li>'all_util'</li>\n",
       "\t<li>'total_rev_hi_lim'</li>\n",
       "\t<li>'inq_fi'</li>\n",
       "\t<li>'total_cu_tl'</li>\n",
       "\t<li>'inq_last_12m'</li>\n",
       "</ol>\n"
      ],
      "text/latex": [
       "\\begin{enumerate*}\n",
       "\\item 'id'\n",
       "\\item 'member\\_id'\n",
       "\\item 'loan\\_amnt'\n",
       "\\item 'funded\\_amnt'\n",
       "\\item 'funded\\_amnt\\_inv'\n",
       "\\item 'term'\n",
       "\\item 'int\\_rate'\n",
       "\\item 'installment'\n",
       "\\item 'grade'\n",
       "\\item 'sub\\_grade'\n",
       "\\item 'emp\\_title'\n",
       "\\item 'emp\\_length'\n",
       "\\item 'home\\_ownership'\n",
       "\\item 'annual\\_inc'\n",
       "\\item 'verification\\_status'\n",
       "\\item 'issue\\_d'\n",
       "\\item 'loan\\_status'\n",
       "\\item 'pymnt\\_plan'\n",
       "\\item 'url'\n",
       "\\item 'desc'\n",
       "\\item 'purpose'\n",
       "\\item 'title'\n",
       "\\item 'zip\\_code'\n",
       "\\item 'addr\\_state'\n",
       "\\item 'dti'\n",
       "\\item 'delinq\\_2yrs'\n",
       "\\item 'earliest\\_cr\\_line'\n",
       "\\item 'inq\\_last\\_6mths'\n",
       "\\item 'mths\\_since\\_last\\_delinq'\n",
       "\\item 'mths\\_since\\_last\\_record'\n",
       "\\item 'open\\_acc'\n",
       "\\item 'pub\\_rec'\n",
       "\\item 'revol\\_bal'\n",
       "\\item 'revol\\_util'\n",
       "\\item 'total\\_acc'\n",
       "\\item 'initial\\_list\\_status'\n",
       "\\item 'out\\_prncp'\n",
       "\\item 'out\\_prncp\\_inv'\n",
       "\\item 'total\\_pymnt'\n",
       "\\item 'total\\_pymnt\\_inv'\n",
       "\\item 'total\\_rec\\_prncp'\n",
       "\\item 'total\\_rec\\_int'\n",
       "\\item 'total\\_rec\\_late\\_fee'\n",
       "\\item 'recoveries'\n",
       "\\item 'collection\\_recovery\\_fee'\n",
       "\\item 'last\\_pymnt\\_d'\n",
       "\\item 'last\\_pymnt\\_amnt'\n",
       "\\item 'next\\_pymnt\\_d'\n",
       "\\item 'last\\_credit\\_pull\\_d'\n",
       "\\item 'collections\\_12\\_mths\\_ex\\_med'\n",
       "\\item 'mths\\_since\\_last\\_major\\_derog'\n",
       "\\item 'policy\\_code'\n",
       "\\item 'application\\_type'\n",
       "\\item 'annual\\_inc\\_joint'\n",
       "\\item 'dti\\_joint'\n",
       "\\item 'verification\\_status\\_joint'\n",
       "\\item 'acc\\_now\\_delinq'\n",
       "\\item 'tot\\_coll\\_amt'\n",
       "\\item 'tot\\_cur\\_bal'\n",
       "\\item 'open\\_acc\\_6m'\n",
       "\\item 'open\\_il\\_6m'\n",
       "\\item 'open\\_il\\_12m'\n",
       "\\item 'open\\_il\\_24m'\n",
       "\\item 'mths\\_since\\_rcnt\\_il'\n",
       "\\item 'total\\_bal\\_il'\n",
       "\\item 'il\\_util'\n",
       "\\item 'open\\_rv\\_12m'\n",
       "\\item 'open\\_rv\\_24m'\n",
       "\\item 'max\\_bal\\_bc'\n",
       "\\item 'all\\_util'\n",
       "\\item 'total\\_rev\\_hi\\_lim'\n",
       "\\item 'inq\\_fi'\n",
       "\\item 'total\\_cu\\_tl'\n",
       "\\item 'inq\\_last\\_12m'\n",
       "\\end{enumerate*}\n"
      ],
      "text/markdown": [
       "1. 'id'\n",
       "2. 'member_id'\n",
       "3. 'loan_amnt'\n",
       "4. 'funded_amnt'\n",
       "5. 'funded_amnt_inv'\n",
       "6. 'term'\n",
       "7. 'int_rate'\n",
       "8. 'installment'\n",
       "9. 'grade'\n",
       "10. 'sub_grade'\n",
       "11. 'emp_title'\n",
       "12. 'emp_length'\n",
       "13. 'home_ownership'\n",
       "14. 'annual_inc'\n",
       "15. 'verification_status'\n",
       "16. 'issue_d'\n",
       "17. 'loan_status'\n",
       "18. 'pymnt_plan'\n",
       "19. 'url'\n",
       "20. 'desc'\n",
       "21. 'purpose'\n",
       "22. 'title'\n",
       "23. 'zip_code'\n",
       "24. 'addr_state'\n",
       "25. 'dti'\n",
       "26. 'delinq_2yrs'\n",
       "27. 'earliest_cr_line'\n",
       "28. 'inq_last_6mths'\n",
       "29. 'mths_since_last_delinq'\n",
       "30. 'mths_since_last_record'\n",
       "31. 'open_acc'\n",
       "32. 'pub_rec'\n",
       "33. 'revol_bal'\n",
       "34. 'revol_util'\n",
       "35. 'total_acc'\n",
       "36. 'initial_list_status'\n",
       "37. 'out_prncp'\n",
       "38. 'out_prncp_inv'\n",
       "39. 'total_pymnt'\n",
       "40. 'total_pymnt_inv'\n",
       "41. 'total_rec_prncp'\n",
       "42. 'total_rec_int'\n",
       "43. 'total_rec_late_fee'\n",
       "44. 'recoveries'\n",
       "45. 'collection_recovery_fee'\n",
       "46. 'last_pymnt_d'\n",
       "47. 'last_pymnt_amnt'\n",
       "48. 'next_pymnt_d'\n",
       "49. 'last_credit_pull_d'\n",
       "50. 'collections_12_mths_ex_med'\n",
       "51. 'mths_since_last_major_derog'\n",
       "52. 'policy_code'\n",
       "53. 'application_type'\n",
       "54. 'annual_inc_joint'\n",
       "55. 'dti_joint'\n",
       "56. 'verification_status_joint'\n",
       "57. 'acc_now_delinq'\n",
       "58. 'tot_coll_amt'\n",
       "59. 'tot_cur_bal'\n",
       "60. 'open_acc_6m'\n",
       "61. 'open_il_6m'\n",
       "62. 'open_il_12m'\n",
       "63. 'open_il_24m'\n",
       "64. 'mths_since_rcnt_il'\n",
       "65. 'total_bal_il'\n",
       "66. 'il_util'\n",
       "67. 'open_rv_12m'\n",
       "68. 'open_rv_24m'\n",
       "69. 'max_bal_bc'\n",
       "70. 'all_util'\n",
       "71. 'total_rev_hi_lim'\n",
       "72. 'inq_fi'\n",
       "73. 'total_cu_tl'\n",
       "74. 'inq_last_12m'\n",
       "\n",
       "\n"
      ],
      "text/plain": [
       " [1] \"id\"                          \"member_id\"                  \n",
       " [3] \"loan_amnt\"                   \"funded_amnt\"                \n",
       " [5] \"funded_amnt_inv\"             \"term\"                       \n",
       " [7] \"int_rate\"                    \"installment\"                \n",
       " [9] \"grade\"                       \"sub_grade\"                  \n",
       "[11] \"emp_title\"                   \"emp_length\"                 \n",
       "[13] \"home_ownership\"              \"annual_inc\"                 \n",
       "[15] \"verification_status\"         \"issue_d\"                    \n",
       "[17] \"loan_status\"                 \"pymnt_plan\"                 \n",
       "[19] \"url\"                         \"desc\"                       \n",
       "[21] \"purpose\"                     \"title\"                      \n",
       "[23] \"zip_code\"                    \"addr_state\"                 \n",
       "[25] \"dti\"                         \"delinq_2yrs\"                \n",
       "[27] \"earliest_cr_line\"            \"inq_last_6mths\"             \n",
       "[29] \"mths_since_last_delinq\"      \"mths_since_last_record\"     \n",
       "[31] \"open_acc\"                    \"pub_rec\"                    \n",
       "[33] \"revol_bal\"                   \"revol_util\"                 \n",
       "[35] \"total_acc\"                   \"initial_list_status\"        \n",
       "[37] \"out_prncp\"                   \"out_prncp_inv\"              \n",
       "[39] \"total_pymnt\"                 \"total_pymnt_inv\"            \n",
       "[41] \"total_rec_prncp\"             \"total_rec_int\"              \n",
       "[43] \"total_rec_late_fee\"          \"recoveries\"                 \n",
       "[45] \"collection_recovery_fee\"     \"last_pymnt_d\"               \n",
       "[47] \"last_pymnt_amnt\"             \"next_pymnt_d\"               \n",
       "[49] \"last_credit_pull_d\"          \"collections_12_mths_ex_med\" \n",
       "[51] \"mths_since_last_major_derog\" \"policy_code\"                \n",
       "[53] \"application_type\"            \"annual_inc_joint\"           \n",
       "[55] \"dti_joint\"                   \"verification_status_joint\"  \n",
       "[57] \"acc_now_delinq\"              \"tot_coll_amt\"               \n",
       "[59] \"tot_cur_bal\"                 \"open_acc_6m\"                \n",
       "[61] \"open_il_6m\"                  \"open_il_12m\"                \n",
       "[63] \"open_il_24m\"                 \"mths_since_rcnt_il\"         \n",
       "[65] \"total_bal_il\"                \"il_util\"                    \n",
       "[67] \"open_rv_12m\"                 \"open_rv_24m\"                \n",
       "[69] \"max_bal_bc\"                  \"all_util\"                   \n",
       "[71] \"total_rev_hi_lim\"            \"inq_fi\"                     \n",
       "[73] \"total_cu_tl\"                 \"inq_last_12m\"               "
      ]
     },
     "metadata": {},
     "output_type": "display_data"
    }
   ],
   "source": [
    "colnames(loan)"
   ]
  },
  {
   "cell_type": "code",
   "execution_count": 8,
   "metadata": {},
   "outputs": [
    {
     "data": {
      "text/html": [
       "887379"
      ],
      "text/latex": [
       "887379"
      ],
      "text/markdown": [
       "887379"
      ],
      "text/plain": [
       "[1] 887379"
      ]
     },
     "metadata": {},
     "output_type": "display_data"
    }
   ],
   "source": [
    "length(unique(loan$id))#check each records"
   ]
  },
  {
   "cell_type": "code",
   "execution_count": 11,
   "metadata": {},
   "outputs": [
    {
     "data": {
      "text/html": [
       "887379"
      ],
      "text/latex": [
       "887379"
      ],
      "text/markdown": [
       "887379"
      ],
      "text/plain": [
       "[1] 887379"
      ]
     },
     "metadata": {},
     "output_type": "display_data"
    }
   ],
   "source": [
    "length(unique(loan$member_id))"
   ]
  },
  {
   "cell_type": "code",
   "execution_count": 13,
   "metadata": {},
   "outputs": [
    {
     "data": {
      "text/html": [
       "4"
      ],
      "text/latex": [
       "4"
      ],
      "text/markdown": [
       "4"
      ],
      "text/plain": [
       "[1] 4"
      ]
     },
     "metadata": {},
     "output_type": "display_data"
    }
   ],
   "source": [
    "length(which(is.na(loan$annual_inc)))"
   ]
  },
  {
   "cell_type": "markdown",
   "metadata": {},
   "source": [
    "# Missing value"
   ]
  },
  {
   "cell_type": "code",
   "execution_count": 15,
   "metadata": {},
   "outputs": [],
   "source": [
    "num.NA <- sort(sapply(loan, function(x) {sum(is.na(x))}), decreasing=TRUE)#get the sorted number of NA"
   ]
  },
  {
   "cell_type": "code",
   "execution_count": 18,
   "metadata": {},
   "outputs": [
    {
     "data": {
      "text/html": [
       "0.243400067060532"
      ],
      "text/latex": [
       "0.243400067060532"
      ],
      "text/markdown": [
       "0.243400067060532"
      ],
      "text/plain": [
       "[1] 0.2434001"
      ]
     },
     "metadata": {},
     "output_type": "display_data"
    }
   ],
   "source": [
    "sum(is.na(loan))/(ncol(loan)* nrow(loan))"
   ]
  },
  {
   "cell_type": "code",
   "execution_count": 21,
   "metadata": {},
   "outputs": [],
   "source": [
    "remain.col <- names(num.NA)[which(num.NA <= 0.8*nrow(loan))]"
   ]
  },
  {
   "cell_type": "code",
   "execution_count": 22,
   "metadata": {},
   "outputs": [],
   "source": [
    "loan <- loan[,remain.col]"
   ]
  },
  {
   "cell_type": "markdown",
   "metadata": {},
   "source": [
    "# Explore features"
   ]
  },
  {
   "cell_type": "markdown",
   "metadata": {},
   "source": [
    "numeric variables"
   ]
  },
  {
   "cell_type": "code",
   "execution_count": 23,
   "metadata": {},
   "outputs": [
    {
     "data": {
      "text/html": [
       "13.246739679438"
      ],
      "text/latex": [
       "13.246739679438"
      ],
      "text/markdown": [
       "13.246739679438"
      ],
      "text/plain": [
       "[1] 13.24674"
      ]
     },
     "metadata": {},
     "output_type": "display_data"
    }
   ],
   "source": [
    "mean(loan$int_rate)"
   ]
  },
  {
   "cell_type": "code",
   "execution_count": 24,
   "metadata": {},
   "outputs": [
    {
     "data": {
      "text/html": [
       "4.3818674147124"
      ],
      "text/latex": [
       "4.3818674147124"
      ],
      "text/markdown": [
       "4.3818674147124"
      ],
      "text/plain": [
       "[1] 4.381867"
      ]
     },
     "metadata": {},
     "output_type": "display_data"
    }
   ],
   "source": [
    "sd(loan$int_rate)"
   ]
  },
  {
   "cell_type": "code",
   "execution_count": 25,
   "metadata": {},
   "outputs": [
    {
     "data": {
      "text/html": [
       "12.99"
      ],
      "text/latex": [
       "12.99"
      ],
      "text/markdown": [
       "12.99"
      ],
      "text/plain": [
       "[1] 12.99"
      ]
     },
     "metadata": {},
     "output_type": "display_data"
    }
   ],
   "source": [
    "median(loan$int_rate)"
   ]
  },
  {
   "cell_type": "code",
   "execution_count": 26,
   "metadata": {},
   "outputs": [
    {
     "data": {
      "text/html": [
       "<dl class=dl-horizontal>\n",
       "\t<dt>10%</dt>\n",
       "\t\t<dd>7.69</dd>\n",
       "\t<dt>25%</dt>\n",
       "\t\t<dd>9.99</dd>\n",
       "\t<dt>50%</dt>\n",
       "\t\t<dd>12.99</dd>\n",
       "\t<dt>75%</dt>\n",
       "\t\t<dd>16.2</dd>\n",
       "\t<dt>90%</dt>\n",
       "\t\t<dd>18.99</dd>\n",
       "</dl>\n"
      ],
      "text/latex": [
       "\\begin{description*}\n",
       "\\item[10\\textbackslash{}\\%] 7.69\n",
       "\\item[25\\textbackslash{}\\%] 9.99\n",
       "\\item[50\\textbackslash{}\\%] 12.99\n",
       "\\item[75\\textbackslash{}\\%] 16.2\n",
       "\\item[90\\textbackslash{}\\%] 18.99\n",
       "\\end{description*}\n"
      ],
      "text/markdown": [
       "10%\n",
       ":   7.6925%\n",
       ":   9.9950%\n",
       ":   12.9975%\n",
       ":   16.290%\n",
       ":   18.99\n",
       "\n"
      ],
      "text/plain": [
       "  10%   25%   50%   75%   90% \n",
       " 7.69  9.99 12.99 16.20 18.99 "
      ]
     },
     "metadata": {},
     "output_type": "display_data"
    }
   ],
   "source": [
    "quantile(loan$int_rate, c(0.1, 0.25, 0.5, 0.75, 0.9))"
   ]
  },
  {
   "cell_type": "code",
   "execution_count": 27,
   "metadata": {},
   "outputs": [
    {
     "data": {
      "image/png": "[encoded data removed]",
      "text/plain": [
       "Plot with title \"density.default(x = loan$int_rate)\""
      ]
     },
     "metadata": {},
     "output_type": "display_data"
    }
   ],
   "source": [
    "plot(density(loan$int_rate))"
   ]
  },
  {
   "cell_type": "code",
   "execution_count": 28,
   "metadata": {},
   "outputs": [
    {
     "data": {
      "image/png": "[encoded data removed]",
      "text/plain": [
       "plot without title"
      ]
     },
     "metadata": {},
     "output_type": "display_data"
    }
   ],
   "source": [
    "boxplot(loan$int_rate)"
   ]
  },
  {
   "cell_type": "code",
   "execution_count": 29,
   "metadata": {},
   "outputs": [
    {
     "data": {
      "image/png": "[encoded data removed]",
      "text/plain": [
       "plot without title"
      ]
     },
     "metadata": {},
     "output_type": "display_data"
    }
   ],
   "source": [
    "boxplot(int_rate ~ grade, data = loan)"
   ]
  },
  {
   "cell_type": "markdown",
   "metadata": {},
   "source": [
    "Categorical variables"
   ]
  },
  {
   "cell_type": "code",
   "execution_count": 33,
   "metadata": {},
   "outputs": [
    {
     "data": {
      "text/plain": [
       "\n",
       "Does not meet the credit policy. Status:Charged Off \n",
       "                                                761 \n",
       "                                            Default \n",
       "                                               1219 \n",
       " Does not meet the credit policy. Status:Fully Paid \n",
       "                                               1988 \n",
       "                                  Late (16-30 days) \n",
       "                                               2357 \n",
       "                                    In Grace Period \n",
       "                                               6253 \n",
       "                                             Issued \n",
       "                                               8460 \n",
       "                                 Late (31-120 days) \n",
       "                                              11591 \n",
       "                                        Charged Off \n",
       "                                              45248 \n",
       "                                         Fully Paid \n",
       "                                             207723 \n",
       "                                            Current \n",
       "                                             601779 "
      ]
     },
     "metadata": {},
     "output_type": "display_data"
    }
   ],
   "source": [
    "sort(table(loan$loan_status))"
   ]
  },
  {
   "cell_type": "code",
   "execution_count": 35,
   "metadata": {},
   "outputs": [
    {
     "data": {
      "text/plain": [
       "\n",
       "                                        Charged Off \n",
       "                                               0.05 \n",
       "                                            Current \n",
       "                                               0.68 \n",
       "                                            Default \n",
       "                                               0.00 \n",
       "Does not meet the credit policy. Status:Charged Off \n",
       "                                               0.00 \n",
       " Does not meet the credit policy. Status:Fully Paid \n",
       "                                               0.00 \n",
       "                                         Fully Paid \n",
       "                                               0.23 \n",
       "                                    In Grace Period \n",
       "                                               0.01 \n",
       "                                             Issued \n",
       "                                               0.01 \n",
       "                                  Late (16-30 days) \n",
       "                                               0.00 \n",
       "                                 Late (31-120 days) \n",
       "                                               0.01 "
      ]
     },
     "metadata": {},
     "output_type": "display_data"
    }
   ],
   "source": [
    "round(table(loan$loan_status)/dim(loan)[1],2)"
   ]
  },
  {
   "cell_type": "code",
   "execution_count": 36,
   "metadata": {},
   "outputs": [
    {
     "data": {
      "image/png": "[encoded data removed]",
      "text/plain": [
       "plot without title"
      ]
     },
     "metadata": {},
     "output_type": "display_data"
    }
   ],
   "source": [
    "barplot(sort(table(loan$loan_status)))"
   ]
  },
  {
   "cell_type": "code",
   "execution_count": 38,
   "metadata": {},
   "outputs": [],
   "source": [
    "loan$loan_status_1 <- gsub(\"Does not meet the credit policy. Status:\",\"\",loan$loan_status)#remove certain string from loan_status"
   ]
  },
  {
   "cell_type": "code",
   "execution_count": 39,
   "metadata": {},
   "outputs": [
    {
     "data": {
      "text/plain": [
       "\n",
       "       Charged Off            Current            Default         Fully Paid \n",
       "             46009             601779               1219             209711 \n",
       "   In Grace Period             Issued  Late (16-30 days) Late (31-120 days) \n",
       "              6253               8460               2357              11591 "
      ]
     },
     "metadata": {},
     "output_type": "display_data"
    }
   ],
   "source": [
    "table(loan$loan_status_1)"
   ]
  },
  {
   "cell_type": "code",
   "execution_count": 40,
   "metadata": {},
   "outputs": [],
   "source": [
    "loan$loan_status_2 <- with(loan, ifelse(loan_status_1 %in% c(\"Current\",\"Fully Paid\",\"Issued\"),1,0))"
   ]
  },
  {
   "cell_type": "code",
   "execution_count": 41,
   "metadata": {},
   "outputs": [
    {
     "data": {
      "text/plain": [
       "\n",
       "     0      1 \n",
       " 67429 819950 "
      ]
     },
     "metadata": {},
     "output_type": "display_data"
    }
   ],
   "source": [
    "table(loan$loan_status_2)"
   ]
  },
  {
   "cell_type": "markdown",
   "metadata": {},
   "source": [
    "numeric variable with numerical repsonse, interest rate"
   ]
  },
  {
   "cell_type": "code",
   "execution_count": 42,
   "metadata": {},
   "outputs": [
    {
     "name": "stderr",
     "output_type": "stream",
     "text": [
      "Warning message:\n",
      "\"package 'corrplot' was built under R version 3.4.3\"corrplot 0.84 loaded\n"
     ]
    }
   ],
   "source": [
    "library(corrplot)\n",
    "correlations <- cor(loan[, c('int_rate', 'total_acc', 'acc_now_delinq', 'annual_inc',\n",
    "                             'dti', 'loan_amnt')]) "
   ]
  },
  {
   "cell_type": "code",
   "execution_count": 43,
   "metadata": {},
   "outputs": [],
   "source": [
    "correlations <- cor(loan[, c('int_rate', 'total_acc', 'acc_now_delinq', 'annual_inc',\n",
    "                             'dti', 'loan_amnt')], \n",
    "                    use = \"pairwise.complete.obs\")"
   ]
  },
  {
   "cell_type": "code",
   "execution_count": 44,
   "metadata": {},
   "outputs": [
    {
     "data": {
      "image/png": "[encoded data removed]",
      "text/plain": [
       "Plot with title \"\""
      ]
     },
     "metadata": {},
     "output_type": "display_data"
    }
   ],
   "source": [
    "corrplot(correlations, method = \"square\", tl.cex = 1, type = 'lower')"
   ]
  },
  {
   "cell_type": "markdown",
   "metadata": {},
   "source": [
    "Numeric variable with categorical response"
   ]
  },
  {
   "cell_type": "code",
   "execution_count": 45,
   "metadata": {},
   "outputs": [
    {
     "data": {
      "image/png": "[encoded data removed]",
      "text/plain": [
       "plot without title"
      ]
     },
     "metadata": {},
     "output_type": "display_data"
    }
   ],
   "source": [
    "boxplot(subset(loan, term == ' 36 months')$int_rate,\n",
    "        subset(loan, term == ' 60 months')$int_rate)"
   ]
  },
  {
   "cell_type": "code",
   "execution_count": 46,
   "metadata": {},
   "outputs": [
    {
     "data": {
      "image/png": "[encoded data removed]",
      "text/plain": [
       "plot without title"
      ]
     },
     "metadata": {},
     "output_type": "display_data"
    }
   ],
   "source": [
    "boxplot(int_rate ~ purpose, data = loan)"
   ]
  },
  {
   "cell_type": "markdown",
   "metadata": {},
   "source": [
    "Categorical variable with categorical response"
   ]
  },
  {
   "cell_type": "code",
   "execution_count": 48,
   "metadata": {},
   "outputs": [
    {
     "data": {
      "text/plain": [
       "                    \n",
       "                        car credit_card debt_consolidation educational\n",
       "  Charged Off           461        7895              27891          88\n",
       "  Current              4937      149835             356239           1\n",
       "  Default                10         233                790           0\n",
       "  Fully Paid           3249       42521             121572         334\n",
       "  In Grace Period        40        1150               3998           0\n",
       "  Issued                 81        2071               4796           0\n",
       "  Late (16-30 days)      15         381               1510           0\n",
       "  Late (31-120 days)     70        2096               7419           0\n",
       "                    \n",
       "                     home_improvement  house major_purchase medical moving\n",
       "  Charged Off                    2340    297            897     591    440\n",
       "  Current                       34980   1854          10308    5324   3121\n",
       "  Default                          47      7             14      15     11\n",
       "  Fully Paid                    12803   1399           5491    2321   1634\n",
       "  In Grace Period                 367     37            125      56     43\n",
       "  Issued                          493     37            184      91     52\n",
       "  Late (16-30 days)               137     15             51      17     23\n",
       "  Late (31-120 days)              662     61            207     125     90\n",
       "                    \n",
       "                      other renewable_energy small_business vacation wedding\n",
       "  Charged Off          3057               55           1443      276     278\n",
       "  Current             26607              282           5020     2946     325\n",
       "  Default                65                0             19        8       0\n",
       "  Fully Paid          11644              215           3464     1331    1733\n",
       "  In Grace Period       310                8             79       37       3\n",
       "  Issued                480                6            112       57       0\n",
       "  Late (16-30 days)     136                0             50       22       0\n",
       "  Late (31-120 days)    595                9            190       59       8"
      ]
     },
     "metadata": {},
     "output_type": "display_data"
    }
   ],
   "source": [
    "table(loan$loan_status_1, loan$purpose)"
   ]
  },
  {
   "cell_type": "markdown",
   "metadata": {},
   "source": [
    "Numeric variable with categorical response"
   ]
  },
  {
   "cell_type": "code",
   "execution_count": 52,
   "metadata": {},
   "outputs": [
    {
     "data": {
      "image/png": "[encoded data removed]",
      "text/plain": [
       "plot without title"
      ]
     },
     "metadata": {},
     "output_type": "display_data"
    }
   ],
   "source": [
    "boxplot(log(subset(loan, loan_status_2 == 0)$annual_inc + 1),\n",
    "        log(subset(loan, loan_status_2 == 1)$annual_inc + 1))"
   ]
  },
  {
   "cell_type": "code",
   "execution_count": 79,
   "metadata": {},
   "outputs": [
    {
     "data": {
      "image/png": "[encoded data removed]",
      "text/plain": [
       "Plot with title \"density.default(x = log(1 + annual_inc), na.rm = TRUE)\""
      ]
     },
     "metadata": {},
     "output_type": "display_data"
    }
   ],
   "source": [
    "with(subset(loan, loan_status_2 == 1), plot(density(log(1 + annual_inc),na.rm = TRUE)))\n",
    "with(subset(loan, loan_status_2 == 0), lines(density(log(1 + annual_inc),na.rm = TRUE), col = 'red'))"
   ]
  },
  {
   "cell_type": "code",
   "execution_count": null,
   "metadata": {},
   "outputs": [],
   "source": []
  }
 ],
 "metadata": {
  "kernelspec": {
   "display_name": "R",
   "language": "R",
   "name": "ir"
  },
  "language_info": {
   "codemirror_mode": "r",
   "file_extension": ".r",
   "mimetype": "text/x-r-source",
   "name": "R",
   "pygments_lexer": "r",
   "version": "3.4.2"
  }
 },
 "nbformat": 4,
 "nbformat_minor": 2
}
