{
 "cells": [
  {
   "cell_type": "code",
   "execution_count": 1,
   "metadata": {},
   "outputs": [],
   "source": [
    "loan <- read.csv(\"loan.csv\", stringsAsFactors = FALSE)\n",
    "loanT <- loan"
   ]
  },
  {
   "cell_type": "code",
   "execution_count": 2,
   "metadata": {},
   "outputs": [],
   "source": [
    "num.NA <- sort(sapply(loan, function(x) {sum(is.na(x))}), decreasing=TRUE)"
   ]
  },
  {
   "cell_type": "code",
   "execution_count": 3,
   "metadata": {},
   "outputs": [],
   "source": [
    "remain.col <- names(num.NA)[which(num.NA <= 0.8 * dim(loan)[1])]"
   ]
  },
  {
   "cell_type": "code",
   "execution_count": 4,
   "metadata": {},
   "outputs": [
    {
     "data": {
      "text/plain": [
       "\n",
       "\tWelch Two Sample t-test\n",
       "\n",
       "data:  int_rate by term\n",
       "t = -431.12, df = 467040, p-value < 2.2e-16\n",
       "alternative hypothesis: true difference in means is not equal to 0\n",
       "95 percent confidence interval:\n",
       " -4.111525 -4.074310\n",
       "sample estimates:\n",
       "mean in group  36 months mean in group  60 months \n",
       "                12.01868                 16.11160 \n"
      ]
     },
     "metadata": {},
     "output_type": "display_data"
    }
   ],
   "source": [
    "t.test(int_rate ~ term, data = loan)"
   ]
  },
  {
   "cell_type": "code",
   "execution_count": 5,
   "metadata": {},
   "outputs": [],
   "source": [
    "# How to calculate the stats by hand\n",
    "short_term <- subset(loan, term == ' 36 months')\n",
    "long_term <- subset(loan, term == ' 60 months')"
   ]
  },
  {
   "cell_type": "code",
   "execution_count": 6,
   "metadata": {},
   "outputs": [],
   "source": [
    "stderr <- sqrt(var(short_term$int_rate) / dim(short_term)[1] +\n",
    "                 var(long_term$int_rate) / dim(long_term)[1])\n",
    "t.score <- (mean(short_term$int_rate) - mean(long_term$int_rate)) / stderr\n",
    "p.val <- 2 * pt(t.score, df = 467040)"
   ]
  },
  {
   "cell_type": "code",
   "execution_count": 7,
   "metadata": {},
   "outputs": [
    {
     "data": {
      "text/plain": [
       "            grade\n",
       "term            A    B    C    D    E    F    G\n",
       "   36 months 0.23 0.34 0.26 0.12 0.04 0.01 0.00\n",
       "   60 months 0.02 0.16 0.31 0.24 0.18 0.07 0.02"
      ]
     },
     "metadata": {},
     "output_type": "display_data"
    },
    {
     "data": {
      "text/plain": [
       "\n",
       "\tPearson's Chi-squared test\n",
       "\n",
       "data:  grade and term\n",
       "X-squared = 176070, df = 6, p-value < 2.2e-16\n"
      ]
     },
     "metadata": {},
     "output_type": "display_data"
    },
    {
     "data": {
      "text/html": [
       "0"
      ],
      "text/latex": [
       "0"
      ],
      "text/markdown": [
       "0"
      ],
      "text/plain": [
       "[1] 0"
      ]
     },
     "metadata": {},
     "output_type": "display_data"
    }
   ],
   "source": [
    "# understand chi-square test\n",
    "# Check if grade and term are independent, what's null hypo and alternative hypo here?\n",
    "round(with(loan, table(term, grade)) / as.numeric(table(loan$term)), 2)\n",
    "with(loan, chisq.test(grade, term))\n",
    "# p value\n",
    "1 - pchisq(176070, df=6)"
   ]
  },
  {
   "cell_type": "code",
   "execution_count": 8,
   "metadata": {},
   "outputs": [
    {
     "data": {
      "text/html": [
       "<dl class=dl-horizontal>\n",
       "\t<dt> 36 months</dt>\n",
       "\t\t<dd>621125</dd>\n",
       "\t<dt> 60 months</dt>\n",
       "\t\t<dd>266254</dd>\n",
       "</dl>\n"
      ],
      "text/latex": [
       "\\begin{description*}\n",
       "\\item[ 36 months] 621125\n",
       "\\item[ 60 months] 266254\n",
       "\\end{description*}\n"
      ],
      "text/markdown": [
       " 36 months\n",
       ":   621125 60 months\n",
       ":   266254\n",
       "\n"
      ],
      "text/plain": [
       " 36 months  60 months \n",
       "    621125     266254 "
      ]
     },
     "metadata": {},
     "output_type": "display_data"
    },
    {
     "data": {
      "text/html": [
       "<dl class=dl-horizontal>\n",
       "\t<dt>A</dt>\n",
       "\t\t<dd>148202</dd>\n",
       "\t<dt>B</dt>\n",
       "\t\t<dd>254535</dd>\n",
       "\t<dt>C</dt>\n",
       "\t\t<dd>245860</dd>\n",
       "\t<dt>D</dt>\n",
       "\t\t<dd>139542</dd>\n",
       "\t<dt>E</dt>\n",
       "\t\t<dd>70705</dd>\n",
       "\t<dt>F</dt>\n",
       "\t\t<dd>23046</dd>\n",
       "\t<dt>G</dt>\n",
       "\t\t<dd>5489</dd>\n",
       "</dl>\n"
      ],
      "text/latex": [
       "\\begin{description*}\n",
       "\\item[A] 148202\n",
       "\\item[B] 254535\n",
       "\\item[C] 245860\n",
       "\\item[D] 139542\n",
       "\\item[E] 70705\n",
       "\\item[F] 23046\n",
       "\\item[G] 5489\n",
       "\\end{description*}\n"
      ],
      "text/markdown": [
       "A\n",
       ":   148202B\n",
       ":   254535C\n",
       ":   245860D\n",
       ":   139542E\n",
       ":   70705F\n",
       ":   23046G\n",
       ":   5489\n",
       "\n"
      ],
      "text/plain": [
       "     A      B      C      D      E      F      G \n",
       "148202 254535 245860 139542  70705  23046   5489 "
      ]
     },
     "metadata": {},
     "output_type": "display_data"
    }
   ],
   "source": [
    "apply(with(loan, table(term, grade)), 1, sum) # row sum\n",
    "apply(with(loan, table(term, grade)), 2, sum) # col sum"
   ]
  },
  {
   "cell_type": "code",
   "execution_count": 9,
   "metadata": {},
   "outputs": [
    {
     "data": {
      "text/html": [
       "176074.847893005"
      ],
      "text/latex": [
       "176074.847893005"
      ],
      "text/markdown": [
       "176074.847893005"
      ],
      "text/plain": [
       "[1] 176074.8"
      ]
     },
     "metadata": {},
     "output_type": "display_data"
    }
   ],
   "source": [
    "observed <- with(loan, table(term, grade))\n",
    "num.grade <- apply(observed, 2, sum)\n",
    "perc.term <- apply(observed, 1, sum)/dim(loan)[1]\n",
    "expected <- rbind(num.grade * perc.term[1], num.grade * perc.term[2])\n",
    "rownames(expected) <- c('short term', 'long term')\n",
    "sum((observed - expected)^2/expected)"
   ]
  },
  {
   "cell_type": "markdown",
   "metadata": {},
   "source": [
    "# Feature engineering--For category variables"
   ]
  },
  {
   "cell_type": "code",
   "execution_count": 10,
   "metadata": {},
   "outputs": [
    {
     "data": {
      "image/png": "[encoded data removed]",
      "text/plain": [
       "plot without title"
      ]
     },
     "metadata": {},
     "output_type": "display_data"
    }
   ],
   "source": [
    "# (1) if level is not too many, we can use bar chart to check the response at different level first\n",
    "#     and then use t test to compare. Take home_ownership for example. \n",
    "boxplot(int_rate ~ home_ownership, loan)"
   ]
  },
  {
   "cell_type": "code",
   "execution_count": 11,
   "metadata": {},
   "outputs": [],
   "source": [
    "int_state <- by(loan, loan$addr_state, function(x) {\n",
    "  return(mean(x$int_rate))\n",
    "  })"
   ]
  },
  {
   "cell_type": "code",
   "execution_count": 17,
   "metadata": {},
   "outputs": [
    {
     "data": {
      "text/html": [
       "<dl class=dl-horizontal>\n",
       "\t<dt>0%</dt>\n",
       "\t\t<dd>5.32</dd>\n",
       "\t<dt>25%</dt>\n",
       "\t\t<dd>9.99</dd>\n",
       "\t<dt>50%</dt>\n",
       "\t\t<dd>12.99</dd>\n",
       "\t<dt>75%</dt>\n",
       "\t\t<dd>16.2</dd>\n",
       "\t<dt>100%</dt>\n",
       "\t\t<dd>28.99</dd>\n",
       "</dl>\n"
      ],
      "text/latex": [
       "\\begin{description*}\n",
       "\\item[0\\textbackslash{}\\%] 5.32\n",
       "\\item[25\\textbackslash{}\\%] 9.99\n",
       "\\item[50\\textbackslash{}\\%] 12.99\n",
       "\\item[75\\textbackslash{}\\%] 16.2\n",
       "\\item[100\\textbackslash{}\\%] 28.99\n",
       "\\end{description*}\n"
      ],
      "text/markdown": [
       "0%\n",
       ":   5.3225%\n",
       ":   9.9950%\n",
       ":   12.9975%\n",
       ":   16.2100%\n",
       ":   28.99\n",
       "\n"
      ],
      "text/plain": [
       "   0%   25%   50%   75%  100% \n",
       " 5.32  9.99 12.99 16.20 28.99 "
      ]
     },
     "metadata": {},
     "output_type": "display_data"
    }
   ],
   "source": [
    "quantile(loan$int_rate)"
   ]
  },
  {
   "cell_type": "code",
   "execution_count": 18,
   "metadata": {},
   "outputs": [],
   "source": [
    "#collapsing\n",
    "loan$state_mean_int <- \n",
    "  ifelse(loan$addr_state %in% names(int_state)[which(int_state <= 13.08099)],\n",
    "                              'low',\n",
    "                              ifelse(loan$addr_state %in% names(int_state)[which(int_state <= 13.28857)],\n",
    "                                     'medium', 'high'))"
   ]
  },
  {
   "cell_type": "code",
   "execution_count": 19,
   "metadata": {},
   "outputs": [
    {
     "data": {
      "text/plain": [
       "\n",
       "Call:\n",
       "lm(formula = int_rate ~ state_mean_int, data = loan)\n",
       "\n",
       "Residuals:\n",
       "    Min      1Q  Median      3Q     Max \n",
       "-8.0785 -3.2485 -0.2185  2.8915 16.0717 \n",
       "\n",
       "Coefficients:\n",
       "                      Estimate Std. Error t value Pr(>|t|)    \n",
       "(Intercept)          13.398476   0.007396 1811.57   <2e-16 ***\n",
       "state_mean_intlow    -0.480143   0.017357  -27.66   <2e-16 ***\n",
       "state_mean_intmedium -0.211998   0.009823  -21.58   <2e-16 ***\n",
       "---\n",
       "Signif. codes:  0 '***' 0.001 '**' 0.01 '*' 0.05 '.' 0.1 ' ' 1\n",
       "\n",
       "Residual standard error: 4.38 on 887376 degrees of freedom\n",
       "Multiple R-squared:  0.001064,\tAdjusted R-squared:  0.001062 \n",
       "F-statistic: 472.6 on 2 and 887376 DF,  p-value: < 2.2e-16\n"
      ]
     },
     "metadata": {},
     "output_type": "display_data"
    }
   ],
   "source": [
    "#check whether there is informatin reducement\n",
    "summary(lm(int_rate ~ state_mean_int, loan))"
   ]
  },
  {
   "cell_type": "code",
   "execution_count": 20,
   "metadata": {},
   "outputs": [],
   "source": [
    "#change different category level\n",
    "loan$state_mean_int <- ifelse(loan$addr_state %in% names(int_state)[which(int_state <= 13.08099)],\n",
    "                              'low',\n",
    "                              ifelse(loan$addr_state %in% names(int_state)[which(int_state <= 13.28857)],\n",
    "                              'low_medium', ifelse(loan$addr_state %in% names(int_state)[which(int_state <= 13.41240)], \n",
    "                                                   'medium_high', 'high')))"
   ]
  },
  {
   "cell_type": "code",
   "execution_count": 21,
   "metadata": {},
   "outputs": [
    {
     "data": {
      "text/plain": [
       "\n",
       "Call:\n",
       "lm(formula = int_rate ~ state_mean_int, data = loan)\n",
       "\n",
       "Residuals:\n",
       "    Min      1Q  Median      3Q     Max \n",
       "-8.1995 -3.3492 -0.1965  2.8608 16.0717 \n",
       "\n",
       "Coefficients:\n",
       "                          Estimate Std. Error t value Pr(>|t|)    \n",
       "(Intercept)               13.51948    0.01290 1048.39   <2e-16 ***\n",
       "state_mean_intlow         -0.60115    0.02032  -29.59   <2e-16 ***\n",
       "state_mean_intlow_medium  -0.33300    0.01442  -23.09   <2e-16 ***\n",
       "state_mean_intmedium_high -0.18031    0.01574  -11.45   <2e-16 ***\n",
       "---\n",
       "Signif. codes:  0 '***' 0.001 '**' 0.01 '*' 0.05 '.' 0.1 ' ' 1\n",
       "\n",
       "Residual standard error: 4.379 on 887375 degrees of freedom\n",
       "Multiple R-squared:  0.001212,\tAdjusted R-squared:  0.001208 \n",
       "F-statistic: 358.9 on 3 and 887375 DF,  p-value: < 2.2e-16\n"
      ]
     },
     "metadata": {},
     "output_type": "display_data"
    }
   ],
   "source": [
    "#check the regression r-square\n",
    "summary(lm(int_rate ~ state_mean_int, loan))"
   ]
  },
  {
   "cell_type": "code",
   "execution_count": 24,
   "metadata": {},
   "outputs": [
    {
     "data": {
      "text/plain": [
       "\n",
       "Call:\n",
       "lm(formula = int_rate ~ inq_last_6mths_cat, data = loan)\n",
       "\n",
       "Residuals:\n",
       "     Min       1Q   Median       3Q      Max \n",
       "-10.7818  -3.2668  -0.1468   2.7825  16.5532 \n",
       "\n",
       "Coefficients:\n",
       "                        Estimate Std. Error  t value Pr(>|t|)    \n",
       "(Intercept)            12.436781   0.006035 2060.855   <2e-16 ***\n",
       "inq_last_6mths_cat1     1.330681   0.010560  126.016   <2e-16 ***\n",
       "inq_last_6mths_cat10+   0.759839   0.505400    1.503    0.133    \n",
       "inq_last_6mths_cat2     2.341204   0.015135  154.683   <2e-16 ***\n",
       "inq_last_6mths_cat3     3.131148   0.022832  137.141   <2e-16 ***\n",
       "inq_last_6mths_cat3-10  3.665024   0.033830  108.337   <2e-16 ***\n",
       "---\n",
       "Signif. codes:  0 '***' 0.001 '**' 0.01 '*' 0.05 '.' 0.1 ' ' 1\n",
       "\n",
       "Residual standard error: 4.258 on 887344 degrees of freedom\n",
       "  (29 observations deleted due to missingness)\n",
       "Multiple R-squared:  0.05562,\tAdjusted R-squared:  0.05562 \n",
       "F-statistic: 1.045e+04 on 5 and 887344 DF,  p-value: < 2.2e-16\n"
      ]
     },
     "metadata": {},
     "output_type": "display_data"
    }
   ],
   "source": [
    "# Collapsing doesn't only happen to categorical variable, but also to numerical level\n",
    "loan$inq_last_6mths_cat <- with(loan, ifelse(inq_last_6mths <= 3, as.character(inq_last_6mths),\n",
    "                                           ifelse(inq_last_6mths <= 10, '3-10', '10+')))\n",
    "summary(lm(int_rate ~ inq_last_6mths_cat, loan))"
   ]
  },
  {
   "cell_type": "code",
   "execution_count": 23,
   "metadata": {},
   "outputs": [
    {
     "data": {
      "text/plain": [
       "\n",
       "Call:\n",
       "lm(formula = int_rate ~ inq_last_6mths, data = loan)\n",
       "\n",
       "Residuals:\n",
       "     Min       1Q   Median       3Q      Max \n",
       "-31.3546  -3.3829  -0.2511   2.7571  16.4371 \n",
       "\n",
       "Coefficients:\n",
       "                Estimate Std. Error t value Pr(>|t|)    \n",
       "(Intercept)    12.552878   0.005518  2274.9   <2e-16 ***\n",
       "inq_last_6mths  0.999086   0.004537   220.2   <2e-16 ***\n",
       "---\n",
       "Signif. codes:  0 '***' 0.001 '**' 0.01 '*' 0.05 '.' 0.1 ' ' 1\n",
       "\n",
       "Residual standard error: 4.267 on 887348 degrees of freedom\n",
       "  (29 observations deleted due to missingness)\n",
       "Multiple R-squared:  0.05182,\tAdjusted R-squared:  0.05182 \n",
       "F-statistic: 4.85e+04 on 1 and 887348 DF,  p-value: < 2.2e-16\n"
      ]
     },
     "metadata": {},
     "output_type": "display_data"
    }
   ],
   "source": [
    "summary(lm(int_rate ~ inq_last_6mths, loan))"
   ]
  },
  {
   "cell_type": "markdown",
   "metadata": {},
   "source": [
    "# how do we understand data"
   ]
  },
  {
   "cell_type": "code",
   "execution_count": 25,
   "metadata": {},
   "outputs": [
    {
     "data": {
      "text/html": [
       "<table>\n",
       "<thead><tr><th scope=col>issue_d</th><th scope=col>last_pymnt_d</th><th scope=col>next_pymnt_d</th></tr></thead>\n",
       "<tbody>\n",
       "\t<tr><td>Dec-2011</td><td>Jan-2015</td><td>        </td></tr>\n",
       "\t<tr><td>Dec-2011</td><td>Apr-2013</td><td>        </td></tr>\n",
       "\t<tr><td>Dec-2011</td><td>Jun-2014</td><td>        </td></tr>\n",
       "\t<tr><td>Dec-2011</td><td>Jan-2015</td><td>        </td></tr>\n",
       "\t<tr><td>Dec-2011</td><td>Jan-2016</td><td>Feb-2016</td></tr>\n",
       "\t<tr><td>Dec-2011</td><td>Jan-2015</td><td>        </td></tr>\n",
       "</tbody>\n",
       "</table>\n"
      ],
      "text/latex": [
       "\\begin{tabular}{r|lll}\n",
       " issue\\_d & last\\_pymnt\\_d & next\\_pymnt\\_d\\\\\n",
       "\\hline\n",
       "\t Dec-2011 & Jan-2015 &         \\\\\n",
       "\t Dec-2011 & Apr-2013 &         \\\\\n",
       "\t Dec-2011 & Jun-2014 &         \\\\\n",
       "\t Dec-2011 & Jan-2015 &         \\\\\n",
       "\t Dec-2011 & Jan-2016 & Feb-2016\\\\\n",
       "\t Dec-2011 & Jan-2015 &         \\\\\n",
       "\\end{tabular}\n"
      ],
      "text/markdown": [
       "\n",
       "issue_d | last_pymnt_d | next_pymnt_d | \n",
       "|---|---|---|---|---|---|\n",
       "| Dec-2011 | Jan-2015 |          | \n",
       "| Dec-2011 | Apr-2013 |          | \n",
       "| Dec-2011 | Jun-2014 |          | \n",
       "| Dec-2011 | Jan-2015 |          | \n",
       "| Dec-2011 | Jan-2016 | Feb-2016 | \n",
       "| Dec-2011 | Jan-2015 |          | \n",
       "\n",
       "\n"
      ],
      "text/plain": [
       "  issue_d  last_pymnt_d next_pymnt_d\n",
       "1 Dec-2011 Jan-2015                 \n",
       "2 Dec-2011 Apr-2013                 \n",
       "3 Dec-2011 Jun-2014                 \n",
       "4 Dec-2011 Jan-2015                 \n",
       "5 Dec-2011 Jan-2016     Feb-2016    \n",
       "6 Dec-2011 Jan-2015                 "
      ]
     },
     "metadata": {},
     "output_type": "display_data"
    }
   ],
   "source": [
    "head(loan[, c('issue_d', 'last_pymnt_d', 'next_pymnt_d')])"
   ]
  },
  {
   "cell_type": "code",
   "execution_count": 26,
   "metadata": {},
   "outputs": [],
   "source": [
    "# There are \"\" in the next_pymnt_d, why?"
   ]
  },
  {
   "cell_type": "code",
   "execution_count": 28,
   "metadata": {},
   "outputs": [
    {
     "data": {
      "text/plain": [
       "loan_status\n",
       "Charged Off  Fully Paid \n",
       "      45248      207723 "
      ]
     },
     "metadata": {},
     "output_type": "display_data"
    }
   ],
   "source": [
    "with(subset(loan,next_pymnt_d ==''),table(loan_status))"
   ]
  },
  {
   "cell_type": "code",
   "execution_count": 29,
   "metadata": {},
   "outputs": [],
   "source": [
    "#it is because the loan_status is charged off or fully paid"
   ]
  },
  {
   "cell_type": "code",
   "execution_count": 30,
   "metadata": {},
   "outputs": [
    {
     "data": {
      "text/plain": [
       "loan_status\n",
       "Charged Off \n",
       "        527 "
      ]
     },
     "metadata": {},
     "output_type": "display_data"
    }
   ],
   "source": [
    "with(subset(loan, next_pymnt_d == \"\" & last_pymnt_d == \"\"), table(loan_status)) # all charged off"
   ]
  },
  {
   "cell_type": "code",
   "execution_count": 31,
   "metadata": {},
   "outputs": [],
   "source": [
    "sub1 <- subset(loan, next_pymnt_d == \"\" & last_pymnt_d == \"\") # all charged off\n",
    "sub2 <- subset(loan, next_pymnt_d == \"\" & last_pymnt_d != \"\") # charged off or fully paid\n",
    "sub3 <- subset(loan, next_pymnt_d != \"\" & last_pymnt_d == \"\") # \n",
    "sub4 <- subset(loan, next_pymnt_d != \"\" & last_pymnt_d != \"\")"
   ]
  },
  {
   "cell_type": "code",
   "execution_count": 33,
   "metadata": {},
   "outputs": [
    {
     "data": {
      "text/plain": [
       "loan_status\n",
       "Charged Off \n",
       "        527 "
      ]
     },
     "metadata": {},
     "output_type": "display_data"
    }
   ],
   "source": [
    "with(sub1,table(loan_status))"
   ]
  },
  {
   "cell_type": "code",
   "execution_count": 34,
   "metadata": {},
   "outputs": [
    {
     "data": {
      "text/plain": [
       "loan_status\n",
       "Charged Off  Fully Paid \n",
       "      44721      207723 "
      ]
     },
     "metadata": {},
     "output_type": "display_data"
    }
   ],
   "source": [
    "with(sub2,table(loan_status))"
   ]
  },
  {
   "cell_type": "code",
   "execution_count": 36,
   "metadata": {},
   "outputs": [
    {
     "data": {
      "text/plain": [
       "loan_status\n",
       "                                            Current \n",
       "                                               8326 \n",
       "                                            Default \n",
       "                                                  9 \n",
       "Does not meet the credit policy. Status:Charged Off \n",
       "                                                 12 \n",
       "                                    In Grace Period \n",
       "                                                212 \n",
       "                                             Issued \n",
       "                                               8412 \n",
       "                                  Late (16-30 days) \n",
       "                                                 41 \n",
       "                                 Late (31-120 days) \n",
       "                                                120 "
      ]
     },
     "metadata": {},
     "output_type": "display_data"
    }
   ],
   "source": [
    "with(sub3,table(loan_status))"
   ]
  },
  {
   "cell_type": "code",
   "execution_count": 37,
   "metadata": {},
   "outputs": [
    {
     "data": {
      "text/plain": [
       "loan_status\n",
       "                                            Current \n",
       "                                             593453 \n",
       "                                            Default \n",
       "                                               1210 \n",
       "Does not meet the credit policy. Status:Charged Off \n",
       "                                                749 \n",
       " Does not meet the credit policy. Status:Fully Paid \n",
       "                                               1988 \n",
       "                                    In Grace Period \n",
       "                                               6041 \n",
       "                                             Issued \n",
       "                                                 48 \n",
       "                                  Late (16-30 days) \n",
       "                                               2316 \n",
       "                                 Late (31-120 days) \n",
       "                                              11471 "
      ]
     },
     "metadata": {},
     "output_type": "display_data"
    }
   ],
   "source": [
    "with(sub4,table(loan_status))"
   ]
  },
  {
   "cell_type": "markdown",
   "metadata": {},
   "source": [
    "explore date"
   ]
  },
  {
   "cell_type": "code",
   "execution_count": 38,
   "metadata": {},
   "outputs": [
    {
     "name": "stderr",
     "output_type": "stream",
     "text": [
      "Warning message:\n",
      "\"package 'zoo' was built under R version 3.4.3\"\n",
      "Attaching package: 'zoo'\n",
      "\n",
      "The following objects are masked from 'package:base':\n",
      "\n",
      "    as.Date, as.Date.numeric\n",
      "\n"
     ]
    },
    {
     "data": {
      "text/html": [
       "<ol class=list-inline>\n",
       "\t<li>'Dec-2011'</li>\n",
       "\t<li>'Dec-2011'</li>\n",
       "\t<li>'Dec-2011'</li>\n",
       "\t<li>'Dec-2011'</li>\n",
       "\t<li>'Dec-2011'</li>\n",
       "\t<li>'Dec-2011'</li>\n",
       "</ol>\n"
      ],
      "text/latex": [
       "\\begin{enumerate*}\n",
       "\\item 'Dec-2011'\n",
       "\\item 'Dec-2011'\n",
       "\\item 'Dec-2011'\n",
       "\\item 'Dec-2011'\n",
       "\\item 'Dec-2011'\n",
       "\\item 'Dec-2011'\n",
       "\\end{enumerate*}\n"
      ],
      "text/markdown": [
       "1. 'Dec-2011'\n",
       "2. 'Dec-2011'\n",
       "3. 'Dec-2011'\n",
       "4. 'Dec-2011'\n",
       "5. 'Dec-2011'\n",
       "6. 'Dec-2011'\n",
       "\n",
       "\n"
      ],
      "text/plain": [
       "[1] \"Dec-2011\" \"Dec-2011\" \"Dec-2011\" \"Dec-2011\" \"Dec-2011\" \"Dec-2011\""
      ]
     },
     "metadata": {},
     "output_type": "display_data"
    }
   ],
   "source": [
    "library(zoo)\n",
    "head(loan$issue_d)"
   ]
  },
  {
   "cell_type": "code",
   "execution_count": 41,
   "metadata": {},
   "outputs": [],
   "source": [
    "loan$issue_d_1 <- as.Date(as.yearmon(loan$issue_d, \"%b-%Y\"))\n",
    "loan$issue_year <- format(loan$issue_d_1, '%Y')\n",
    "loan$issue_mon <- format(loan$issue_d_1, '%m')"
   ]
  },
  {
   "cell_type": "code",
   "execution_count": 42,
   "metadata": {},
   "outputs": [
    {
     "data": {
      "image/png": "[encoded data removed]",
      "text/plain": [
       "plot without title"
      ]
     },
     "metadata": {},
     "output_type": "display_data"
    }
   ],
   "source": [
    "int.rate.by.time <- by(loan, loan$issue_d_1, function(x) {return(median(x$int_rate))})\n",
    "plot(as.Date(names(int.rate.by.time)), int.rate.by.time, type = 'l')"
   ]
  },
  {
   "cell_type": "code",
   "execution_count": 43,
   "metadata": {},
   "outputs": [
    {
     "data": {
      "image/png": "[encoded data removed]",
      "text/plain": [
       "plot without title"
      ]
     },
     "metadata": {},
     "output_type": "display_data"
    }
   ],
   "source": [
    "int.rate.by.year <- by(loan, loan$issue_year, function(x) {return(median(x$int_rate))})\n",
    "plot(names(int.rate.by.year), int.rate.by.year, type = 'l')"
   ]
  },
  {
   "cell_type": "code",
   "execution_count": 44,
   "metadata": {},
   "outputs": [
    {
     "data": {
      "image/png": "[encoded data removed]",
      "text/plain": [
       "plot without title"
      ]
     },
     "metadata": {},
     "output_type": "display_data"
    }
   ],
   "source": [
    "int.rate.by.month <- by(loan, loan$issue_mon, function(x) {return(median(x$int_rate))})\n",
    "plot(names(int.rate.by.month), int.rate.by.month, type = 'l')"
   ]
  },
  {
   "cell_type": "code",
   "execution_count": 46,
   "metadata": {},
   "outputs": [],
   "source": [
    "#now we want to see the distribution by times"
   ]
  },
  {
   "cell_type": "code",
   "execution_count": 45,
   "metadata": {},
   "outputs": [
    {
     "data": {},
     "metadata": {},
     "output_type": "display_data"
    },
    {
     "data": {
      "image/png": "[encoded data removed]",
      "text/plain": [
       "plot without title"
      ]
     },
     "metadata": {},
     "output_type": "display_data"
    }
   ],
   "source": [
    "library(lattice)\n",
    "bwplot(int_rate ~ issue_year, data = loan)"
   ]
  },
  {
   "cell_type": "code",
   "execution_count": 47,
   "metadata": {},
   "outputs": [
    {
     "data": {
      "image/png": "[encoded data removed]",
      "text/plain": [
       "plot without title"
      ]
     },
     "metadata": {},
     "output_type": "display_data"
    }
   ],
   "source": [
    "num.loans <- by(loan, loan$issue_year, function(x) {return(dim(x)[1])})\n",
    "plot(names(num.loans), num.loans, type = 'l')"
   ]
  },
  {
   "cell_type": "code",
   "execution_count": 48,
   "metadata": {},
   "outputs": [],
   "source": [
    "#the number of loans is increasing by times"
   ]
  },
  {
   "cell_type": "code",
   "execution_count": 52,
   "metadata": {},
   "outputs": [
    {
     "data": {
      "text/plain": [
       "Number of cases in table: 634408 \n",
       "Number of factors: 1 "
      ]
     },
     "metadata": {},
     "output_type": "display_data"
    }
   ],
   "source": [
    "loan$issue_d_1 <- as.Date(as.yearmon(loan$issue_d, \"%b-%Y\"))\n",
    "loan$next_pymnt_d_1 <- as.Date(as.yearmon(loan$next_pymnt_d, \"%b-%Y\"))\n",
    "loan$last_pymnt_d_1 <- as.Date(as.yearmon(loan$last_pymnt_d, \"%b-%Y\"))\n",
    "loan$days_since_issue <- as.numeric(with(loan, next_pymnt_d_1 - issue_d_1))\n",
    "summary(table(loan$days_since_issue)) # so each loan's data is collected at different time point.\n",
    "loan$months_since_issue <- as.integer(with(loan, next_pymnt_d_1 - issue_d_1)/31)"
   ]
  },
  {
   "cell_type": "code",
   "execution_count": 53,
   "metadata": {},
   "outputs": [],
   "source": [
    "loan$days_two_pymnt <- as.integer(with(loan, next_pymnt_d_1 - last_pymnt_d_1))"
   ]
  },
  {
   "cell_type": "code",
   "execution_count": 54,
   "metadata": {},
   "outputs": [
    {
     "data": {
      "text/plain": [
       "\n",
       "     0     28     29     30     31     60     61     62     90     91     92 \n",
       " 36848    117     29    519 463195     24    395 105418      5     39   3408 \n",
       "   120    121    122    123    150    151    152    153    181    182    183 \n",
       "    21     12    345   3042     20     93     13   2514     17     11     10 \n",
       "   184    212    214    242    243    244    245    273    274    275    276 \n",
       "  1013     12     25      9      8      6      8      9      2     10      1 \n",
       "   303    304    306    334    335    365    366    395    396    426    454 \n",
       "     3     15      1      9      3      8      3      5      2      8      1 \n",
       "   456    457    487    548    579    609    610    699 \n",
       "     6      5      3      1      1      1      1      2 "
      ]
     },
     "metadata": {},
     "output_type": "display_data"
    }
   ],
   "source": [
    "table(loan$days_two_pymnt)"
   ]
  },
  {
   "cell_type": "code",
   "execution_count": 56,
   "metadata": {},
   "outputs": [
    {
     "data": {
      "text/plain": [
       "loan_status\n",
       "Does not meet the credit policy. Status:Charged Off \n",
       "                                                  2 "
      ]
     },
     "metadata": {},
     "output_type": "display_data"
    }
   ],
   "source": [
    "with(subset(loan,days_two_pymnt==699),table(loan_status))#charged off"
   ]
  },
  {
   "cell_type": "code",
   "execution_count": 61,
   "metadata": {},
   "outputs": [
    {
     "data": {
      "text/plain": [
       "loan_status\n",
       "Does not meet the credit policy. Status:Charged Off \n",
       "                                                  2 \n",
       " Does not meet the credit policy. Status:Fully Paid \n",
       "                                                517 "
      ]
     },
     "metadata": {},
     "output_type": "display_data"
    }
   ],
   "source": [
    "with(subset(loan,days_two_pymnt==30),table(loan_status))#charged off"
   ]
  },
  {
   "cell_type": "code",
   "execution_count": 62,
   "metadata": {},
   "outputs": [],
   "source": [
    "bad.loan.by.month <- by(loan, loan$months_since_issue, function(x){\n",
    "  return(dim(subset(x, loan_status %in% c('Charged Off', 'Default', 'Late (16-30 days)',\n",
    "                                          'Late (31-120 days)')))[1]/dim(x)[1])})"
   ]
  },
  {
   "cell_type": "code",
   "execution_count": 63,
   "metadata": {},
   "outputs": [
    {
     "data": {
      "image/png": "[encoded data removed]",
      "text/plain": [
       "plot without title"
      ]
     },
     "metadata": {},
     "output_type": "display_data"
    }
   ],
   "source": [
    "plot(bad.loan.by.month)# At the end, bad loan rate is crazy, why? Data too few, large noise."
   ]
  },
  {
   "cell_type": "code",
   "execution_count": 66,
   "metadata": {},
   "outputs": [
    {
     "data": {
      "image/png": "[encoded data removed]",
      "text/plain": [
       "plot without title"
      ]
     },
     "metadata": {},
     "output_type": "display_data"
    }
   ],
   "source": [
    "loan$months_since_issue[which(loan$months_since_issue >= 40)] <- 40\n",
    "bad.loan.by.month <- by(loan, loan$months_since_issue, function(x){\n",
    "  return(dim(subset(x, loan_status %in% c('Charged Off', 'Default', 'Late (16-30 days)',\n",
    "                                          'Late (31-120 days)')))[1]/dim(x)[1])})\n",
    "plot(bad.loan.by.month)"
   ]
  },
  {
   "cell_type": "code",
   "execution_count": 67,
   "metadata": {},
   "outputs": [
    {
     "data": {
      "image/png": "[encoded data removed]",
      "text/plain": [
       "plot without title"
      ]
     },
     "metadata": {},
     "output_type": "display_data"
    }
   ],
   "source": [
    "loan$days_btwn_pymnts <- as.numeric(with(loan, next_pymnt_d_1 - last_pymnt_d_1)) # if NA, cuz missing next_pymnt_d\n",
    "barplot(table(cut(loan$days_btwn_pymnts,\n",
    "                  breaks = c(-1, 31, 62, 93, 184, 365, 1000))))"
   ]
  }
 ],
 "metadata": {
  "kernelspec": {
   "display_name": "R",
   "language": "R",
   "name": "ir"
  },
  "language_info": {
   "codemirror_mode": "r",
   "file_extension": ".r",
   "mimetype": "text/x-r-source",
   "name": "R",
   "pygments_lexer": "r",
   "version": "3.4.2"
  }
 },
 "nbformat": 4,
 "nbformat_minor": 2
}
